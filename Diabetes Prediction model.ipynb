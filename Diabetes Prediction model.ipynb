{
  "nbformat": 4,
  "nbformat_minor": 0,
  "metadata": {
    "colab": {
      "provenance": []
    },
    "kernelspec": {
      "name": "python3",
      "display_name": "Python 3"
    },
    "language_info": {
      "name": "python"
    },
    "widgets": {
      "application/vnd.jupyter.widget-state+json": {
        "0257a76ee48e44eb90a62ec9ea3e2f51": {
          "model_module": "@jupyter-widgets/controls",
          "model_name": "HBoxModel",
          "model_module_version": "1.5.0",
          "state": {
            "_dom_classes": [],
            "_model_module": "@jupyter-widgets/controls",
            "_model_module_version": "1.5.0",
            "_model_name": "HBoxModel",
            "_view_count": null,
            "_view_module": "@jupyter-widgets/controls",
            "_view_module_version": "1.5.0",
            "_view_name": "HBoxView",
            "box_style": "",
            "children": [
              "IPY_MODEL_df739e2e7e244279a110d54d7af78a7e",
              "IPY_MODEL_e1d6ea46ca7048a7bce365d8aba52f5a",
              "IPY_MODEL_5482791372f24309a4117036ff0442d3"
            ],
            "layout": "IPY_MODEL_52af4f050b3e4da9b7c6a518af7f192b"
          }
        },
        "df739e2e7e244279a110d54d7af78a7e": {
          "model_module": "@jupyter-widgets/controls",
          "model_name": "HTMLModel",
          "model_module_version": "1.5.0",
          "state": {
            "_dom_classes": [],
            "_model_module": "@jupyter-widgets/controls",
            "_model_module_version": "1.5.0",
            "_model_name": "HTMLModel",
            "_view_count": null,
            "_view_module": "@jupyter-widgets/controls",
            "_view_module_version": "1.5.0",
            "_view_name": "HTMLView",
            "description": "",
            "description_tooltip": null,
            "layout": "IPY_MODEL_95b7614ae2574296938ec0c656fb0042",
            "placeholder": "​",
            "style": "IPY_MODEL_9d84d543cf7d4d26867b6a6b180bbec5",
            "value": "Processing: 100%"
          }
        },
        "e1d6ea46ca7048a7bce365d8aba52f5a": {
          "model_module": "@jupyter-widgets/controls",
          "model_name": "FloatProgressModel",
          "model_module_version": "1.5.0",
          "state": {
            "_dom_classes": [],
            "_model_module": "@jupyter-widgets/controls",
            "_model_module_version": "1.5.0",
            "_model_name": "FloatProgressModel",
            "_view_count": null,
            "_view_module": "@jupyter-widgets/controls",
            "_view_module_version": "1.5.0",
            "_view_name": "ProgressView",
            "bar_style": "",
            "description": "",
            "description_tooltip": null,
            "layout": "IPY_MODEL_490312ba4ac949059fb0d417d79c1ac7",
            "max": 65,
            "min": 0,
            "orientation": "horizontal",
            "style": "IPY_MODEL_bdd5fc880abd4adca2b1f1d4d8383cd1",
            "value": 65
          }
        },
        "5482791372f24309a4117036ff0442d3": {
          "model_module": "@jupyter-widgets/controls",
          "model_name": "HTMLModel",
          "model_module_version": "1.5.0",
          "state": {
            "_dom_classes": [],
            "_model_module": "@jupyter-widgets/controls",
            "_model_module_version": "1.5.0",
            "_model_name": "HTMLModel",
            "_view_count": null,
            "_view_module": "@jupyter-widgets/controls",
            "_view_module_version": "1.5.0",
            "_view_name": "HTMLView",
            "description": "",
            "description_tooltip": null,
            "layout": "IPY_MODEL_1803c688d8624863a22af7c3afffd9fa",
            "placeholder": "​",
            "style": "IPY_MODEL_6dcbfbc71a5742ae9851b512bb62c3b7",
            "value": " 65/65 [00:25&lt;00:00,  3.87it/s]"
          }
        },
        "52af4f050b3e4da9b7c6a518af7f192b": {
          "model_module": "@jupyter-widgets/base",
          "model_name": "LayoutModel",
          "model_module_version": "1.2.0",
          "state": {
            "_model_module": "@jupyter-widgets/base",
            "_model_module_version": "1.2.0",
            "_model_name": "LayoutModel",
            "_view_count": null,
            "_view_module": "@jupyter-widgets/base",
            "_view_module_version": "1.2.0",
            "_view_name": "LayoutView",
            "align_content": null,
            "align_items": null,
            "align_self": null,
            "border": null,
            "bottom": null,
            "display": null,
            "flex": null,
            "flex_flow": null,
            "grid_area": null,
            "grid_auto_columns": null,
            "grid_auto_flow": null,
            "grid_auto_rows": null,
            "grid_column": null,
            "grid_gap": null,
            "grid_row": null,
            "grid_template_areas": null,
            "grid_template_columns": null,
            "grid_template_rows": null,
            "height": null,
            "justify_content": null,
            "justify_items": null,
            "left": null,
            "margin": null,
            "max_height": null,
            "max_width": null,
            "min_height": null,
            "min_width": null,
            "object_fit": null,
            "object_position": null,
            "order": null,
            "overflow": null,
            "overflow_x": null,
            "overflow_y": null,
            "padding": null,
            "right": null,
            "top": null,
            "visibility": "hidden",
            "width": null
          }
        },
        "95b7614ae2574296938ec0c656fb0042": {
          "model_module": "@jupyter-widgets/base",
          "model_name": "LayoutModel",
          "model_module_version": "1.2.0",
          "state": {
            "_model_module": "@jupyter-widgets/base",
            "_model_module_version": "1.2.0",
            "_model_name": "LayoutModel",
            "_view_count": null,
            "_view_module": "@jupyter-widgets/base",
            "_view_module_version": "1.2.0",
            "_view_name": "LayoutView",
            "align_content": null,
            "align_items": null,
            "align_self": null,
            "border": null,
            "bottom": null,
            "display": null,
            "flex": null,
            "flex_flow": null,
            "grid_area": null,
            "grid_auto_columns": null,
            "grid_auto_flow": null,
            "grid_auto_rows": null,
            "grid_column": null,
            "grid_gap": null,
            "grid_row": null,
            "grid_template_areas": null,
            "grid_template_columns": null,
            "grid_template_rows": null,
            "height": null,
            "justify_content": null,
            "justify_items": null,
            "left": null,
            "margin": null,
            "max_height": null,
            "max_width": null,
            "min_height": null,
            "min_width": null,
            "object_fit": null,
            "object_position": null,
            "order": null,
            "overflow": null,
            "overflow_x": null,
            "overflow_y": null,
            "padding": null,
            "right": null,
            "top": null,
            "visibility": null,
            "width": null
          }
        },
        "9d84d543cf7d4d26867b6a6b180bbec5": {
          "model_module": "@jupyter-widgets/controls",
          "model_name": "DescriptionStyleModel",
          "model_module_version": "1.5.0",
          "state": {
            "_model_module": "@jupyter-widgets/controls",
            "_model_module_version": "1.5.0",
            "_model_name": "DescriptionStyleModel",
            "_view_count": null,
            "_view_module": "@jupyter-widgets/base",
            "_view_module_version": "1.2.0",
            "_view_name": "StyleView",
            "description_width": ""
          }
        },
        "490312ba4ac949059fb0d417d79c1ac7": {
          "model_module": "@jupyter-widgets/base",
          "model_name": "LayoutModel",
          "model_module_version": "1.2.0",
          "state": {
            "_model_module": "@jupyter-widgets/base",
            "_model_module_version": "1.2.0",
            "_model_name": "LayoutModel",
            "_view_count": null,
            "_view_module": "@jupyter-widgets/base",
            "_view_module_version": "1.2.0",
            "_view_name": "LayoutView",
            "align_content": null,
            "align_items": null,
            "align_self": null,
            "border": null,
            "bottom": null,
            "display": null,
            "flex": null,
            "flex_flow": null,
            "grid_area": null,
            "grid_auto_columns": null,
            "grid_auto_flow": null,
            "grid_auto_rows": null,
            "grid_column": null,
            "grid_gap": null,
            "grid_row": null,
            "grid_template_areas": null,
            "grid_template_columns": null,
            "grid_template_rows": null,
            "height": null,
            "justify_content": null,
            "justify_items": null,
            "left": null,
            "margin": null,
            "max_height": null,
            "max_width": null,
            "min_height": null,
            "min_width": null,
            "object_fit": null,
            "object_position": null,
            "order": null,
            "overflow": null,
            "overflow_x": null,
            "overflow_y": null,
            "padding": null,
            "right": null,
            "top": null,
            "visibility": null,
            "width": null
          }
        },
        "bdd5fc880abd4adca2b1f1d4d8383cd1": {
          "model_module": "@jupyter-widgets/controls",
          "model_name": "ProgressStyleModel",
          "model_module_version": "1.5.0",
          "state": {
            "_model_module": "@jupyter-widgets/controls",
            "_model_module_version": "1.5.0",
            "_model_name": "ProgressStyleModel",
            "_view_count": null,
            "_view_module": "@jupyter-widgets/base",
            "_view_module_version": "1.2.0",
            "_view_name": "StyleView",
            "bar_color": null,
            "description_width": ""
          }
        },
        "1803c688d8624863a22af7c3afffd9fa": {
          "model_module": "@jupyter-widgets/base",
          "model_name": "LayoutModel",
          "model_module_version": "1.2.0",
          "state": {
            "_model_module": "@jupyter-widgets/base",
            "_model_module_version": "1.2.0",
            "_model_name": "LayoutModel",
            "_view_count": null,
            "_view_module": "@jupyter-widgets/base",
            "_view_module_version": "1.2.0",
            "_view_name": "LayoutView",
            "align_content": null,
            "align_items": null,
            "align_self": null,
            "border": null,
            "bottom": null,
            "display": null,
            "flex": null,
            "flex_flow": null,
            "grid_area": null,
            "grid_auto_columns": null,
            "grid_auto_flow": null,
            "grid_auto_rows": null,
            "grid_column": null,
            "grid_gap": null,
            "grid_row": null,
            "grid_template_areas": null,
            "grid_template_columns": null,
            "grid_template_rows": null,
            "height": null,
            "justify_content": null,
            "justify_items": null,
            "left": null,
            "margin": null,
            "max_height": null,
            "max_width": null,
            "min_height": null,
            "min_width": null,
            "object_fit": null,
            "object_position": null,
            "order": null,
            "overflow": null,
            "overflow_x": null,
            "overflow_y": null,
            "padding": null,
            "right": null,
            "top": null,
            "visibility": null,
            "width": null
          }
        },
        "6dcbfbc71a5742ae9851b512bb62c3b7": {
          "model_module": "@jupyter-widgets/controls",
          "model_name": "DescriptionStyleModel",
          "model_module_version": "1.5.0",
          "state": {
            "_model_module": "@jupyter-widgets/controls",
            "_model_module_version": "1.5.0",
            "_model_name": "DescriptionStyleModel",
            "_view_count": null,
            "_view_module": "@jupyter-widgets/base",
            "_view_module_version": "1.2.0",
            "_view_name": "StyleView",
            "description_width": ""
          }
        },
        "27054ac916d643a2996cc14993489777": {
          "model_module": "@jupyter-widgets/controls",
          "model_name": "HBoxModel",
          "model_module_version": "1.5.0",
          "state": {
            "_dom_classes": [],
            "_model_module": "@jupyter-widgets/controls",
            "_model_module_version": "1.5.0",
            "_model_name": "HBoxModel",
            "_view_count": null,
            "_view_module": "@jupyter-widgets/controls",
            "_view_module_version": "1.5.0",
            "_view_name": "HBoxView",
            "box_style": "",
            "children": [
              "IPY_MODEL_4f128fd061df4e28826a3eb5ec41a2b0",
              "IPY_MODEL_7d10489a623245188d4b173e8648c034",
              "IPY_MODEL_f3ecb0e2ca2849c8a974d41e8b701fe2"
            ],
            "layout": "IPY_MODEL_f274fc2b54204e4e865d7e378d073e46"
          }
        },
        "4f128fd061df4e28826a3eb5ec41a2b0": {
          "model_module": "@jupyter-widgets/controls",
          "model_name": "HTMLModel",
          "model_module_version": "1.5.0",
          "state": {
            "_dom_classes": [],
            "_model_module": "@jupyter-widgets/controls",
            "_model_module_version": "1.5.0",
            "_model_name": "HTMLModel",
            "_view_count": null,
            "_view_module": "@jupyter-widgets/controls",
            "_view_module_version": "1.5.0",
            "_view_name": "HTMLView",
            "description": "",
            "description_tooltip": null,
            "layout": "IPY_MODEL_fc72b485bd984c24a36da94ad8e61ca6",
            "placeholder": "​",
            "style": "IPY_MODEL_a1969606f5c54fd68d4318a0d00b01d3",
            "value": "Processing:  75%"
          }
        },
        "7d10489a623245188d4b173e8648c034": {
          "model_module": "@jupyter-widgets/controls",
          "model_name": "FloatProgressModel",
          "model_module_version": "1.5.0",
          "state": {
            "_dom_classes": [],
            "_model_module": "@jupyter-widgets/controls",
            "_model_module_version": "1.5.0",
            "_model_name": "FloatProgressModel",
            "_view_count": null,
            "_view_module": "@jupyter-widgets/controls",
            "_view_module_version": "1.5.0",
            "_view_name": "ProgressView",
            "bar_style": "",
            "description": "",
            "description_tooltip": null,
            "layout": "IPY_MODEL_1c5e279ea305462ca174ec4cee4173b0",
            "max": 4,
            "min": 0,
            "orientation": "horizontal",
            "style": "IPY_MODEL_af5777067afb4a32aa494443a7fcfd87",
            "value": 4
          }
        },
        "f3ecb0e2ca2849c8a974d41e8b701fe2": {
          "model_module": "@jupyter-widgets/controls",
          "model_name": "HTMLModel",
          "model_module_version": "1.5.0",
          "state": {
            "_dom_classes": [],
            "_model_module": "@jupyter-widgets/controls",
            "_model_module_version": "1.5.0",
            "_model_name": "HTMLModel",
            "_view_count": null,
            "_view_module": "@jupyter-widgets/controls",
            "_view_module_version": "1.5.0",
            "_view_name": "HTMLView",
            "description": "",
            "description_tooltip": null,
            "layout": "IPY_MODEL_d117779949694752af7f699ecd6130e9",
            "placeholder": "​",
            "style": "IPY_MODEL_9f3f6fdb25f948e5929ec6937754f38b",
            "value": " 3/4 [00:01&lt;00:00,  2.71it/s]"
          }
        },
        "f274fc2b54204e4e865d7e378d073e46": {
          "model_module": "@jupyter-widgets/base",
          "model_name": "LayoutModel",
          "model_module_version": "1.2.0",
          "state": {
            "_model_module": "@jupyter-widgets/base",
            "_model_module_version": "1.2.0",
            "_model_name": "LayoutModel",
            "_view_count": null,
            "_view_module": "@jupyter-widgets/base",
            "_view_module_version": "1.2.0",
            "_view_name": "LayoutView",
            "align_content": null,
            "align_items": null,
            "align_self": null,
            "border": null,
            "bottom": null,
            "display": null,
            "flex": null,
            "flex_flow": null,
            "grid_area": null,
            "grid_auto_columns": null,
            "grid_auto_flow": null,
            "grid_auto_rows": null,
            "grid_column": null,
            "grid_gap": null,
            "grid_row": null,
            "grid_template_areas": null,
            "grid_template_columns": null,
            "grid_template_rows": null,
            "height": null,
            "justify_content": null,
            "justify_items": null,
            "left": null,
            "margin": null,
            "max_height": null,
            "max_width": null,
            "min_height": null,
            "min_width": null,
            "object_fit": null,
            "object_position": null,
            "order": null,
            "overflow": null,
            "overflow_x": null,
            "overflow_y": null,
            "padding": null,
            "right": null,
            "top": null,
            "visibility": "hidden",
            "width": null
          }
        },
        "fc72b485bd984c24a36da94ad8e61ca6": {
          "model_module": "@jupyter-widgets/base",
          "model_name": "LayoutModel",
          "model_module_version": "1.2.0",
          "state": {
            "_model_module": "@jupyter-widgets/base",
            "_model_module_version": "1.2.0",
            "_model_name": "LayoutModel",
            "_view_count": null,
            "_view_module": "@jupyter-widgets/base",
            "_view_module_version": "1.2.0",
            "_view_name": "LayoutView",
            "align_content": null,
            "align_items": null,
            "align_self": null,
            "border": null,
            "bottom": null,
            "display": null,
            "flex": null,
            "flex_flow": null,
            "grid_area": null,
            "grid_auto_columns": null,
            "grid_auto_flow": null,
            "grid_auto_rows": null,
            "grid_column": null,
            "grid_gap": null,
            "grid_row": null,
            "grid_template_areas": null,
            "grid_template_columns": null,
            "grid_template_rows": null,
            "height": null,
            "justify_content": null,
            "justify_items": null,
            "left": null,
            "margin": null,
            "max_height": null,
            "max_width": null,
            "min_height": null,
            "min_width": null,
            "object_fit": null,
            "object_position": null,
            "order": null,
            "overflow": null,
            "overflow_x": null,
            "overflow_y": null,
            "padding": null,
            "right": null,
            "top": null,
            "visibility": null,
            "width": null
          }
        },
        "a1969606f5c54fd68d4318a0d00b01d3": {
          "model_module": "@jupyter-widgets/controls",
          "model_name": "DescriptionStyleModel",
          "model_module_version": "1.5.0",
          "state": {
            "_model_module": "@jupyter-widgets/controls",
            "_model_module_version": "1.5.0",
            "_model_name": "DescriptionStyleModel",
            "_view_count": null,
            "_view_module": "@jupyter-widgets/base",
            "_view_module_version": "1.2.0",
            "_view_name": "StyleView",
            "description_width": ""
          }
        },
        "1c5e279ea305462ca174ec4cee4173b0": {
          "model_module": "@jupyter-widgets/base",
          "model_name": "LayoutModel",
          "model_module_version": "1.2.0",
          "state": {
            "_model_module": "@jupyter-widgets/base",
            "_model_module_version": "1.2.0",
            "_model_name": "LayoutModel",
            "_view_count": null,
            "_view_module": "@jupyter-widgets/base",
            "_view_module_version": "1.2.0",
            "_view_name": "LayoutView",
            "align_content": null,
            "align_items": null,
            "align_self": null,
            "border": null,
            "bottom": null,
            "display": null,
            "flex": null,
            "flex_flow": null,
            "grid_area": null,
            "grid_auto_columns": null,
            "grid_auto_flow": null,
            "grid_auto_rows": null,
            "grid_column": null,
            "grid_gap": null,
            "grid_row": null,
            "grid_template_areas": null,
            "grid_template_columns": null,
            "grid_template_rows": null,
            "height": null,
            "justify_content": null,
            "justify_items": null,
            "left": null,
            "margin": null,
            "max_height": null,
            "max_width": null,
            "min_height": null,
            "min_width": null,
            "object_fit": null,
            "object_position": null,
            "order": null,
            "overflow": null,
            "overflow_x": null,
            "overflow_y": null,
            "padding": null,
            "right": null,
            "top": null,
            "visibility": null,
            "width": null
          }
        },
        "af5777067afb4a32aa494443a7fcfd87": {
          "model_module": "@jupyter-widgets/controls",
          "model_name": "ProgressStyleModel",
          "model_module_version": "1.5.0",
          "state": {
            "_model_module": "@jupyter-widgets/controls",
            "_model_module_version": "1.5.0",
            "_model_name": "ProgressStyleModel",
            "_view_count": null,
            "_view_module": "@jupyter-widgets/base",
            "_view_module_version": "1.2.0",
            "_view_name": "StyleView",
            "bar_color": null,
            "description_width": ""
          }
        },
        "d117779949694752af7f699ecd6130e9": {
          "model_module": "@jupyter-widgets/base",
          "model_name": "LayoutModel",
          "model_module_version": "1.2.0",
          "state": {
            "_model_module": "@jupyter-widgets/base",
            "_model_module_version": "1.2.0",
            "_model_name": "LayoutModel",
            "_view_count": null,
            "_view_module": "@jupyter-widgets/base",
            "_view_module_version": "1.2.0",
            "_view_name": "LayoutView",
            "align_content": null,
            "align_items": null,
            "align_self": null,
            "border": null,
            "bottom": null,
            "display": null,
            "flex": null,
            "flex_flow": null,
            "grid_area": null,
            "grid_auto_columns": null,
            "grid_auto_flow": null,
            "grid_auto_rows": null,
            "grid_column": null,
            "grid_gap": null,
            "grid_row": null,
            "grid_template_areas": null,
            "grid_template_columns": null,
            "grid_template_rows": null,
            "height": null,
            "justify_content": null,
            "justify_items": null,
            "left": null,
            "margin": null,
            "max_height": null,
            "max_width": null,
            "min_height": null,
            "min_width": null,
            "object_fit": null,
            "object_position": null,
            "order": null,
            "overflow": null,
            "overflow_x": null,
            "overflow_y": null,
            "padding": null,
            "right": null,
            "top": null,
            "visibility": null,
            "width": null
          }
        },
        "9f3f6fdb25f948e5929ec6937754f38b": {
          "model_module": "@jupyter-widgets/controls",
          "model_name": "DescriptionStyleModel",
          "model_module_version": "1.5.0",
          "state": {
            "_model_module": "@jupyter-widgets/controls",
            "_model_module_version": "1.5.0",
            "_model_name": "DescriptionStyleModel",
            "_view_count": null,
            "_view_module": "@jupyter-widgets/base",
            "_view_module_version": "1.2.0",
            "_view_name": "StyleView",
            "description_width": ""
          }
        },
        "2b002fcc7d3d4347b3cef08f9813e5fc": {
          "model_module": "@jupyter-widgets/controls",
          "model_name": "HBoxModel",
          "model_module_version": "1.5.0",
          "state": {
            "_dom_classes": [],
            "_model_module": "@jupyter-widgets/controls",
            "_model_module_version": "1.5.0",
            "_model_name": "HBoxModel",
            "_view_count": null,
            "_view_module": "@jupyter-widgets/controls",
            "_view_module_version": "1.5.0",
            "_view_name": "HBoxView",
            "box_style": "",
            "children": [
              "IPY_MODEL_b0756bccd47c4b229a08f64d0bd8929a",
              "IPY_MODEL_6c0a2561139b4030aa60ef553133e0bd",
              "IPY_MODEL_b31e547e60ba4345a573230301060407"
            ],
            "layout": "IPY_MODEL_22c0c4f60f504719b0191255bc9ade24"
          }
        },
        "b0756bccd47c4b229a08f64d0bd8929a": {
          "model_module": "@jupyter-widgets/controls",
          "model_name": "HTMLModel",
          "model_module_version": "1.5.0",
          "state": {
            "_dom_classes": [],
            "_model_module": "@jupyter-widgets/controls",
            "_model_module_version": "1.5.0",
            "_model_name": "HTMLModel",
            "_view_count": null,
            "_view_module": "@jupyter-widgets/controls",
            "_view_module_version": "1.5.0",
            "_view_name": "HTMLView",
            "description": "",
            "description_tooltip": null,
            "layout": "IPY_MODEL_c3f75b0b2a4a4868948fae42c2168fd7",
            "placeholder": "​",
            "style": "IPY_MODEL_0fb9aa2d31b843d9a07878084208e140",
            "value": "Processing: 100%"
          }
        },
        "6c0a2561139b4030aa60ef553133e0bd": {
          "model_module": "@jupyter-widgets/controls",
          "model_name": "FloatProgressModel",
          "model_module_version": "1.5.0",
          "state": {
            "_dom_classes": [],
            "_model_module": "@jupyter-widgets/controls",
            "_model_module_version": "1.5.0",
            "_model_name": "FloatProgressModel",
            "_view_count": null,
            "_view_module": "@jupyter-widgets/controls",
            "_view_module_version": "1.5.0",
            "_view_name": "ProgressView",
            "bar_style": "",
            "description": "",
            "description_tooltip": null,
            "layout": "IPY_MODEL_0b648bcb5bef450ea475004e6f67d5cb",
            "max": 7,
            "min": 0,
            "orientation": "horizontal",
            "style": "IPY_MODEL_fe43da98e8b44c58ac64e2b1fe7bd3e0",
            "value": 7
          }
        },
        "b31e547e60ba4345a573230301060407": {
          "model_module": "@jupyter-widgets/controls",
          "model_name": "HTMLModel",
          "model_module_version": "1.5.0",
          "state": {
            "_dom_classes": [],
            "_model_module": "@jupyter-widgets/controls",
            "_model_module_version": "1.5.0",
            "_model_name": "HTMLModel",
            "_view_count": null,
            "_view_module": "@jupyter-widgets/controls",
            "_view_module_version": "1.5.0",
            "_view_name": "HTMLView",
            "description": "",
            "description_tooltip": null,
            "layout": "IPY_MODEL_06a297a19bde4605bee9300e1c960ec3",
            "placeholder": "​",
            "style": "IPY_MODEL_a05257421894417aa622e1f89458db28",
            "value": " 7/7 [05:35&lt;00:00, 36.11s/it]"
          }
        },
        "22c0c4f60f504719b0191255bc9ade24": {
          "model_module": "@jupyter-widgets/base",
          "model_name": "LayoutModel",
          "model_module_version": "1.2.0",
          "state": {
            "_model_module": "@jupyter-widgets/base",
            "_model_module_version": "1.2.0",
            "_model_name": "LayoutModel",
            "_view_count": null,
            "_view_module": "@jupyter-widgets/base",
            "_view_module_version": "1.2.0",
            "_view_name": "LayoutView",
            "align_content": null,
            "align_items": null,
            "align_self": null,
            "border": null,
            "bottom": null,
            "display": null,
            "flex": null,
            "flex_flow": null,
            "grid_area": null,
            "grid_auto_columns": null,
            "grid_auto_flow": null,
            "grid_auto_rows": null,
            "grid_column": null,
            "grid_gap": null,
            "grid_row": null,
            "grid_template_areas": null,
            "grid_template_columns": null,
            "grid_template_rows": null,
            "height": null,
            "justify_content": null,
            "justify_items": null,
            "left": null,
            "margin": null,
            "max_height": null,
            "max_width": null,
            "min_height": null,
            "min_width": null,
            "object_fit": null,
            "object_position": null,
            "order": null,
            "overflow": null,
            "overflow_x": null,
            "overflow_y": null,
            "padding": null,
            "right": null,
            "top": null,
            "visibility": "hidden",
            "width": null
          }
        },
        "c3f75b0b2a4a4868948fae42c2168fd7": {
          "model_module": "@jupyter-widgets/base",
          "model_name": "LayoutModel",
          "model_module_version": "1.2.0",
          "state": {
            "_model_module": "@jupyter-widgets/base",
            "_model_module_version": "1.2.0",
            "_model_name": "LayoutModel",
            "_view_count": null,
            "_view_module": "@jupyter-widgets/base",
            "_view_module_version": "1.2.0",
            "_view_name": "LayoutView",
            "align_content": null,
            "align_items": null,
            "align_self": null,
            "border": null,
            "bottom": null,
            "display": null,
            "flex": null,
            "flex_flow": null,
            "grid_area": null,
            "grid_auto_columns": null,
            "grid_auto_flow": null,
            "grid_auto_rows": null,
            "grid_column": null,
            "grid_gap": null,
            "grid_row": null,
            "grid_template_areas": null,
            "grid_template_columns": null,
            "grid_template_rows": null,
            "height": null,
            "justify_content": null,
            "justify_items": null,
            "left": null,
            "margin": null,
            "max_height": null,
            "max_width": null,
            "min_height": null,
            "min_width": null,
            "object_fit": null,
            "object_position": null,
            "order": null,
            "overflow": null,
            "overflow_x": null,
            "overflow_y": null,
            "padding": null,
            "right": null,
            "top": null,
            "visibility": null,
            "width": null
          }
        },
        "0fb9aa2d31b843d9a07878084208e140": {
          "model_module": "@jupyter-widgets/controls",
          "model_name": "DescriptionStyleModel",
          "model_module_version": "1.5.0",
          "state": {
            "_model_module": "@jupyter-widgets/controls",
            "_model_module_version": "1.5.0",
            "_model_name": "DescriptionStyleModel",
            "_view_count": null,
            "_view_module": "@jupyter-widgets/base",
            "_view_module_version": "1.2.0",
            "_view_name": "StyleView",
            "description_width": ""
          }
        },
        "0b648bcb5bef450ea475004e6f67d5cb": {
          "model_module": "@jupyter-widgets/base",
          "model_name": "LayoutModel",
          "model_module_version": "1.2.0",
          "state": {
            "_model_module": "@jupyter-widgets/base",
            "_model_module_version": "1.2.0",
            "_model_name": "LayoutModel",
            "_view_count": null,
            "_view_module": "@jupyter-widgets/base",
            "_view_module_version": "1.2.0",
            "_view_name": "LayoutView",
            "align_content": null,
            "align_items": null,
            "align_self": null,
            "border": null,
            "bottom": null,
            "display": null,
            "flex": null,
            "flex_flow": null,
            "grid_area": null,
            "grid_auto_columns": null,
            "grid_auto_flow": null,
            "grid_auto_rows": null,
            "grid_column": null,
            "grid_gap": null,
            "grid_row": null,
            "grid_template_areas": null,
            "grid_template_columns": null,
            "grid_template_rows": null,
            "height": null,
            "justify_content": null,
            "justify_items": null,
            "left": null,
            "margin": null,
            "max_height": null,
            "max_width": null,
            "min_height": null,
            "min_width": null,
            "object_fit": null,
            "object_position": null,
            "order": null,
            "overflow": null,
            "overflow_x": null,
            "overflow_y": null,
            "padding": null,
            "right": null,
            "top": null,
            "visibility": null,
            "width": null
          }
        },
        "fe43da98e8b44c58ac64e2b1fe7bd3e0": {
          "model_module": "@jupyter-widgets/controls",
          "model_name": "ProgressStyleModel",
          "model_module_version": "1.5.0",
          "state": {
            "_model_module": "@jupyter-widgets/controls",
            "_model_module_version": "1.5.0",
            "_model_name": "ProgressStyleModel",
            "_view_count": null,
            "_view_module": "@jupyter-widgets/base",
            "_view_module_version": "1.2.0",
            "_view_name": "StyleView",
            "bar_color": null,
            "description_width": ""
          }
        },
        "06a297a19bde4605bee9300e1c960ec3": {
          "model_module": "@jupyter-widgets/base",
          "model_name": "LayoutModel",
          "model_module_version": "1.2.0",
          "state": {
            "_model_module": "@jupyter-widgets/base",
            "_model_module_version": "1.2.0",
            "_model_name": "LayoutModel",
            "_view_count": null,
            "_view_module": "@jupyter-widgets/base",
            "_view_module_version": "1.2.0",
            "_view_name": "LayoutView",
            "align_content": null,
            "align_items": null,
            "align_self": null,
            "border": null,
            "bottom": null,
            "display": null,
            "flex": null,
            "flex_flow": null,
            "grid_area": null,
            "grid_auto_columns": null,
            "grid_auto_flow": null,
            "grid_auto_rows": null,
            "grid_column": null,
            "grid_gap": null,
            "grid_row": null,
            "grid_template_areas": null,
            "grid_template_columns": null,
            "grid_template_rows": null,
            "height": null,
            "justify_content": null,
            "justify_items": null,
            "left": null,
            "margin": null,
            "max_height": null,
            "max_width": null,
            "min_height": null,
            "min_width": null,
            "object_fit": null,
            "object_position": null,
            "order": null,
            "overflow": null,
            "overflow_x": null,
            "overflow_y": null,
            "padding": null,
            "right": null,
            "top": null,
            "visibility": null,
            "width": null
          }
        },
        "a05257421894417aa622e1f89458db28": {
          "model_module": "@jupyter-widgets/controls",
          "model_name": "DescriptionStyleModel",
          "model_module_version": "1.5.0",
          "state": {
            "_model_module": "@jupyter-widgets/controls",
            "_model_module_version": "1.5.0",
            "_model_name": "DescriptionStyleModel",
            "_view_count": null,
            "_view_module": "@jupyter-widgets/base",
            "_view_module_version": "1.2.0",
            "_view_name": "StyleView",
            "description_width": ""
          }
        },
        "c3c0c4ac60614c2fbd835fb3a4f42af3": {
          "model_module": "@jupyter-widgets/controls",
          "model_name": "HBoxModel",
          "model_module_version": "1.5.0",
          "state": {
            "_dom_classes": [],
            "_model_module": "@jupyter-widgets/controls",
            "_model_module_version": "1.5.0",
            "_model_name": "HBoxModel",
            "_view_count": null,
            "_view_module": "@jupyter-widgets/controls",
            "_view_module_version": "1.5.0",
            "_view_name": "HBoxView",
            "box_style": "",
            "children": [
              "IPY_MODEL_d1738680e615486f9025f098383035bd",
              "IPY_MODEL_11a0ff6285194dbda2dca7f49bcbfe52",
              "IPY_MODEL_3500ebbf972c41519dead367df1433f6"
            ],
            "layout": "IPY_MODEL_196a2951c45c4bfb9d7c715af0975fda"
          }
        },
        "d1738680e615486f9025f098383035bd": {
          "model_module": "@jupyter-widgets/controls",
          "model_name": "HTMLModel",
          "model_module_version": "1.5.0",
          "state": {
            "_dom_classes": [],
            "_model_module": "@jupyter-widgets/controls",
            "_model_module_version": "1.5.0",
            "_model_name": "HTMLModel",
            "_view_count": null,
            "_view_module": "@jupyter-widgets/controls",
            "_view_module_version": "1.5.0",
            "_view_name": "HTMLView",
            "description": "",
            "description_tooltip": null,
            "layout": "IPY_MODEL_073c9e2d46d84af18a7f0076311966c4",
            "placeholder": "​",
            "style": "IPY_MODEL_e168e7e8e49744c4bf2ef9adfc6692d6",
            "value": "Processing: 100%"
          }
        },
        "11a0ff6285194dbda2dca7f49bcbfe52": {
          "model_module": "@jupyter-widgets/controls",
          "model_name": "FloatProgressModel",
          "model_module_version": "1.5.0",
          "state": {
            "_dom_classes": [],
            "_model_module": "@jupyter-widgets/controls",
            "_model_module_version": "1.5.0",
            "_model_name": "FloatProgressModel",
            "_view_count": null,
            "_view_module": "@jupyter-widgets/controls",
            "_view_module_version": "1.5.0",
            "_view_name": "ProgressView",
            "bar_style": "",
            "description": "",
            "description_tooltip": null,
            "layout": "IPY_MODEL_39fe2ea7310641a08b05598dec14f475",
            "max": 4,
            "min": 0,
            "orientation": "horizontal",
            "style": "IPY_MODEL_890b8acb253142e4b095d36b2cdb7404",
            "value": 4
          }
        },
        "3500ebbf972c41519dead367df1433f6": {
          "model_module": "@jupyter-widgets/controls",
          "model_name": "HTMLModel",
          "model_module_version": "1.5.0",
          "state": {
            "_dom_classes": [],
            "_model_module": "@jupyter-widgets/controls",
            "_model_module_version": "1.5.0",
            "_model_name": "HTMLModel",
            "_view_count": null,
            "_view_module": "@jupyter-widgets/controls",
            "_view_module_version": "1.5.0",
            "_view_name": "HTMLView",
            "description": "",
            "description_tooltip": null,
            "layout": "IPY_MODEL_c6e78b849dc9403f8ed1c7830a095292",
            "placeholder": "​",
            "style": "IPY_MODEL_dbdccebbf3424ffd9d7ec7daf49a0152",
            "value": " 4/4 [00:01&lt;00:00,  2.21it/s]"
          }
        },
        "196a2951c45c4bfb9d7c715af0975fda": {
          "model_module": "@jupyter-widgets/base",
          "model_name": "LayoutModel",
          "model_module_version": "1.2.0",
          "state": {
            "_model_module": "@jupyter-widgets/base",
            "_model_module_version": "1.2.0",
            "_model_name": "LayoutModel",
            "_view_count": null,
            "_view_module": "@jupyter-widgets/base",
            "_view_module_version": "1.2.0",
            "_view_name": "LayoutView",
            "align_content": null,
            "align_items": null,
            "align_self": null,
            "border": null,
            "bottom": null,
            "display": null,
            "flex": null,
            "flex_flow": null,
            "grid_area": null,
            "grid_auto_columns": null,
            "grid_auto_flow": null,
            "grid_auto_rows": null,
            "grid_column": null,
            "grid_gap": null,
            "grid_row": null,
            "grid_template_areas": null,
            "grid_template_columns": null,
            "grid_template_rows": null,
            "height": null,
            "justify_content": null,
            "justify_items": null,
            "left": null,
            "margin": null,
            "max_height": null,
            "max_width": null,
            "min_height": null,
            "min_width": null,
            "object_fit": null,
            "object_position": null,
            "order": null,
            "overflow": null,
            "overflow_x": null,
            "overflow_y": null,
            "padding": null,
            "right": null,
            "top": null,
            "visibility": "hidden",
            "width": null
          }
        },
        "073c9e2d46d84af18a7f0076311966c4": {
          "model_module": "@jupyter-widgets/base",
          "model_name": "LayoutModel",
          "model_module_version": "1.2.0",
          "state": {
            "_model_module": "@jupyter-widgets/base",
            "_model_module_version": "1.2.0",
            "_model_name": "LayoutModel",
            "_view_count": null,
            "_view_module": "@jupyter-widgets/base",
            "_view_module_version": "1.2.0",
            "_view_name": "LayoutView",
            "align_content": null,
            "align_items": null,
            "align_self": null,
            "border": null,
            "bottom": null,
            "display": null,
            "flex": null,
            "flex_flow": null,
            "grid_area": null,
            "grid_auto_columns": null,
            "grid_auto_flow": null,
            "grid_auto_rows": null,
            "grid_column": null,
            "grid_gap": null,
            "grid_row": null,
            "grid_template_areas": null,
            "grid_template_columns": null,
            "grid_template_rows": null,
            "height": null,
            "justify_content": null,
            "justify_items": null,
            "left": null,
            "margin": null,
            "max_height": null,
            "max_width": null,
            "min_height": null,
            "min_width": null,
            "object_fit": null,
            "object_position": null,
            "order": null,
            "overflow": null,
            "overflow_x": null,
            "overflow_y": null,
            "padding": null,
            "right": null,
            "top": null,
            "visibility": null,
            "width": null
          }
        },
        "e168e7e8e49744c4bf2ef9adfc6692d6": {
          "model_module": "@jupyter-widgets/controls",
          "model_name": "DescriptionStyleModel",
          "model_module_version": "1.5.0",
          "state": {
            "_model_module": "@jupyter-widgets/controls",
            "_model_module_version": "1.5.0",
            "_model_name": "DescriptionStyleModel",
            "_view_count": null,
            "_view_module": "@jupyter-widgets/base",
            "_view_module_version": "1.2.0",
            "_view_name": "StyleView",
            "description_width": ""
          }
        },
        "39fe2ea7310641a08b05598dec14f475": {
          "model_module": "@jupyter-widgets/base",
          "model_name": "LayoutModel",
          "model_module_version": "1.2.0",
          "state": {
            "_model_module": "@jupyter-widgets/base",
            "_model_module_version": "1.2.0",
            "_model_name": "LayoutModel",
            "_view_count": null,
            "_view_module": "@jupyter-widgets/base",
            "_view_module_version": "1.2.0",
            "_view_name": "LayoutView",
            "align_content": null,
            "align_items": null,
            "align_self": null,
            "border": null,
            "bottom": null,
            "display": null,
            "flex": null,
            "flex_flow": null,
            "grid_area": null,
            "grid_auto_columns": null,
            "grid_auto_flow": null,
            "grid_auto_rows": null,
            "grid_column": null,
            "grid_gap": null,
            "grid_row": null,
            "grid_template_areas": null,
            "grid_template_columns": null,
            "grid_template_rows": null,
            "height": null,
            "justify_content": null,
            "justify_items": null,
            "left": null,
            "margin": null,
            "max_height": null,
            "max_width": null,
            "min_height": null,
            "min_width": null,
            "object_fit": null,
            "object_position": null,
            "order": null,
            "overflow": null,
            "overflow_x": null,
            "overflow_y": null,
            "padding": null,
            "right": null,
            "top": null,
            "visibility": null,
            "width": null
          }
        },
        "890b8acb253142e4b095d36b2cdb7404": {
          "model_module": "@jupyter-widgets/controls",
          "model_name": "ProgressStyleModel",
          "model_module_version": "1.5.0",
          "state": {
            "_model_module": "@jupyter-widgets/controls",
            "_model_module_version": "1.5.0",
            "_model_name": "ProgressStyleModel",
            "_view_count": null,
            "_view_module": "@jupyter-widgets/base",
            "_view_module_version": "1.2.0",
            "_view_name": "StyleView",
            "bar_color": null,
            "description_width": ""
          }
        },
        "c6e78b849dc9403f8ed1c7830a095292": {
          "model_module": "@jupyter-widgets/base",
          "model_name": "LayoutModel",
          "model_module_version": "1.2.0",
          "state": {
            "_model_module": "@jupyter-widgets/base",
            "_model_module_version": "1.2.0",
            "_model_name": "LayoutModel",
            "_view_count": null,
            "_view_module": "@jupyter-widgets/base",
            "_view_module_version": "1.2.0",
            "_view_name": "LayoutView",
            "align_content": null,
            "align_items": null,
            "align_self": null,
            "border": null,
            "bottom": null,
            "display": null,
            "flex": null,
            "flex_flow": null,
            "grid_area": null,
            "grid_auto_columns": null,
            "grid_auto_flow": null,
            "grid_auto_rows": null,
            "grid_column": null,
            "grid_gap": null,
            "grid_row": null,
            "grid_template_areas": null,
            "grid_template_columns": null,
            "grid_template_rows": null,
            "height": null,
            "justify_content": null,
            "justify_items": null,
            "left": null,
            "margin": null,
            "max_height": null,
            "max_width": null,
            "min_height": null,
            "min_width": null,
            "object_fit": null,
            "object_position": null,
            "order": null,
            "overflow": null,
            "overflow_x": null,
            "overflow_y": null,
            "padding": null,
            "right": null,
            "top": null,
            "visibility": null,
            "width": null
          }
        },
        "dbdccebbf3424ffd9d7ec7daf49a0152": {
          "model_module": "@jupyter-widgets/controls",
          "model_name": "DescriptionStyleModel",
          "model_module_version": "1.5.0",
          "state": {
            "_model_module": "@jupyter-widgets/controls",
            "_model_module_version": "1.5.0",
            "_model_name": "DescriptionStyleModel",
            "_view_count": null,
            "_view_module": "@jupyter-widgets/base",
            "_view_module_version": "1.2.0",
            "_view_name": "StyleView",
            "description_width": ""
          }
        },
        "7901ac67139148e2abc8a30ce77383e2": {
          "model_module": "@jupyter-widgets/controls",
          "model_name": "HBoxModel",
          "model_module_version": "1.5.0",
          "state": {
            "_dom_classes": [],
            "_model_module": "@jupyter-widgets/controls",
            "_model_module_version": "1.5.0",
            "_model_name": "HBoxModel",
            "_view_count": null,
            "_view_module": "@jupyter-widgets/controls",
            "_view_module_version": "1.5.0",
            "_view_name": "HBoxView",
            "box_style": "",
            "children": [
              "IPY_MODEL_9fedc3f750bb49b88c78fd4d11fa36d6",
              "IPY_MODEL_c2b8bcf6cb7c44fcb8427e46091ab803",
              "IPY_MODEL_1f588fb04db742bfba803635eaefb002"
            ],
            "layout": "IPY_MODEL_1b5023b2a2e34a92bff00382def301a5"
          }
        },
        "9fedc3f750bb49b88c78fd4d11fa36d6": {
          "model_module": "@jupyter-widgets/controls",
          "model_name": "HTMLModel",
          "model_module_version": "1.5.0",
          "state": {
            "_dom_classes": [],
            "_model_module": "@jupyter-widgets/controls",
            "_model_module_version": "1.5.0",
            "_model_name": "HTMLModel",
            "_view_count": null,
            "_view_module": "@jupyter-widgets/controls",
            "_view_module_version": "1.5.0",
            "_view_name": "HTMLView",
            "description": "",
            "description_tooltip": null,
            "layout": "IPY_MODEL_875656f367a94319835983d648e54547",
            "placeholder": "​",
            "style": "IPY_MODEL_98988517e9ea47cb96e34d67f2a475d9",
            "value": "Processing: 100%"
          }
        },
        "c2b8bcf6cb7c44fcb8427e46091ab803": {
          "model_module": "@jupyter-widgets/controls",
          "model_name": "FloatProgressModel",
          "model_module_version": "1.5.0",
          "state": {
            "_dom_classes": [],
            "_model_module": "@jupyter-widgets/controls",
            "_model_module_version": "1.5.0",
            "_model_name": "FloatProgressModel",
            "_view_count": null,
            "_view_module": "@jupyter-widgets/controls",
            "_view_module_version": "1.5.0",
            "_view_name": "ProgressView",
            "bar_style": "",
            "description": "",
            "description_tooltip": null,
            "layout": "IPY_MODEL_7532c648b5e646909869f5d33374a591",
            "max": 7,
            "min": 0,
            "orientation": "horizontal",
            "style": "IPY_MODEL_9321ad67cd1e4af7b6b0896986197ae5",
            "value": 7
          }
        },
        "1f588fb04db742bfba803635eaefb002": {
          "model_module": "@jupyter-widgets/controls",
          "model_name": "HTMLModel",
          "model_module_version": "1.5.0",
          "state": {
            "_dom_classes": [],
            "_model_module": "@jupyter-widgets/controls",
            "_model_module_version": "1.5.0",
            "_model_name": "HTMLModel",
            "_view_count": null,
            "_view_module": "@jupyter-widgets/controls",
            "_view_module_version": "1.5.0",
            "_view_name": "HTMLView",
            "description": "",
            "description_tooltip": null,
            "layout": "IPY_MODEL_71fadaa4c77d419682e98fe5045306ff",
            "placeholder": "​",
            "style": "IPY_MODEL_2502249e78424fffa9b3b906fa0f9ea5",
            "value": " 7/7 [02:27&lt;00:00, 15.94s/it]"
          }
        },
        "1b5023b2a2e34a92bff00382def301a5": {
          "model_module": "@jupyter-widgets/base",
          "model_name": "LayoutModel",
          "model_module_version": "1.2.0",
          "state": {
            "_model_module": "@jupyter-widgets/base",
            "_model_module_version": "1.2.0",
            "_model_name": "LayoutModel",
            "_view_count": null,
            "_view_module": "@jupyter-widgets/base",
            "_view_module_version": "1.2.0",
            "_view_name": "LayoutView",
            "align_content": null,
            "align_items": null,
            "align_self": null,
            "border": null,
            "bottom": null,
            "display": null,
            "flex": null,
            "flex_flow": null,
            "grid_area": null,
            "grid_auto_columns": null,
            "grid_auto_flow": null,
            "grid_auto_rows": null,
            "grid_column": null,
            "grid_gap": null,
            "grid_row": null,
            "grid_template_areas": null,
            "grid_template_columns": null,
            "grid_template_rows": null,
            "height": null,
            "justify_content": null,
            "justify_items": null,
            "left": null,
            "margin": null,
            "max_height": null,
            "max_width": null,
            "min_height": null,
            "min_width": null,
            "object_fit": null,
            "object_position": null,
            "order": null,
            "overflow": null,
            "overflow_x": null,
            "overflow_y": null,
            "padding": null,
            "right": null,
            "top": null,
            "visibility": "hidden",
            "width": null
          }
        },
        "875656f367a94319835983d648e54547": {
          "model_module": "@jupyter-widgets/base",
          "model_name": "LayoutModel",
          "model_module_version": "1.2.0",
          "state": {
            "_model_module": "@jupyter-widgets/base",
            "_model_module_version": "1.2.0",
            "_model_name": "LayoutModel",
            "_view_count": null,
            "_view_module": "@jupyter-widgets/base",
            "_view_module_version": "1.2.0",
            "_view_name": "LayoutView",
            "align_content": null,
            "align_items": null,
            "align_self": null,
            "border": null,
            "bottom": null,
            "display": null,
            "flex": null,
            "flex_flow": null,
            "grid_area": null,
            "grid_auto_columns": null,
            "grid_auto_flow": null,
            "grid_auto_rows": null,
            "grid_column": null,
            "grid_gap": null,
            "grid_row": null,
            "grid_template_areas": null,
            "grid_template_columns": null,
            "grid_template_rows": null,
            "height": null,
            "justify_content": null,
            "justify_items": null,
            "left": null,
            "margin": null,
            "max_height": null,
            "max_width": null,
            "min_height": null,
            "min_width": null,
            "object_fit": null,
            "object_position": null,
            "order": null,
            "overflow": null,
            "overflow_x": null,
            "overflow_y": null,
            "padding": null,
            "right": null,
            "top": null,
            "visibility": null,
            "width": null
          }
        },
        "98988517e9ea47cb96e34d67f2a475d9": {
          "model_module": "@jupyter-widgets/controls",
          "model_name": "DescriptionStyleModel",
          "model_module_version": "1.5.0",
          "state": {
            "_model_module": "@jupyter-widgets/controls",
            "_model_module_version": "1.5.0",
            "_model_name": "DescriptionStyleModel",
            "_view_count": null,
            "_view_module": "@jupyter-widgets/base",
            "_view_module_version": "1.2.0",
            "_view_name": "StyleView",
            "description_width": ""
          }
        },
        "7532c648b5e646909869f5d33374a591": {
          "model_module": "@jupyter-widgets/base",
          "model_name": "LayoutModel",
          "model_module_version": "1.2.0",
          "state": {
            "_model_module": "@jupyter-widgets/base",
            "_model_module_version": "1.2.0",
            "_model_name": "LayoutModel",
            "_view_count": null,
            "_view_module": "@jupyter-widgets/base",
            "_view_module_version": "1.2.0",
            "_view_name": "LayoutView",
            "align_content": null,
            "align_items": null,
            "align_self": null,
            "border": null,
            "bottom": null,
            "display": null,
            "flex": null,
            "flex_flow": null,
            "grid_area": null,
            "grid_auto_columns": null,
            "grid_auto_flow": null,
            "grid_auto_rows": null,
            "grid_column": null,
            "grid_gap": null,
            "grid_row": null,
            "grid_template_areas": null,
            "grid_template_columns": null,
            "grid_template_rows": null,
            "height": null,
            "justify_content": null,
            "justify_items": null,
            "left": null,
            "margin": null,
            "max_height": null,
            "max_width": null,
            "min_height": null,
            "min_width": null,
            "object_fit": null,
            "object_position": null,
            "order": null,
            "overflow": null,
            "overflow_x": null,
            "overflow_y": null,
            "padding": null,
            "right": null,
            "top": null,
            "visibility": null,
            "width": null
          }
        },
        "9321ad67cd1e4af7b6b0896986197ae5": {
          "model_module": "@jupyter-widgets/controls",
          "model_name": "ProgressStyleModel",
          "model_module_version": "1.5.0",
          "state": {
            "_model_module": "@jupyter-widgets/controls",
            "_model_module_version": "1.5.0",
            "_model_name": "ProgressStyleModel",
            "_view_count": null,
            "_view_module": "@jupyter-widgets/base",
            "_view_module_version": "1.2.0",
            "_view_name": "StyleView",
            "bar_color": null,
            "description_width": ""
          }
        },
        "71fadaa4c77d419682e98fe5045306ff": {
          "model_module": "@jupyter-widgets/base",
          "model_name": "LayoutModel",
          "model_module_version": "1.2.0",
          "state": {
            "_model_module": "@jupyter-widgets/base",
            "_model_module_version": "1.2.0",
            "_model_name": "LayoutModel",
            "_view_count": null,
            "_view_module": "@jupyter-widgets/base",
            "_view_module_version": "1.2.0",
            "_view_name": "LayoutView",
            "align_content": null,
            "align_items": null,
            "align_self": null,
            "border": null,
            "bottom": null,
            "display": null,
            "flex": null,
            "flex_flow": null,
            "grid_area": null,
            "grid_auto_columns": null,
            "grid_auto_flow": null,
            "grid_auto_rows": null,
            "grid_column": null,
            "grid_gap": null,
            "grid_row": null,
            "grid_template_areas": null,
            "grid_template_columns": null,
            "grid_template_rows": null,
            "height": null,
            "justify_content": null,
            "justify_items": null,
            "left": null,
            "margin": null,
            "max_height": null,
            "max_width": null,
            "min_height": null,
            "min_width": null,
            "object_fit": null,
            "object_position": null,
            "order": null,
            "overflow": null,
            "overflow_x": null,
            "overflow_y": null,
            "padding": null,
            "right": null,
            "top": null,
            "visibility": null,
            "width": null
          }
        },
        "2502249e78424fffa9b3b906fa0f9ea5": {
          "model_module": "@jupyter-widgets/controls",
          "model_name": "DescriptionStyleModel",
          "model_module_version": "1.5.0",
          "state": {
            "_model_module": "@jupyter-widgets/controls",
            "_model_module_version": "1.5.0",
            "_model_name": "DescriptionStyleModel",
            "_view_count": null,
            "_view_module": "@jupyter-widgets/base",
            "_view_module_version": "1.2.0",
            "_view_name": "StyleView",
            "description_width": ""
          }
        }
      }
    }
  },
  "cells": [
    {
      "cell_type": "markdown",
      "source": [
        "# 1. installing dependencies"
      ],
      "metadata": {
        "id": "nI55uwia2vjM"
      }
    },
    {
      "cell_type": "code",
      "source": [
        "# !pip install pycaret"
      ],
      "metadata": {
        "id": "Hp_GzLuDytU6"
      },
      "execution_count": null,
      "outputs": []
    },
    {
      "cell_type": "markdown",
      "source": [
        "# 2. Load the dataset"
      ],
      "metadata": {
        "id": "MlazEUuV22Z7"
      }
    },
    {
      "cell_type": "code",
      "source": [
        "import pandas as pd\n",
        "import numpy as np\n",
        "import time\n",
        "import matplotlib.pyplot as plt\n",
        "\n",
        "\n",
        "df=pd.read_csv('/content/diabetes_PIMA_preprocessed.csv')\n",
        "df.shape"
      ],
      "metadata": {
        "colab": {
          "base_uri": "https://localhost:8080/"
        },
        "id": "i0l5Zq7fVbaH",
        "outputId": "7a212999-8084-4551-895e-4c228822e411"
      },
      "execution_count": null,
      "outputs": [
        {
          "output_type": "execute_result",
          "data": {
            "text/plain": [
              "(537, 9)"
            ]
          },
          "metadata": {},
          "execution_count": 16
        }
      ]
    },
    {
      "cell_type": "code",
      "source": [
        "df.head(5)"
      ],
      "metadata": {
        "colab": {
          "base_uri": "https://localhost:8080/",
          "height": 206
        },
        "id": "0WITl8c6VjJJ",
        "outputId": "85dd3686-b578-4752-863b-6fbbbf375060"
      },
      "execution_count": null,
      "outputs": [
        {
          "output_type": "execute_result",
          "data": {
            "text/plain": [
              "   Pregnancies  Glucose  BloodPressure  SkinThickness  Insulin   BMI  \\\n",
              "0            6      148           72.0           35.0        0  33.6   \n",
              "1            1       85           66.0           29.0        0  26.6   \n",
              "2            1       89           66.0           23.0       94  28.1   \n",
              "3            0      137           40.0           35.0      168  43.1   \n",
              "4            3       78           50.0           32.0       88  31.0   \n",
              "\n",
              "   DiabetesPedigreeFunction  Age  diabetic/non-diabetic  \n",
              "0                     0.627   50                      1  \n",
              "1                     0.351   31                      0  \n",
              "2                     0.167   21                      0  \n",
              "3                     2.288   33                      1  \n",
              "4                     0.248   26                      1  "
            ],
            "text/html": [
              "\n",
              "  <div id=\"df-d086a2ad-f606-4013-9d55-020531336e79\">\n",
              "    <div class=\"colab-df-container\">\n",
              "      <div>\n",
              "<style scoped>\n",
              "    .dataframe tbody tr th:only-of-type {\n",
              "        vertical-align: middle;\n",
              "    }\n",
              "\n",
              "    .dataframe tbody tr th {\n",
              "        vertical-align: top;\n",
              "    }\n",
              "\n",
              "    .dataframe thead th {\n",
              "        text-align: right;\n",
              "    }\n",
              "</style>\n",
              "<table border=\"1\" class=\"dataframe\">\n",
              "  <thead>\n",
              "    <tr style=\"text-align: right;\">\n",
              "      <th></th>\n",
              "      <th>Pregnancies</th>\n",
              "      <th>Glucose</th>\n",
              "      <th>BloodPressure</th>\n",
              "      <th>SkinThickness</th>\n",
              "      <th>Insulin</th>\n",
              "      <th>BMI</th>\n",
              "      <th>DiabetesPedigreeFunction</th>\n",
              "      <th>Age</th>\n",
              "      <th>diabetic/non-diabetic</th>\n",
              "    </tr>\n",
              "  </thead>\n",
              "  <tbody>\n",
              "    <tr>\n",
              "      <th>0</th>\n",
              "      <td>6</td>\n",
              "      <td>148</td>\n",
              "      <td>72.0</td>\n",
              "      <td>35.0</td>\n",
              "      <td>0</td>\n",
              "      <td>33.6</td>\n",
              "      <td>0.627</td>\n",
              "      <td>50</td>\n",
              "      <td>1</td>\n",
              "    </tr>\n",
              "    <tr>\n",
              "      <th>1</th>\n",
              "      <td>1</td>\n",
              "      <td>85</td>\n",
              "      <td>66.0</td>\n",
              "      <td>29.0</td>\n",
              "      <td>0</td>\n",
              "      <td>26.6</td>\n",
              "      <td>0.351</td>\n",
              "      <td>31</td>\n",
              "      <td>0</td>\n",
              "    </tr>\n",
              "    <tr>\n",
              "      <th>2</th>\n",
              "      <td>1</td>\n",
              "      <td>89</td>\n",
              "      <td>66.0</td>\n",
              "      <td>23.0</td>\n",
              "      <td>94</td>\n",
              "      <td>28.1</td>\n",
              "      <td>0.167</td>\n",
              "      <td>21</td>\n",
              "      <td>0</td>\n",
              "    </tr>\n",
              "    <tr>\n",
              "      <th>3</th>\n",
              "      <td>0</td>\n",
              "      <td>137</td>\n",
              "      <td>40.0</td>\n",
              "      <td>35.0</td>\n",
              "      <td>168</td>\n",
              "      <td>43.1</td>\n",
              "      <td>2.288</td>\n",
              "      <td>33</td>\n",
              "      <td>1</td>\n",
              "    </tr>\n",
              "    <tr>\n",
              "      <th>4</th>\n",
              "      <td>3</td>\n",
              "      <td>78</td>\n",
              "      <td>50.0</td>\n",
              "      <td>32.0</td>\n",
              "      <td>88</td>\n",
              "      <td>31.0</td>\n",
              "      <td>0.248</td>\n",
              "      <td>26</td>\n",
              "      <td>1</td>\n",
              "    </tr>\n",
              "  </tbody>\n",
              "</table>\n",
              "</div>\n",
              "      <button class=\"colab-df-convert\" onclick=\"convertToInteractive('df-d086a2ad-f606-4013-9d55-020531336e79')\"\n",
              "              title=\"Convert this dataframe to an interactive table.\"\n",
              "              style=\"display:none;\">\n",
              "        \n",
              "  <svg xmlns=\"http://www.w3.org/2000/svg\" height=\"24px\"viewBox=\"0 0 24 24\"\n",
              "       width=\"24px\">\n",
              "    <path d=\"M0 0h24v24H0V0z\" fill=\"none\"/>\n",
              "    <path d=\"M18.56 5.44l.94 2.06.94-2.06 2.06-.94-2.06-.94-.94-2.06-.94 2.06-2.06.94zm-11 1L8.5 8.5l.94-2.06 2.06-.94-2.06-.94L8.5 2.5l-.94 2.06-2.06.94zm10 10l.94 2.06.94-2.06 2.06-.94-2.06-.94-.94-2.06-.94 2.06-2.06.94z\"/><path d=\"M17.41 7.96l-1.37-1.37c-.4-.4-.92-.59-1.43-.59-.52 0-1.04.2-1.43.59L10.3 9.45l-7.72 7.72c-.78.78-.78 2.05 0 2.83L4 21.41c.39.39.9.59 1.41.59.51 0 1.02-.2 1.41-.59l7.78-7.78 2.81-2.81c.8-.78.8-2.07 0-2.86zM5.41 20L4 18.59l7.72-7.72 1.47 1.35L5.41 20z\"/>\n",
              "  </svg>\n",
              "      </button>\n",
              "      \n",
              "  <style>\n",
              "    .colab-df-container {\n",
              "      display:flex;\n",
              "      flex-wrap:wrap;\n",
              "      gap: 12px;\n",
              "    }\n",
              "\n",
              "    .colab-df-convert {\n",
              "      background-color: #E8F0FE;\n",
              "      border: none;\n",
              "      border-radius: 50%;\n",
              "      cursor: pointer;\n",
              "      display: none;\n",
              "      fill: #1967D2;\n",
              "      height: 32px;\n",
              "      padding: 0 0 0 0;\n",
              "      width: 32px;\n",
              "    }\n",
              "\n",
              "    .colab-df-convert:hover {\n",
              "      background-color: #E2EBFA;\n",
              "      box-shadow: 0px 1px 2px rgba(60, 64, 67, 0.3), 0px 1px 3px 1px rgba(60, 64, 67, 0.15);\n",
              "      fill: #174EA6;\n",
              "    }\n",
              "\n",
              "    [theme=dark] .colab-df-convert {\n",
              "      background-color: #3B4455;\n",
              "      fill: #D2E3FC;\n",
              "    }\n",
              "\n",
              "    [theme=dark] .colab-df-convert:hover {\n",
              "      background-color: #434B5C;\n",
              "      box-shadow: 0px 1px 3px 1px rgba(0, 0, 0, 0.15);\n",
              "      filter: drop-shadow(0px 1px 2px rgba(0, 0, 0, 0.3));\n",
              "      fill: #FFFFFF;\n",
              "    }\n",
              "  </style>\n",
              "\n",
              "      <script>\n",
              "        const buttonEl =\n",
              "          document.querySelector('#df-d086a2ad-f606-4013-9d55-020531336e79 button.colab-df-convert');\n",
              "        buttonEl.style.display =\n",
              "          google.colab.kernel.accessAllowed ? 'block' : 'none';\n",
              "\n",
              "        async function convertToInteractive(key) {\n",
              "          const element = document.querySelector('#df-d086a2ad-f606-4013-9d55-020531336e79');\n",
              "          const dataTable =\n",
              "            await google.colab.kernel.invokeFunction('convertToInteractive',\n",
              "                                                     [key], {});\n",
              "          if (!dataTable) return;\n",
              "\n",
              "          const docLinkHtml = 'Like what you see? Visit the ' +\n",
              "            '<a target=\"_blank\" href=https://colab.research.google.com/notebooks/data_table.ipynb>data table notebook</a>'\n",
              "            + ' to learn more about interactive tables.';\n",
              "          element.innerHTML = '';\n",
              "          dataTable['output_type'] = 'display_data';\n",
              "          await google.colab.output.renderOutput(dataTable, element);\n",
              "          const docLink = document.createElement('div');\n",
              "          docLink.innerHTML = docLinkHtml;\n",
              "          element.appendChild(docLink);\n",
              "        }\n",
              "      </script>\n",
              "    </div>\n",
              "  </div>\n",
              "  "
            ]
          },
          "metadata": {},
          "execution_count": 17
        }
      ]
    },
    {
      "cell_type": "markdown",
      "source": [
        "# 3. EDA"
      ],
      "metadata": {
        "id": "YnSErqk728Hj"
      }
    },
    {
      "cell_type": "code",
      "source": [
        "df.describe()"
      ],
      "metadata": {
        "colab": {
          "base_uri": "https://localhost:8080/",
          "height": 300
        },
        "id": "RxQGUQcPVl6A",
        "outputId": "5eabdc6e-bf8f-4e14-b174-72c971f860ff"
      },
      "execution_count": null,
      "outputs": [
        {
          "output_type": "execute_result",
          "data": {
            "text/plain": [
              "       Pregnancies     Glucose  BloodPressure  SkinThickness     Insulin  \\\n",
              "count   537.000000  537.000000     537.000000     537.000000  537.000000   \n",
              "mean      3.510242  119.903166      71.469274      29.186220  113.960894   \n",
              "std       3.304281   32.975142      12.302450      10.505807  122.894735   \n",
              "min       0.000000    0.000000      24.000000       7.000000    0.000000   \n",
              "25%       1.000000   97.000000      64.000000      22.000000    0.000000   \n",
              "50%       2.000000  115.000000      72.000000      29.000000   90.000000   \n",
              "75%       5.000000  141.000000      80.000000      36.000000  165.000000   \n",
              "max      17.000000  199.000000     110.000000      99.000000  846.000000   \n",
              "\n",
              "              BMI  DiabetesPedigreeFunction         Age  diabetic/non-diabetic  \n",
              "count  537.000000                537.000000  537.000000             537.000000  \n",
              "mean    32.890130                  0.501823   31.586592               0.333333  \n",
              "std      6.875842                  0.343643   10.747286               0.471844  \n",
              "min     18.200000                  0.085000   21.000000               0.000000  \n",
              "25%     27.800000                  0.259000   23.000000               0.000000  \n",
              "50%     32.800000                  0.415000   28.000000               0.000000  \n",
              "75%     36.900000                  0.658000   38.000000               1.000000  \n",
              "max     67.100000                  2.420000   81.000000               1.000000  "
            ],
            "text/html": [
              "\n",
              "  <div id=\"df-98b03710-5b0e-41c0-a343-03d3d7326375\">\n",
              "    <div class=\"colab-df-container\">\n",
              "      <div>\n",
              "<style scoped>\n",
              "    .dataframe tbody tr th:only-of-type {\n",
              "        vertical-align: middle;\n",
              "    }\n",
              "\n",
              "    .dataframe tbody tr th {\n",
              "        vertical-align: top;\n",
              "    }\n",
              "\n",
              "    .dataframe thead th {\n",
              "        text-align: right;\n",
              "    }\n",
              "</style>\n",
              "<table border=\"1\" class=\"dataframe\">\n",
              "  <thead>\n",
              "    <tr style=\"text-align: right;\">\n",
              "      <th></th>\n",
              "      <th>Pregnancies</th>\n",
              "      <th>Glucose</th>\n",
              "      <th>BloodPressure</th>\n",
              "      <th>SkinThickness</th>\n",
              "      <th>Insulin</th>\n",
              "      <th>BMI</th>\n",
              "      <th>DiabetesPedigreeFunction</th>\n",
              "      <th>Age</th>\n",
              "      <th>diabetic/non-diabetic</th>\n",
              "    </tr>\n",
              "  </thead>\n",
              "  <tbody>\n",
              "    <tr>\n",
              "      <th>count</th>\n",
              "      <td>537.000000</td>\n",
              "      <td>537.000000</td>\n",
              "      <td>537.000000</td>\n",
              "      <td>537.000000</td>\n",
              "      <td>537.000000</td>\n",
              "      <td>537.000000</td>\n",
              "      <td>537.000000</td>\n",
              "      <td>537.000000</td>\n",
              "      <td>537.000000</td>\n",
              "    </tr>\n",
              "    <tr>\n",
              "      <th>mean</th>\n",
              "      <td>3.510242</td>\n",
              "      <td>119.903166</td>\n",
              "      <td>71.469274</td>\n",
              "      <td>29.186220</td>\n",
              "      <td>113.960894</td>\n",
              "      <td>32.890130</td>\n",
              "      <td>0.501823</td>\n",
              "      <td>31.586592</td>\n",
              "      <td>0.333333</td>\n",
              "    </tr>\n",
              "    <tr>\n",
              "      <th>std</th>\n",
              "      <td>3.304281</td>\n",
              "      <td>32.975142</td>\n",
              "      <td>12.302450</td>\n",
              "      <td>10.505807</td>\n",
              "      <td>122.894735</td>\n",
              "      <td>6.875842</td>\n",
              "      <td>0.343643</td>\n",
              "      <td>10.747286</td>\n",
              "      <td>0.471844</td>\n",
              "    </tr>\n",
              "    <tr>\n",
              "      <th>min</th>\n",
              "      <td>0.000000</td>\n",
              "      <td>0.000000</td>\n",
              "      <td>24.000000</td>\n",
              "      <td>7.000000</td>\n",
              "      <td>0.000000</td>\n",
              "      <td>18.200000</td>\n",
              "      <td>0.085000</td>\n",
              "      <td>21.000000</td>\n",
              "      <td>0.000000</td>\n",
              "    </tr>\n",
              "    <tr>\n",
              "      <th>25%</th>\n",
              "      <td>1.000000</td>\n",
              "      <td>97.000000</td>\n",
              "      <td>64.000000</td>\n",
              "      <td>22.000000</td>\n",
              "      <td>0.000000</td>\n",
              "      <td>27.800000</td>\n",
              "      <td>0.259000</td>\n",
              "      <td>23.000000</td>\n",
              "      <td>0.000000</td>\n",
              "    </tr>\n",
              "    <tr>\n",
              "      <th>50%</th>\n",
              "      <td>2.000000</td>\n",
              "      <td>115.000000</td>\n",
              "      <td>72.000000</td>\n",
              "      <td>29.000000</td>\n",
              "      <td>90.000000</td>\n",
              "      <td>32.800000</td>\n",
              "      <td>0.415000</td>\n",
              "      <td>28.000000</td>\n",
              "      <td>0.000000</td>\n",
              "    </tr>\n",
              "    <tr>\n",
              "      <th>75%</th>\n",
              "      <td>5.000000</td>\n",
              "      <td>141.000000</td>\n",
              "      <td>80.000000</td>\n",
              "      <td>36.000000</td>\n",
              "      <td>165.000000</td>\n",
              "      <td>36.900000</td>\n",
              "      <td>0.658000</td>\n",
              "      <td>38.000000</td>\n",
              "      <td>1.000000</td>\n",
              "    </tr>\n",
              "    <tr>\n",
              "      <th>max</th>\n",
              "      <td>17.000000</td>\n",
              "      <td>199.000000</td>\n",
              "      <td>110.000000</td>\n",
              "      <td>99.000000</td>\n",
              "      <td>846.000000</td>\n",
              "      <td>67.100000</td>\n",
              "      <td>2.420000</td>\n",
              "      <td>81.000000</td>\n",
              "      <td>1.000000</td>\n",
              "    </tr>\n",
              "  </tbody>\n",
              "</table>\n",
              "</div>\n",
              "      <button class=\"colab-df-convert\" onclick=\"convertToInteractive('df-98b03710-5b0e-41c0-a343-03d3d7326375')\"\n",
              "              title=\"Convert this dataframe to an interactive table.\"\n",
              "              style=\"display:none;\">\n",
              "        \n",
              "  <svg xmlns=\"http://www.w3.org/2000/svg\" height=\"24px\"viewBox=\"0 0 24 24\"\n",
              "       width=\"24px\">\n",
              "    <path d=\"M0 0h24v24H0V0z\" fill=\"none\"/>\n",
              "    <path d=\"M18.56 5.44l.94 2.06.94-2.06 2.06-.94-2.06-.94-.94-2.06-.94 2.06-2.06.94zm-11 1L8.5 8.5l.94-2.06 2.06-.94-2.06-.94L8.5 2.5l-.94 2.06-2.06.94zm10 10l.94 2.06.94-2.06 2.06-.94-2.06-.94-.94-2.06-.94 2.06-2.06.94z\"/><path d=\"M17.41 7.96l-1.37-1.37c-.4-.4-.92-.59-1.43-.59-.52 0-1.04.2-1.43.59L10.3 9.45l-7.72 7.72c-.78.78-.78 2.05 0 2.83L4 21.41c.39.39.9.59 1.41.59.51 0 1.02-.2 1.41-.59l7.78-7.78 2.81-2.81c.8-.78.8-2.07 0-2.86zM5.41 20L4 18.59l7.72-7.72 1.47 1.35L5.41 20z\"/>\n",
              "  </svg>\n",
              "      </button>\n",
              "      \n",
              "  <style>\n",
              "    .colab-df-container {\n",
              "      display:flex;\n",
              "      flex-wrap:wrap;\n",
              "      gap: 12px;\n",
              "    }\n",
              "\n",
              "    .colab-df-convert {\n",
              "      background-color: #E8F0FE;\n",
              "      border: none;\n",
              "      border-radius: 50%;\n",
              "      cursor: pointer;\n",
              "      display: none;\n",
              "      fill: #1967D2;\n",
              "      height: 32px;\n",
              "      padding: 0 0 0 0;\n",
              "      width: 32px;\n",
              "    }\n",
              "\n",
              "    .colab-df-convert:hover {\n",
              "      background-color: #E2EBFA;\n",
              "      box-shadow: 0px 1px 2px rgba(60, 64, 67, 0.3), 0px 1px 3px 1px rgba(60, 64, 67, 0.15);\n",
              "      fill: #174EA6;\n",
              "    }\n",
              "\n",
              "    [theme=dark] .colab-df-convert {\n",
              "      background-color: #3B4455;\n",
              "      fill: #D2E3FC;\n",
              "    }\n",
              "\n",
              "    [theme=dark] .colab-df-convert:hover {\n",
              "      background-color: #434B5C;\n",
              "      box-shadow: 0px 1px 3px 1px rgba(0, 0, 0, 0.15);\n",
              "      filter: drop-shadow(0px 1px 2px rgba(0, 0, 0, 0.3));\n",
              "      fill: #FFFFFF;\n",
              "    }\n",
              "  </style>\n",
              "\n",
              "      <script>\n",
              "        const buttonEl =\n",
              "          document.querySelector('#df-98b03710-5b0e-41c0-a343-03d3d7326375 button.colab-df-convert');\n",
              "        buttonEl.style.display =\n",
              "          google.colab.kernel.accessAllowed ? 'block' : 'none';\n",
              "\n",
              "        async function convertToInteractive(key) {\n",
              "          const element = document.querySelector('#df-98b03710-5b0e-41c0-a343-03d3d7326375');\n",
              "          const dataTable =\n",
              "            await google.colab.kernel.invokeFunction('convertToInteractive',\n",
              "                                                     [key], {});\n",
              "          if (!dataTable) return;\n",
              "\n",
              "          const docLinkHtml = 'Like what you see? Visit the ' +\n",
              "            '<a target=\"_blank\" href=https://colab.research.google.com/notebooks/data_table.ipynb>data table notebook</a>'\n",
              "            + ' to learn more about interactive tables.';\n",
              "          element.innerHTML = '';\n",
              "          dataTable['output_type'] = 'display_data';\n",
              "          await google.colab.output.renderOutput(dataTable, element);\n",
              "          const docLink = document.createElement('div');\n",
              "          docLink.innerHTML = docLinkHtml;\n",
              "          element.appendChild(docLink);\n",
              "        }\n",
              "      </script>\n",
              "    </div>\n",
              "  </div>\n",
              "  "
            ]
          },
          "metadata": {},
          "execution_count": 18
        }
      ]
    },
    {
      "cell_type": "code",
      "source": [
        "df.isnull().sum()"
      ],
      "metadata": {
        "colab": {
          "base_uri": "https://localhost:8080/"
        },
        "id": "52AYOR7Z_MmR",
        "outputId": "9fe34de4-dc3b-4bb4-a300-b051023b770f"
      },
      "execution_count": null,
      "outputs": [
        {
          "output_type": "execute_result",
          "data": {
            "text/plain": [
              "Pregnancies                 0\n",
              "Glucose                     0\n",
              "BloodPressure               0\n",
              "SkinThickness               0\n",
              "Insulin                     0\n",
              "BMI                         0\n",
              "DiabetesPedigreeFunction    0\n",
              "Age                         0\n",
              "diabetic/non-diabetic       0\n",
              "dtype: int64"
            ]
          },
          "metadata": {},
          "execution_count": 19
        }
      ]
    },
    {
      "cell_type": "code",
      "source": [
        "y=df['diabetic/non-diabetic']\n",
        "X = df[['Pregnancies','Glucose','BloodPressure','SkinThickness','Insulin','BMI','DiabetesPedigreeFunction','Age']]\n",
        "percent_pos = sum(y)/len(y)\n",
        "print('PIMA Percentage Diabetes cases %.02f %%' %(percent_pos * 100))"
      ],
      "metadata": {
        "colab": {
          "base_uri": "https://localhost:8080/"
        },
        "id": "kreemkX8WGIA",
        "outputId": "ec475ed5-45b8-4bbb-98b2-e41b9b9a9c3d"
      },
      "execution_count": null,
      "outputs": [
        {
          "output_type": "stream",
          "name": "stdout",
          "text": [
            "PIMA Percentage Diabetes cases 33.33 %\n"
          ]
        }
      ]
    },
    {
      "cell_type": "code",
      "source": [
        "import seaborn as sns\n",
        "\n",
        "#Distribution of Target Variable\n",
        "sns.countplot(y=df['diabetic/non-diabetic'],data=df)\n",
        "\n",
        "# plotting to create pie chart and bar plot as subplots\n",
        "plt.figure(figsize=(14,7))\n",
        "plt.subplot(121)\n",
        "df[\"diabetic/non-diabetic\"].value_counts().plot.pie(autopct = \"%1.0f%%\",colors = sns.color_palette(\"prism\",7),startangle = 60,labels=[\"1\",\"0\"],\n",
        "wedgeprops={\"linewidth\":2,\"edgecolor\":\"k\"},explode=[.1,0],shadow =True)\n",
        "plt.title(\"Distribution of Target  Variable\")\n",
        "\n",
        "plt.subplot(122)\n",
        "ax = df[\"Pregnancies\"].value_counts().plot(kind=\"barh\")\n",
        "\n",
        "plt.title(\"Count of Prgenancies\")\n",
        "plt.show()"
      ],
      "metadata": {
        "colab": {
          "base_uri": "https://localhost:8080/",
          "height": 1000
        },
        "id": "Q6_bF5goVqXs",
        "outputId": "f40d56da-d5cd-471a-ffa0-b8e18e43e14f"
      },
      "execution_count": null,
      "outputs": [
        {
          "output_type": "display_data",
          "data": {
            "text/plain": [
              "<Figure size 640x480 with 1 Axes>"
            ],
            "image/png": "[encoded data removed]"
          },
          "metadata": {}
        },
        {
          "output_type": "display_data",
          "data": {
            "text/plain": [
              "<Figure size 1400x700 with 2 Axes>"
            ],
            "image/png": "[encoded data removed]"
          },
          "metadata": {}
        }
      ]
    },
    {
      "cell_type": "markdown",
      "source": [
        "## As we can see from the distribution, the dataset is almost balanced wrt target class"
      ],
      "metadata": {
        "id": "h2J05VGJ3Vu4"
      }
    },
    {
      "cell_type": "code",
      "source": [
        "X.corrwith(y).plot.bar(\n",
        "        figsize = (16, 6), title = \"Correlation with Diabetes\", fontsize = 15,\n",
        "        rot = 90, grid = True)"
      ],
      "metadata": {
        "colab": {
          "base_uri": "https://localhost:8080/",
          "height": 801
        },
        "id": "ZGhKC5EMdSzS",
        "outputId": "00d87586-bd6b-442a-9ceb-249260ec1701"
      },
      "execution_count": null,
      "outputs": [
        {
          "output_type": "execute_result",
          "data": {
            "text/plain": [
              "<Axes: title={'center': 'Correlation with Diabetes'}>"
            ]
          },
          "metadata": {},
          "execution_count": 22
        },
        {
          "output_type": "display_data",
          "data": {
            "text/plain": [
              "<Figure size 1600x600 with 1 Axes>"
            ],
            "image/png": "[encoded data removed]"
          },
          "metadata": {}
        }
      ]
    },
    {
      "cell_type": "markdown",
      "source": [
        "## Glucose, Age and BMI seem to be highly correlated with the target variable"
      ],
      "metadata": {
        "id": "KGflrxZ23jnQ"
      }
    },
    {
      "cell_type": "markdown",
      "source": [
        "# 4. Model Training"
      ],
      "metadata": {
        "id": "YKuidvkr3veP"
      }
    },
    {
      "cell_type": "code",
      "execution_count": null,
      "metadata": {
        "colab": {
          "base_uri": "https://localhost:8080/",
          "height": 645
        },
        "id": "fH3Gfv5XUodo",
        "outputId": "045e7c44-399b-4fe6-b408-76bfd1f982b8"
      },
      "outputs": [
        {
          "output_type": "display_data",
          "data": {
            "text/plain": [
              "<pandas.io.formats.style.Styler at 0x7ff710be7940>"
            ],
            "text/html": [
              "<style type=\"text/css\">\n",
              "#T_0fba9_row8_col1 {\n",
              "  background-color: lightgreen;\n",
              "}\n",
              "</style>\n",
              "<table id=\"T_0fba9\" class=\"dataframe\">\n",
              "  <thead>\n",
              "    <tr>\n",
              "      <th class=\"blank level0\" >&nbsp;</th>\n",
              "      <th id=\"T_0fba9_level0_col0\" class=\"col_heading level0 col0\" >Description</th>\n",
              "      <th id=\"T_0fba9_level0_col1\" class=\"col_heading level0 col1\" >Value</th>\n",
              "    </tr>\n",
              "  </thead>\n",
              "  <tbody>\n",
              "    <tr>\n",
              "      <th id=\"T_0fba9_level0_row0\" class=\"row_heading level0 row0\" >0</th>\n",
              "      <td id=\"T_0fba9_row0_col0\" class=\"data row0 col0\" >Session id</td>\n",
              "      <td id=\"T_0fba9_row0_col1\" class=\"data row0 col1\" >123</td>\n",
              "    </tr>\n",
              "    <tr>\n",
              "      <th id=\"T_0fba9_level0_row1\" class=\"row_heading level0 row1\" >1</th>\n",
              "      <td id=\"T_0fba9_row1_col0\" class=\"data row1 col0\" >Target</td>\n",
              "      <td id=\"T_0fba9_row1_col1\" class=\"data row1 col1\" >diabetic/non-diabetic</td>\n",
              "    </tr>\n",
              "    <tr>\n",
              "      <th id=\"T_0fba9_level0_row2\" class=\"row_heading level0 row2\" >2</th>\n",
              "      <td id=\"T_0fba9_row2_col0\" class=\"data row2 col0\" >Target type</td>\n",
              "      <td id=\"T_0fba9_row2_col1\" class=\"data row2 col1\" >Binary</td>\n",
              "    </tr>\n",
              "    <tr>\n",
              "      <th id=\"T_0fba9_level0_row3\" class=\"row_heading level0 row3\" >3</th>\n",
              "      <td id=\"T_0fba9_row3_col0\" class=\"data row3 col0\" >Original data shape</td>\n",
              "      <td id=\"T_0fba9_row3_col1\" class=\"data row3 col1\" >(537, 9)</td>\n",
              "    </tr>\n",
              "    <tr>\n",
              "      <th id=\"T_0fba9_level0_row4\" class=\"row_heading level0 row4\" >4</th>\n",
              "      <td id=\"T_0fba9_row4_col0\" class=\"data row4 col0\" >Transformed data shape</td>\n",
              "      <td id=\"T_0fba9_row4_col1\" class=\"data row4 col1\" >(537, 9)</td>\n",
              "    </tr>\n",
              "    <tr>\n",
              "      <th id=\"T_0fba9_level0_row5\" class=\"row_heading level0 row5\" >5</th>\n",
              "      <td id=\"T_0fba9_row5_col0\" class=\"data row5 col0\" >Transformed train set shape</td>\n",
              "      <td id=\"T_0fba9_row5_col1\" class=\"data row5 col1\" >(375, 9)</td>\n",
              "    </tr>\n",
              "    <tr>\n",
              "      <th id=\"T_0fba9_level0_row6\" class=\"row_heading level0 row6\" >6</th>\n",
              "      <td id=\"T_0fba9_row6_col0\" class=\"data row6 col0\" >Transformed test set shape</td>\n",
              "      <td id=\"T_0fba9_row6_col1\" class=\"data row6 col1\" >(162, 9)</td>\n",
              "    </tr>\n",
              "    <tr>\n",
              "      <th id=\"T_0fba9_level0_row7\" class=\"row_heading level0 row7\" >7</th>\n",
              "      <td id=\"T_0fba9_row7_col0\" class=\"data row7 col0\" >Numeric features</td>\n",
              "      <td id=\"T_0fba9_row7_col1\" class=\"data row7 col1\" >8</td>\n",
              "    </tr>\n",
              "    <tr>\n",
              "      <th id=\"T_0fba9_level0_row8\" class=\"row_heading level0 row8\" >8</th>\n",
              "      <td id=\"T_0fba9_row8_col0\" class=\"data row8 col0\" >Preprocess</td>\n",
              "      <td id=\"T_0fba9_row8_col1\" class=\"data row8 col1\" >True</td>\n",
              "    </tr>\n",
              "    <tr>\n",
              "      <th id=\"T_0fba9_level0_row9\" class=\"row_heading level0 row9\" >9</th>\n",
              "      <td id=\"T_0fba9_row9_col0\" class=\"data row9 col0\" >Imputation type</td>\n",
              "      <td id=\"T_0fba9_row9_col1\" class=\"data row9 col1\" >simple</td>\n",
              "    </tr>\n",
              "    <tr>\n",
              "      <th id=\"T_0fba9_level0_row10\" class=\"row_heading level0 row10\" >10</th>\n",
              "      <td id=\"T_0fba9_row10_col0\" class=\"data row10 col0\" >Numeric imputation</td>\n",
              "      <td id=\"T_0fba9_row10_col1\" class=\"data row10 col1\" >mean</td>\n",
              "    </tr>\n",
              "    <tr>\n",
              "      <th id=\"T_0fba9_level0_row11\" class=\"row_heading level0 row11\" >11</th>\n",
              "      <td id=\"T_0fba9_row11_col0\" class=\"data row11 col0\" >Categorical imputation</td>\n",
              "      <td id=\"T_0fba9_row11_col1\" class=\"data row11 col1\" >mode</td>\n",
              "    </tr>\n",
              "    <tr>\n",
              "      <th id=\"T_0fba9_level0_row12\" class=\"row_heading level0 row12\" >12</th>\n",
              "      <td id=\"T_0fba9_row12_col0\" class=\"data row12 col0\" >Fold Generator</td>\n",
              "      <td id=\"T_0fba9_row12_col1\" class=\"data row12 col1\" >StratifiedKFold</td>\n",
              "    </tr>\n",
              "    <tr>\n",
              "      <th id=\"T_0fba9_level0_row13\" class=\"row_heading level0 row13\" >13</th>\n",
              "      <td id=\"T_0fba9_row13_col0\" class=\"data row13 col0\" >Fold Number</td>\n",
              "      <td id=\"T_0fba9_row13_col1\" class=\"data row13 col1\" >10</td>\n",
              "    </tr>\n",
              "    <tr>\n",
              "      <th id=\"T_0fba9_level0_row14\" class=\"row_heading level0 row14\" >14</th>\n",
              "      <td id=\"T_0fba9_row14_col0\" class=\"data row14 col0\" >CPU Jobs</td>\n",
              "      <td id=\"T_0fba9_row14_col1\" class=\"data row14 col1\" >-1</td>\n",
              "    </tr>\n",
              "    <tr>\n",
              "      <th id=\"T_0fba9_level0_row15\" class=\"row_heading level0 row15\" >15</th>\n",
              "      <td id=\"T_0fba9_row15_col0\" class=\"data row15 col0\" >Use GPU</td>\n",
              "      <td id=\"T_0fba9_row15_col1\" class=\"data row15 col1\" >False</td>\n",
              "    </tr>\n",
              "    <tr>\n",
              "      <th id=\"T_0fba9_level0_row16\" class=\"row_heading level0 row16\" >16</th>\n",
              "      <td id=\"T_0fba9_row16_col0\" class=\"data row16 col0\" >Log Experiment</td>\n",
              "      <td id=\"T_0fba9_row16_col1\" class=\"data row16 col1\" >False</td>\n",
              "    </tr>\n",
              "    <tr>\n",
              "      <th id=\"T_0fba9_level0_row17\" class=\"row_heading level0 row17\" >17</th>\n",
              "      <td id=\"T_0fba9_row17_col0\" class=\"data row17 col0\" >Experiment Name</td>\n",
              "      <td id=\"T_0fba9_row17_col1\" class=\"data row17 col1\" >clf-default-name</td>\n",
              "    </tr>\n",
              "    <tr>\n",
              "      <th id=\"T_0fba9_level0_row18\" class=\"row_heading level0 row18\" >18</th>\n",
              "      <td id=\"T_0fba9_row18_col0\" class=\"data row18 col0\" >USI</td>\n",
              "      <td id=\"T_0fba9_row18_col1\" class=\"data row18 col1\" >f11e</td>\n",
              "    </tr>\n",
              "  </tbody>\n",
              "</table>\n"
            ]
          },
          "metadata": {}
        }
      ],
      "source": [
        "from pycaret.classification import *\n",
        "exp_clf = setup(data = df, target = 'diabetic/non-diabetic', session_id=123) "
      ]
    },
    {
      "cell_type": "code",
      "source": [
        "# compare baseline models\n",
        "best = compare_models()"
      ],
      "metadata": {
        "colab": {
          "base_uri": "https://localhost:8080/",
          "height": 520,
          "referenced_widgets": [
            "0257a76ee48e44eb90a62ec9ea3e2f51",
            "df739e2e7e244279a110d54d7af78a7e",
            "e1d6ea46ca7048a7bce365d8aba52f5a",
            "5482791372f24309a4117036ff0442d3",
            "52af4f050b3e4da9b7c6a518af7f192b",
            "95b7614ae2574296938ec0c656fb0042",
            "9d84d543cf7d4d26867b6a6b180bbec5",
            "490312ba4ac949059fb0d417d79c1ac7",
            "bdd5fc880abd4adca2b1f1d4d8383cd1",
            "1803c688d8624863a22af7c3afffd9fa",
            "6dcbfbc71a5742ae9851b512bb62c3b7"
          ]
        },
        "id": "MMtsBh71U6ph",
        "outputId": "d89ea250-4f0e-4d05-a08c-ad9635b3bb1c"
      },
      "execution_count": null,
      "outputs": [
        {
          "output_type": "display_data",
          "data": {
            "text/plain": [
              "<IPython.core.display.HTML object>"
            ],
            "text/html": []
          },
          "metadata": {}
        },
        {
          "output_type": "display_data",
          "data": {
            "text/plain": [
              "<pandas.io.formats.style.Styler at 0x7ff7447a5960>"
            ],
            "text/html": [
              "<style type=\"text/css\">\n",
              "#T_3da5a th {\n",
              "  text-align: left;\n",
              "}\n",
              "#T_3da5a_row0_col0, #T_3da5a_row0_col2, #T_3da5a_row0_col3, #T_3da5a_row1_col0, #T_3da5a_row1_col1, #T_3da5a_row1_col2, #T_3da5a_row1_col3, #T_3da5a_row1_col4, #T_3da5a_row1_col5, #T_3da5a_row1_col6, #T_3da5a_row1_col7, #T_3da5a_row2_col0, #T_3da5a_row2_col1, #T_3da5a_row2_col3, #T_3da5a_row2_col4, #T_3da5a_row2_col5, #T_3da5a_row2_col6, #T_3da5a_row2_col7, #T_3da5a_row3_col0, #T_3da5a_row3_col1, #T_3da5a_row3_col2, #T_3da5a_row3_col3, #T_3da5a_row3_col4, #T_3da5a_row3_col5, #T_3da5a_row3_col6, #T_3da5a_row3_col7, #T_3da5a_row4_col0, #T_3da5a_row4_col1, #T_3da5a_row4_col2, #T_3da5a_row4_col3, #T_3da5a_row4_col4, #T_3da5a_row4_col5, #T_3da5a_row4_col6, #T_3da5a_row4_col7, #T_3da5a_row5_col0, #T_3da5a_row5_col1, #T_3da5a_row5_col2, #T_3da5a_row5_col3, #T_3da5a_row5_col4, #T_3da5a_row5_col5, #T_3da5a_row5_col6, #T_3da5a_row5_col7, #T_3da5a_row6_col0, #T_3da5a_row6_col1, #T_3da5a_row6_col2, #T_3da5a_row6_col3, #T_3da5a_row6_col4, #T_3da5a_row6_col5, #T_3da5a_row6_col6, #T_3da5a_row6_col7, #T_3da5a_row7_col0, #T_3da5a_row7_col1, #T_3da5a_row7_col2, #T_3da5a_row7_col3, #T_3da5a_row7_col4, #T_3da5a_row7_col5, #T_3da5a_row7_col6, #T_3da5a_row7_col7, #T_3da5a_row8_col0, #T_3da5a_row8_col1, #T_3da5a_row8_col2, #T_3da5a_row8_col4, #T_3da5a_row8_col5, #T_3da5a_row8_col6, #T_3da5a_row8_col7, #T_3da5a_row9_col0, #T_3da5a_row9_col1, #T_3da5a_row9_col2, #T_3da5a_row9_col3, #T_3da5a_row9_col4, #T_3da5a_row9_col5, #T_3da5a_row9_col6, #T_3da5a_row9_col7, #T_3da5a_row10_col0, #T_3da5a_row10_col1, #T_3da5a_row10_col2, #T_3da5a_row10_col3, #T_3da5a_row10_col4, #T_3da5a_row10_col5, #T_3da5a_row10_col6, #T_3da5a_row10_col7, #T_3da5a_row11_col0, #T_3da5a_row11_col1, #T_3da5a_row11_col2, #T_3da5a_row11_col3, #T_3da5a_row11_col4, #T_3da5a_row11_col5, #T_3da5a_row11_col6, #T_3da5a_row11_col7, #T_3da5a_row12_col0, #T_3da5a_row12_col1, #T_3da5a_row12_col2, #T_3da5a_row12_col3, #T_3da5a_row12_col4, #T_3da5a_row12_col5, #T_3da5a_row12_col6, #T_3da5a_row12_col7, #T_3da5a_row13_col0, #T_3da5a_row13_col1, #T_3da5a_row13_col2, #T_3da5a_row13_col3, #T_3da5a_row13_col4, #T_3da5a_row13_col5, #T_3da5a_row13_col6, #T_3da5a_row13_col7, #T_3da5a_row14_col0, #T_3da5a_row14_col1, #T_3da5a_row14_col2, #T_3da5a_row14_col3, #T_3da5a_row14_col4, #T_3da5a_row14_col5, #T_3da5a_row14_col6, #T_3da5a_row14_col7 {\n",
              "  text-align: left;\n",
              "}\n",
              "#T_3da5a_row0_col1, #T_3da5a_row0_col4, #T_3da5a_row0_col5, #T_3da5a_row0_col6, #T_3da5a_row0_col7, #T_3da5a_row2_col2, #T_3da5a_row8_col3 {\n",
              "  text-align: left;\n",
              "  background-color: yellow;\n",
              "}\n",
              "#T_3da5a_row0_col8, #T_3da5a_row1_col8, #T_3da5a_row2_col8, #T_3da5a_row3_col8, #T_3da5a_row4_col8, #T_3da5a_row5_col8, #T_3da5a_row6_col8, #T_3da5a_row7_col8, #T_3da5a_row8_col8, #T_3da5a_row10_col8, #T_3da5a_row11_col8, #T_3da5a_row12_col8, #T_3da5a_row13_col8, #T_3da5a_row14_col8 {\n",
              "  text-align: left;\n",
              "  background-color: lightgrey;\n",
              "}\n",
              "#T_3da5a_row9_col8 {\n",
              "  text-align: left;\n",
              "  background-color: yellow;\n",
              "  background-color: lightgrey;\n",
              "}\n",
              "</style>\n",
              "<table id=\"T_3da5a\" class=\"dataframe\">\n",
              "  <thead>\n",
              "    <tr>\n",
              "      <th class=\"blank level0\" >&nbsp;</th>\n",
              "      <th id=\"T_3da5a_level0_col0\" class=\"col_heading level0 col0\" >Model</th>\n",
              "      <th id=\"T_3da5a_level0_col1\" class=\"col_heading level0 col1\" >Accuracy</th>\n",
              "      <th id=\"T_3da5a_level0_col2\" class=\"col_heading level0 col2\" >AUC</th>\n",
              "      <th id=\"T_3da5a_level0_col3\" class=\"col_heading level0 col3\" >Recall</th>\n",
              "      <th id=\"T_3da5a_level0_col4\" class=\"col_heading level0 col4\" >Prec.</th>\n",
              "      <th id=\"T_3da5a_level0_col5\" class=\"col_heading level0 col5\" >F1</th>\n",
              "      <th id=\"T_3da5a_level0_col6\" class=\"col_heading level0 col6\" >Kappa</th>\n",
              "      <th id=\"T_3da5a_level0_col7\" class=\"col_heading level0 col7\" >MCC</th>\n",
              "      <th id=\"T_3da5a_level0_col8\" class=\"col_heading level0 col8\" >TT (Sec)</th>\n",
              "    </tr>\n",
              "  </thead>\n",
              "  <tbody>\n",
              "    <tr>\n",
              "      <th id=\"T_3da5a_level0_row0\" class=\"row_heading level0 row0\" >gbc</th>\n",
              "      <td id=\"T_3da5a_row0_col0\" class=\"data row0 col0\" >Gradient Boosting Classifier</td>\n",
              "      <td id=\"T_3da5a_row0_col1\" class=\"data row0 col1\" >0.8056</td>\n",
              "      <td id=\"T_3da5a_row0_col2\" class=\"data row0 col2\" >0.8611</td>\n",
              "      <td id=\"T_3da5a_row0_col3\" class=\"data row0 col3\" >0.6391</td>\n",
              "      <td id=\"T_3da5a_row0_col4\" class=\"data row0 col4\" >0.7697</td>\n",
              "      <td id=\"T_3da5a_row0_col5\" class=\"data row0 col5\" >0.6790</td>\n",
              "      <td id=\"T_3da5a_row0_col6\" class=\"data row0 col6\" >0.5439</td>\n",
              "      <td id=\"T_3da5a_row0_col7\" class=\"data row0 col7\" >0.5627</td>\n",
              "      <td id=\"T_3da5a_row0_col8\" class=\"data row0 col8\" >0.2020</td>\n",
              "    </tr>\n",
              "    <tr>\n",
              "      <th id=\"T_3da5a_level0_row1\" class=\"row_heading level0 row1\" >ridge</th>\n",
              "      <td id=\"T_3da5a_row1_col0\" class=\"data row1 col0\" >Ridge Classifier</td>\n",
              "      <td id=\"T_3da5a_row1_col1\" class=\"data row1 col1\" >0.7922</td>\n",
              "      <td id=\"T_3da5a_row1_col2\" class=\"data row1 col2\" >0.0000</td>\n",
              "      <td id=\"T_3da5a_row1_col3\" class=\"data row1 col3\" >0.5981</td>\n",
              "      <td id=\"T_3da5a_row1_col4\" class=\"data row1 col4\" >0.7563</td>\n",
              "      <td id=\"T_3da5a_row1_col5\" class=\"data row1 col5\" >0.6481</td>\n",
              "      <td id=\"T_3da5a_row1_col6\" class=\"data row1 col6\" >0.5063</td>\n",
              "      <td id=\"T_3da5a_row1_col7\" class=\"data row1 col7\" >0.5255</td>\n",
              "      <td id=\"T_3da5a_row1_col8\" class=\"data row1 col8\" >0.0570</td>\n",
              "    </tr>\n",
              "    <tr>\n",
              "      <th id=\"T_3da5a_level0_row2\" class=\"row_heading level0 row2\" >lda</th>\n",
              "      <td id=\"T_3da5a_row2_col0\" class=\"data row2 col0\" >Linear Discriminant Analysis</td>\n",
              "      <td id=\"T_3da5a_row2_col1\" class=\"data row2 col1\" >0.7922</td>\n",
              "      <td id=\"T_3da5a_row2_col2\" class=\"data row2 col2\" >0.8738</td>\n",
              "      <td id=\"T_3da5a_row2_col3\" class=\"data row2 col3\" >0.5981</td>\n",
              "      <td id=\"T_3da5a_row2_col4\" class=\"data row2 col4\" >0.7563</td>\n",
              "      <td id=\"T_3da5a_row2_col5\" class=\"data row2 col5\" >0.6481</td>\n",
              "      <td id=\"T_3da5a_row2_col6\" class=\"data row2 col6\" >0.5063</td>\n",
              "      <td id=\"T_3da5a_row2_col7\" class=\"data row2 col7\" >0.5255</td>\n",
              "      <td id=\"T_3da5a_row2_col8\" class=\"data row2 col8\" >0.0590</td>\n",
              "    </tr>\n",
              "    <tr>\n",
              "      <th id=\"T_3da5a_level0_row3\" class=\"row_heading level0 row3\" >ada</th>\n",
              "      <td id=\"T_3da5a_row3_col0\" class=\"data row3 col0\" >Ada Boost Classifier</td>\n",
              "      <td id=\"T_3da5a_row3_col1\" class=\"data row3 col1\" >0.7897</td>\n",
              "      <td id=\"T_3da5a_row3_col2\" class=\"data row3 col2\" >0.8422</td>\n",
              "      <td id=\"T_3da5a_row3_col3\" class=\"data row3 col3\" >0.6321</td>\n",
              "      <td id=\"T_3da5a_row3_col4\" class=\"data row3 col4\" >0.7168</td>\n",
              "      <td id=\"T_3da5a_row3_col5\" class=\"data row3 col5\" >0.6565</td>\n",
              "      <td id=\"T_3da5a_row3_col6\" class=\"data row3 col6\" >0.5086</td>\n",
              "      <td id=\"T_3da5a_row3_col7\" class=\"data row3 col7\" >0.5208</td>\n",
              "      <td id=\"T_3da5a_row3_col8\" class=\"data row3 col8\" >0.1470</td>\n",
              "    </tr>\n",
              "    <tr>\n",
              "      <th id=\"T_3da5a_level0_row4\" class=\"row_heading level0 row4\" >lr</th>\n",
              "      <td id=\"T_3da5a_row4_col0\" class=\"data row4 col0\" >Logistic Regression</td>\n",
              "      <td id=\"T_3da5a_row4_col1\" class=\"data row4 col1\" >0.7895</td>\n",
              "      <td id=\"T_3da5a_row4_col2\" class=\"data row4 col2\" >0.8717</td>\n",
              "      <td id=\"T_3da5a_row4_col3\" class=\"data row4 col3\" >0.6064</td>\n",
              "      <td id=\"T_3da5a_row4_col4\" class=\"data row4 col4\" >0.7295</td>\n",
              "      <td id=\"T_3da5a_row4_col5\" class=\"data row4 col5\" >0.6512</td>\n",
              "      <td id=\"T_3da5a_row4_col6\" class=\"data row4 col6\" >0.5040</td>\n",
              "      <td id=\"T_3da5a_row4_col7\" class=\"data row4 col7\" >0.5162</td>\n",
              "      <td id=\"T_3da5a_row4_col8\" class=\"data row4 col8\" >0.2690</td>\n",
              "    </tr>\n",
              "    <tr>\n",
              "      <th id=\"T_3da5a_level0_row5\" class=\"row_heading level0 row5\" >lightgbm</th>\n",
              "      <td id=\"T_3da5a_row5_col0\" class=\"data row5 col0\" >Light Gradient Boosting Machine</td>\n",
              "      <td id=\"T_3da5a_row5_col1\" class=\"data row5 col1\" >0.7869</td>\n",
              "      <td id=\"T_3da5a_row5_col2\" class=\"data row5 col2\" >0.8726</td>\n",
              "      <td id=\"T_3da5a_row5_col3\" class=\"data row5 col3\" >0.6397</td>\n",
              "      <td id=\"T_3da5a_row5_col4\" class=\"data row5 col4\" >0.7088</td>\n",
              "      <td id=\"T_3da5a_row5_col5\" class=\"data row5 col5\" >0.6586</td>\n",
              "      <td id=\"T_3da5a_row5_col6\" class=\"data row5 col6\" >0.5065</td>\n",
              "      <td id=\"T_3da5a_row5_col7\" class=\"data row5 col7\" >0.5196</td>\n",
              "      <td id=\"T_3da5a_row5_col8\" class=\"data row5 col8\" >0.1490</td>\n",
              "    </tr>\n",
              "    <tr>\n",
              "      <th id=\"T_3da5a_level0_row6\" class=\"row_heading level0 row6\" >xgboost</th>\n",
              "      <td id=\"T_3da5a_row6_col0\" class=\"data row6 col0\" >Extreme Gradient Boosting</td>\n",
              "      <td id=\"T_3da5a_row6_col1\" class=\"data row6 col1\" >0.7816</td>\n",
              "      <td id=\"T_3da5a_row6_col2\" class=\"data row6 col2\" >0.8645</td>\n",
              "      <td id=\"T_3da5a_row6_col3\" class=\"data row6 col3\" >0.6474</td>\n",
              "      <td id=\"T_3da5a_row6_col4\" class=\"data row6 col4\" >0.7063</td>\n",
              "      <td id=\"T_3da5a_row6_col5\" class=\"data row6 col5\" >0.6607</td>\n",
              "      <td id=\"T_3da5a_row6_col6\" class=\"data row6 col6\" >0.5020</td>\n",
              "      <td id=\"T_3da5a_row6_col7\" class=\"data row6 col7\" >0.5146</td>\n",
              "      <td id=\"T_3da5a_row6_col8\" class=\"data row6 col8\" >0.1690</td>\n",
              "    </tr>\n",
              "    <tr>\n",
              "      <th id=\"T_3da5a_level0_row7\" class=\"row_heading level0 row7\" >rf</th>\n",
              "      <td id=\"T_3da5a_row7_col0\" class=\"data row7 col0\" >Random Forest Classifier</td>\n",
              "      <td id=\"T_3da5a_row7_col1\" class=\"data row7 col1\" >0.7762</td>\n",
              "      <td id=\"T_3da5a_row7_col2\" class=\"data row7 col2\" >0.8551</td>\n",
              "      <td id=\"T_3da5a_row7_col3\" class=\"data row7 col3\" >0.5679</td>\n",
              "      <td id=\"T_3da5a_row7_col4\" class=\"data row7 col4\" >0.7146</td>\n",
              "      <td id=\"T_3da5a_row7_col5\" class=\"data row7 col5\" >0.6136</td>\n",
              "      <td id=\"T_3da5a_row7_col6\" class=\"data row7 col6\" >0.4636</td>\n",
              "      <td id=\"T_3da5a_row7_col7\" class=\"data row7 col7\" >0.4816</td>\n",
              "      <td id=\"T_3da5a_row7_col8\" class=\"data row7 col8\" >0.3980</td>\n",
              "    </tr>\n",
              "    <tr>\n",
              "      <th id=\"T_3da5a_level0_row8\" class=\"row_heading level0 row8\" >dt</th>\n",
              "      <td id=\"T_3da5a_row8_col0\" class=\"data row8 col0\" >Decision Tree Classifier</td>\n",
              "      <td id=\"T_3da5a_row8_col1\" class=\"data row8 col1\" >0.7632</td>\n",
              "      <td id=\"T_3da5a_row8_col2\" class=\"data row8 col2\" >0.7347</td>\n",
              "      <td id=\"T_3da5a_row8_col3\" class=\"data row8 col3\" >0.6494</td>\n",
              "      <td id=\"T_3da5a_row8_col4\" class=\"data row8 col4\" >0.6550</td>\n",
              "      <td id=\"T_3da5a_row8_col5\" class=\"data row8 col5\" >0.6484</td>\n",
              "      <td id=\"T_3da5a_row8_col6\" class=\"data row8 col6\" >0.4707</td>\n",
              "      <td id=\"T_3da5a_row8_col7\" class=\"data row8 col7\" >0.4733</td>\n",
              "      <td id=\"T_3da5a_row8_col8\" class=\"data row8 col8\" >0.0430</td>\n",
              "    </tr>\n",
              "    <tr>\n",
              "      <th id=\"T_3da5a_level0_row9\" class=\"row_heading level0 row9\" >nb</th>\n",
              "      <td id=\"T_3da5a_row9_col0\" class=\"data row9 col0\" >Naive Bayes</td>\n",
              "      <td id=\"T_3da5a_row9_col1\" class=\"data row9 col1\" >0.7628</td>\n",
              "      <td id=\"T_3da5a_row9_col2\" class=\"data row9 col2\" >0.8504</td>\n",
              "      <td id=\"T_3da5a_row9_col3\" class=\"data row9 col3\" >0.6385</td>\n",
              "      <td id=\"T_3da5a_row9_col4\" class=\"data row9 col4\" >0.6502</td>\n",
              "      <td id=\"T_3da5a_row9_col5\" class=\"data row9 col5\" >0.6342</td>\n",
              "      <td id=\"T_3da5a_row9_col6\" class=\"data row9 col6\" >0.4604</td>\n",
              "      <td id=\"T_3da5a_row9_col7\" class=\"data row9 col7\" >0.4693</td>\n",
              "      <td id=\"T_3da5a_row9_col8\" class=\"data row9 col8\" >0.0410</td>\n",
              "    </tr>\n",
              "    <tr>\n",
              "      <th id=\"T_3da5a_level0_row10\" class=\"row_heading level0 row10\" >et</th>\n",
              "      <td id=\"T_3da5a_row10_col0\" class=\"data row10 col0\" >Extra Trees Classifier</td>\n",
              "      <td id=\"T_3da5a_row10_col1\" class=\"data row10 col1\" >0.7522</td>\n",
              "      <td id=\"T_3da5a_row10_col2\" class=\"data row10 col2\" >0.8402</td>\n",
              "      <td id=\"T_3da5a_row10_col3\" class=\"data row10 col3\" >0.5423</td>\n",
              "      <td id=\"T_3da5a_row10_col4\" class=\"data row10 col4\" >0.6634</td>\n",
              "      <td id=\"T_3da5a_row10_col5\" class=\"data row10 col5\" >0.5860</td>\n",
              "      <td id=\"T_3da5a_row10_col6\" class=\"data row10 col6\" >0.4138</td>\n",
              "      <td id=\"T_3da5a_row10_col7\" class=\"data row10 col7\" >0.4242</td>\n",
              "      <td id=\"T_3da5a_row10_col8\" class=\"data row10 col8\" >0.4480</td>\n",
              "    </tr>\n",
              "    <tr>\n",
              "      <th id=\"T_3da5a_level0_row11\" class=\"row_heading level0 row11\" >qda</th>\n",
              "      <td id=\"T_3da5a_row11_col0\" class=\"data row11 col0\" >Quadratic Discriminant Analysis</td>\n",
              "      <td id=\"T_3da5a_row11_col1\" class=\"data row11 col1\" >0.7518</td>\n",
              "      <td id=\"T_3da5a_row11_col2\" class=\"data row11 col2\" >0.8346</td>\n",
              "      <td id=\"T_3da5a_row11_col3\" class=\"data row11 col3\" >0.5737</td>\n",
              "      <td id=\"T_3da5a_row11_col4\" class=\"data row11 col4\" >0.6483</td>\n",
              "      <td id=\"T_3da5a_row11_col5\" class=\"data row11 col5\" >0.5962</td>\n",
              "      <td id=\"T_3da5a_row11_col6\" class=\"data row11 col6\" >0.4209</td>\n",
              "      <td id=\"T_3da5a_row11_col7\" class=\"data row11 col7\" >0.4319</td>\n",
              "      <td id=\"T_3da5a_row11_col8\" class=\"data row11 col8\" >0.0430</td>\n",
              "    </tr>\n",
              "    <tr>\n",
              "      <th id=\"T_3da5a_level0_row12\" class=\"row_heading level0 row12\" >knn</th>\n",
              "      <td id=\"T_3da5a_row12_col0\" class=\"data row12 col0\" >K Neighbors Classifier</td>\n",
              "      <td id=\"T_3da5a_row12_col1\" class=\"data row12 col1\" >0.7334</td>\n",
              "      <td id=\"T_3da5a_row12_col2\" class=\"data row12 col2\" >0.7728</td>\n",
              "      <td id=\"T_3da5a_row12_col3\" class=\"data row12 col3\" >0.5583</td>\n",
              "      <td id=\"T_3da5a_row12_col4\" class=\"data row12 col4\" >0.6070</td>\n",
              "      <td id=\"T_3da5a_row12_col5\" class=\"data row12 col5\" >0.5788</td>\n",
              "      <td id=\"T_3da5a_row12_col6\" class=\"data row12 col6\" >0.3848</td>\n",
              "      <td id=\"T_3da5a_row12_col7\" class=\"data row12 col7\" >0.3875</td>\n",
              "      <td id=\"T_3da5a_row12_col8\" class=\"data row12 col8\" >0.0510</td>\n",
              "    </tr>\n",
              "    <tr>\n",
              "      <th id=\"T_3da5a_level0_row13\" class=\"row_heading level0 row13\" >dummy</th>\n",
              "      <td id=\"T_3da5a_row13_col0\" class=\"data row13 col0\" >Dummy Classifier</td>\n",
              "      <td id=\"T_3da5a_row13_col1\" class=\"data row13 col1\" >0.6668</td>\n",
              "      <td id=\"T_3da5a_row13_col2\" class=\"data row13 col2\" >0.5000</td>\n",
              "      <td id=\"T_3da5a_row13_col3\" class=\"data row13 col3\" >0.0000</td>\n",
              "      <td id=\"T_3da5a_row13_col4\" class=\"data row13 col4\" >0.0000</td>\n",
              "      <td id=\"T_3da5a_row13_col5\" class=\"data row13 col5\" >0.0000</td>\n",
              "      <td id=\"T_3da5a_row13_col6\" class=\"data row13 col6\" >0.0000</td>\n",
              "      <td id=\"T_3da5a_row13_col7\" class=\"data row13 col7\" >0.0000</td>\n",
              "      <td id=\"T_3da5a_row13_col8\" class=\"data row13 col8\" >0.0460</td>\n",
              "    </tr>\n",
              "    <tr>\n",
              "      <th id=\"T_3da5a_level0_row14\" class=\"row_heading level0 row14\" >svm</th>\n",
              "      <td id=\"T_3da5a_row14_col0\" class=\"data row14 col0\" >SVM - Linear Kernel</td>\n",
              "      <td id=\"T_3da5a_row14_col1\" class=\"data row14 col1\" >0.6428</td>\n",
              "      <td id=\"T_3da5a_row14_col2\" class=\"data row14 col2\" >0.0000</td>\n",
              "      <td id=\"T_3da5a_row14_col3\" class=\"data row14 col3\" >0.4878</td>\n",
              "      <td id=\"T_3da5a_row14_col4\" class=\"data row14 col4\" >0.4922</td>\n",
              "      <td id=\"T_3da5a_row14_col5\" class=\"data row14 col5\" >0.4424</td>\n",
              "      <td id=\"T_3da5a_row14_col6\" class=\"data row14 col6\" >0.2071</td>\n",
              "      <td id=\"T_3da5a_row14_col7\" class=\"data row14 col7\" >0.2326</td>\n",
              "      <td id=\"T_3da5a_row14_col8\" class=\"data row14 col8\" >0.0440</td>\n",
              "    </tr>\n",
              "  </tbody>\n",
              "</table>\n"
            ]
          },
          "metadata": {}
        },
        {
          "output_type": "display_data",
          "data": {
            "text/plain": [
              "Processing:   0%|          | 0/65 [00:00<?, ?it/s]"
            ],
            "application/vnd.jupyter.widget-view+json": {
              "version_major": 2,
              "version_minor": 0,
              "model_id": "0257a76ee48e44eb90a62ec9ea3e2f51"
            }
          },
          "metadata": {
            "application/vnd.jupyter.widget-view+json": {
              "colab": {
                "custom_widget_manager": {
                  "url": "https://ssl.gstatic.com/colaboratory-static/widgets/colab-cdn-widget-manager/b3e629b1971e1542/manager.min.js"
                }
              }
            }
          }
        },
        {
          "output_type": "display_data",
          "data": {
            "text/plain": [
              "<IPython.core.display.HTML object>"
            ],
            "text/html": []
          },
          "metadata": {}
        }
      ]
    },
    {
      "cell_type": "markdown",
      "source": [
        "2 models have shown satisfactory results:\n",
        "1. Gradient Boost Classifier - has high accuracy, F1 Score and precision\n",
        "2. Decision Tree - has high recall\n",
        "\n",
        "Since, the cost of false negatives(a person having diabetes but getting predicted as not having diabetes) is high in this case, recall is an important parameter to be considered"
      ],
      "metadata": {
        "id": "tthQaK3CXoEJ"
      }
    },
    {
      "cell_type": "markdown",
      "source": [
        "## Implementing Gradient Boost Classifier"
      ],
      "metadata": {
        "id": "ULHOrLWeYeB7"
      }
    },
    {
      "cell_type": "code",
      "source": [
        "gbc = create_model('gbc')"
      ],
      "metadata": {
        "colab": {
          "base_uri": "https://localhost:8080/",
          "height": 457,
          "referenced_widgets": [
            "27054ac916d643a2996cc14993489777",
            "4f128fd061df4e28826a3eb5ec41a2b0",
            "7d10489a623245188d4b173e8648c034",
            "f3ecb0e2ca2849c8a974d41e8b701fe2",
            "f274fc2b54204e4e865d7e378d073e46",
            "fc72b485bd984c24a36da94ad8e61ca6",
            "a1969606f5c54fd68d4318a0d00b01d3",
            "1c5e279ea305462ca174ec4cee4173b0",
            "af5777067afb4a32aa494443a7fcfd87",
            "d117779949694752af7f699ecd6130e9",
            "9f3f6fdb25f948e5929ec6937754f38b"
          ]
        },
        "id": "DtpRBF49YKXG",
        "outputId": "6c9fd1d4-9af4-4f64-e172-845a20bd240d"
      },
      "execution_count": null,
      "outputs": [
        {
          "output_type": "display_data",
          "data": {
            "text/plain": [
              "<IPython.core.display.HTML object>"
            ],
            "text/html": []
          },
          "metadata": {}
        },
        {
          "output_type": "display_data",
          "data": {
            "text/plain": [
              "<pandas.io.formats.style.Styler at 0x7ff710c2cdf0>"
            ],
            "text/html": [
              "<style type=\"text/css\">\n",
              "#T_42b46_row10_col0, #T_42b46_row10_col1, #T_42b46_row10_col2, #T_42b46_row10_col3, #T_42b46_row10_col4, #T_42b46_row10_col5, #T_42b46_row10_col6 {\n",
              "  background: yellow;\n",
              "}\n",
              "</style>\n",
              "<table id=\"T_42b46\" class=\"dataframe\">\n",
              "  <thead>\n",
              "    <tr>\n",
              "      <th class=\"blank level0\" >&nbsp;</th>\n",
              "      <th id=\"T_42b46_level0_col0\" class=\"col_heading level0 col0\" >Accuracy</th>\n",
              "      <th id=\"T_42b46_level0_col1\" class=\"col_heading level0 col1\" >AUC</th>\n",
              "      <th id=\"T_42b46_level0_col2\" class=\"col_heading level0 col2\" >Recall</th>\n",
              "      <th id=\"T_42b46_level0_col3\" class=\"col_heading level0 col3\" >Prec.</th>\n",
              "      <th id=\"T_42b46_level0_col4\" class=\"col_heading level0 col4\" >F1</th>\n",
              "      <th id=\"T_42b46_level0_col5\" class=\"col_heading level0 col5\" >Kappa</th>\n",
              "      <th id=\"T_42b46_level0_col6\" class=\"col_heading level0 col6\" >MCC</th>\n",
              "    </tr>\n",
              "    <tr>\n",
              "      <th class=\"index_name level0\" >Fold</th>\n",
              "      <th class=\"blank col0\" >&nbsp;</th>\n",
              "      <th class=\"blank col1\" >&nbsp;</th>\n",
              "      <th class=\"blank col2\" >&nbsp;</th>\n",
              "      <th class=\"blank col3\" >&nbsp;</th>\n",
              "      <th class=\"blank col4\" >&nbsp;</th>\n",
              "      <th class=\"blank col5\" >&nbsp;</th>\n",
              "      <th class=\"blank col6\" >&nbsp;</th>\n",
              "    </tr>\n",
              "  </thead>\n",
              "  <tbody>\n",
              "    <tr>\n",
              "      <th id=\"T_42b46_level0_row0\" class=\"row_heading level0 row0\" >0</th>\n",
              "      <td id=\"T_42b46_row0_col0\" class=\"data row0 col0\" >0.8421</td>\n",
              "      <td id=\"T_42b46_row0_col1\" class=\"data row0 col1\" >0.8246</td>\n",
              "      <td id=\"T_42b46_row0_col2\" class=\"data row0 col2\" >0.6923</td>\n",
              "      <td id=\"T_42b46_row0_col3\" class=\"data row0 col3\" >0.8182</td>\n",
              "      <td id=\"T_42b46_row0_col4\" class=\"data row0 col4\" >0.7500</td>\n",
              "      <td id=\"T_42b46_row0_col5\" class=\"data row0 col5\" >0.6358</td>\n",
              "      <td id=\"T_42b46_row0_col6\" class=\"data row0 col6\" >0.6405</td>\n",
              "    </tr>\n",
              "    <tr>\n",
              "      <th id=\"T_42b46_level0_row1\" class=\"row_heading level0 row1\" >1</th>\n",
              "      <td id=\"T_42b46_row1_col0\" class=\"data row1 col0\" >0.8158</td>\n",
              "      <td id=\"T_42b46_row1_col1\" class=\"data row1 col1\" >0.8338</td>\n",
              "      <td id=\"T_42b46_row1_col2\" class=\"data row1 col2\" >0.6154</td>\n",
              "      <td id=\"T_42b46_row1_col3\" class=\"data row1 col3\" >0.8000</td>\n",
              "      <td id=\"T_42b46_row1_col4\" class=\"data row1 col4\" >0.6957</td>\n",
              "      <td id=\"T_42b46_row1_col5\" class=\"data row1 col5\" >0.5668</td>\n",
              "      <td id=\"T_42b46_row1_col6\" class=\"data row1 col6\" >0.5768</td>\n",
              "    </tr>\n",
              "    <tr>\n",
              "      <th id=\"T_42b46_level0_row2\" class=\"row_heading level0 row2\" >2</th>\n",
              "      <td id=\"T_42b46_row2_col0\" class=\"data row2 col0\" >0.7632</td>\n",
              "      <td id=\"T_42b46_row2_col1\" class=\"data row2 col1\" >0.9169</td>\n",
              "      <td id=\"T_42b46_row2_col2\" class=\"data row2 col2\" >0.8462</td>\n",
              "      <td id=\"T_42b46_row2_col3\" class=\"data row2 col3\" >0.6111</td>\n",
              "      <td id=\"T_42b46_row2_col4\" class=\"data row2 col4\" >0.7097</td>\n",
              "      <td id=\"T_42b46_row2_col5\" class=\"data row2 col5\" >0.5183</td>\n",
              "      <td id=\"T_42b46_row2_col6\" class=\"data row2 col6\" >0.5379</td>\n",
              "    </tr>\n",
              "    <tr>\n",
              "      <th id=\"T_42b46_level0_row3\" class=\"row_heading level0 row3\" >3</th>\n",
              "      <td id=\"T_42b46_row3_col0\" class=\"data row3 col0\" >0.6579</td>\n",
              "      <td id=\"T_42b46_row3_col1\" class=\"data row3 col1\" >0.7508</td>\n",
              "      <td id=\"T_42b46_row3_col2\" class=\"data row3 col2\" >0.5385</td>\n",
              "      <td id=\"T_42b46_row3_col3\" class=\"data row3 col3\" >0.5000</td>\n",
              "      <td id=\"T_42b46_row3_col4\" class=\"data row3 col4\" >0.5185</td>\n",
              "      <td id=\"T_42b46_row3_col5\" class=\"data row3 col5\" >0.2538</td>\n",
              "      <td id=\"T_42b46_row3_col6\" class=\"data row3 col6\" >0.2542</td>\n",
              "    </tr>\n",
              "    <tr>\n",
              "      <th id=\"T_42b46_level0_row4\" class=\"row_heading level0 row4\" >4</th>\n",
              "      <td id=\"T_42b46_row4_col0\" class=\"data row4 col0\" >0.8421</td>\n",
              "      <td id=\"T_42b46_row4_col1\" class=\"data row4 col1\" >0.8677</td>\n",
              "      <td id=\"T_42b46_row4_col2\" class=\"data row4 col2\" >0.6154</td>\n",
              "      <td id=\"T_42b46_row4_col3\" class=\"data row4 col3\" >0.8889</td>\n",
              "      <td id=\"T_42b46_row4_col4\" class=\"data row4 col4\" >0.7273</td>\n",
              "      <td id=\"T_42b46_row4_col5\" class=\"data row4 col5\" >0.6213</td>\n",
              "      <td id=\"T_42b46_row4_col6\" class=\"data row4 col6\" >0.6421</td>\n",
              "    </tr>\n",
              "    <tr>\n",
              "      <th id=\"T_42b46_level0_row5\" class=\"row_heading level0 row5\" >5</th>\n",
              "      <td id=\"T_42b46_row5_col0\" class=\"data row5 col0\" >0.8919</td>\n",
              "      <td id=\"T_42b46_row5_col1\" class=\"data row5 col1\" >0.9233</td>\n",
              "      <td id=\"T_42b46_row5_col2\" class=\"data row5 col2\" >0.9167</td>\n",
              "      <td id=\"T_42b46_row5_col3\" class=\"data row5 col3\" >0.7857</td>\n",
              "      <td id=\"T_42b46_row5_col4\" class=\"data row5 col4\" >0.8462</td>\n",
              "      <td id=\"T_42b46_row5_col5\" class=\"data row5 col5\" >0.7636</td>\n",
              "      <td id=\"T_42b46_row5_col6\" class=\"data row5 col6\" >0.7690</td>\n",
              "    </tr>\n",
              "    <tr>\n",
              "      <th id=\"T_42b46_level0_row6\" class=\"row_heading level0 row6\" >6</th>\n",
              "      <td id=\"T_42b46_row6_col0\" class=\"data row6 col0\" >0.8108</td>\n",
              "      <td id=\"T_42b46_row6_col1\" class=\"data row6 col1\" >0.8433</td>\n",
              "      <td id=\"T_42b46_row6_col2\" class=\"data row6 col2\" >0.5000</td>\n",
              "      <td id=\"T_42b46_row6_col3\" class=\"data row6 col3\" >0.8571</td>\n",
              "      <td id=\"T_42b46_row6_col4\" class=\"data row6 col4\" >0.6316</td>\n",
              "      <td id=\"T_42b46_row6_col5\" class=\"data row6 col5\" >0.5159</td>\n",
              "      <td id=\"T_42b46_row6_col6\" class=\"data row6 col6\" >0.5498</td>\n",
              "    </tr>\n",
              "    <tr>\n",
              "      <th id=\"T_42b46_level0_row7\" class=\"row_heading level0 row7\" >7</th>\n",
              "      <td id=\"T_42b46_row7_col0\" class=\"data row7 col0\" >0.8649</td>\n",
              "      <td id=\"T_42b46_row7_col1\" class=\"data row7 col1\" >0.9300</td>\n",
              "      <td id=\"T_42b46_row7_col2\" class=\"data row7 col2\" >0.8333</td>\n",
              "      <td id=\"T_42b46_row7_col3\" class=\"data row7 col3\" >0.7692</td>\n",
              "      <td id=\"T_42b46_row7_col4\" class=\"data row7 col4\" >0.8000</td>\n",
              "      <td id=\"T_42b46_row7_col5\" class=\"data row7 col5\" >0.6982</td>\n",
              "      <td id=\"T_42b46_row7_col6\" class=\"data row7 col6\" >0.6995</td>\n",
              "    </tr>\n",
              "    <tr>\n",
              "      <th id=\"T_42b46_level0_row8\" class=\"row_heading level0 row8\" >8</th>\n",
              "      <td id=\"T_42b46_row8_col0\" class=\"data row8 col0\" >0.7838</td>\n",
              "      <td id=\"T_42b46_row8_col1\" class=\"data row8 col1\" >0.8500</td>\n",
              "      <td id=\"T_42b46_row8_col2\" class=\"data row8 col2\" >0.4167</td>\n",
              "      <td id=\"T_42b46_row8_col3\" class=\"data row8 col3\" >0.8333</td>\n",
              "      <td id=\"T_42b46_row8_col4\" class=\"data row8 col4\" >0.5556</td>\n",
              "      <td id=\"T_42b46_row8_col5\" class=\"data row8 col5\" >0.4330</td>\n",
              "      <td id=\"T_42b46_row8_col6\" class=\"data row8 col6\" >0.4784</td>\n",
              "    </tr>\n",
              "    <tr>\n",
              "      <th id=\"T_42b46_level0_row9\" class=\"row_heading level0 row9\" >9</th>\n",
              "      <td id=\"T_42b46_row9_col0\" class=\"data row9 col0\" >0.7838</td>\n",
              "      <td id=\"T_42b46_row9_col1\" class=\"data row9 col1\" >0.8700</td>\n",
              "      <td id=\"T_42b46_row9_col2\" class=\"data row9 col2\" >0.4167</td>\n",
              "      <td id=\"T_42b46_row9_col3\" class=\"data row9 col3\" >0.8333</td>\n",
              "      <td id=\"T_42b46_row9_col4\" class=\"data row9 col4\" >0.5556</td>\n",
              "      <td id=\"T_42b46_row9_col5\" class=\"data row9 col5\" >0.4330</td>\n",
              "      <td id=\"T_42b46_row9_col6\" class=\"data row9 col6\" >0.4784</td>\n",
              "    </tr>\n",
              "    <tr>\n",
              "      <th id=\"T_42b46_level0_row10\" class=\"row_heading level0 row10\" >Mean</th>\n",
              "      <td id=\"T_42b46_row10_col0\" class=\"data row10 col0\" >0.8056</td>\n",
              "      <td id=\"T_42b46_row10_col1\" class=\"data row10 col1\" >0.8611</td>\n",
              "      <td id=\"T_42b46_row10_col2\" class=\"data row10 col2\" >0.6391</td>\n",
              "      <td id=\"T_42b46_row10_col3\" class=\"data row10 col3\" >0.7697</td>\n",
              "      <td id=\"T_42b46_row10_col4\" class=\"data row10 col4\" >0.6790</td>\n",
              "      <td id=\"T_42b46_row10_col5\" class=\"data row10 col5\" >0.5439</td>\n",
              "      <td id=\"T_42b46_row10_col6\" class=\"data row10 col6\" >0.5627</td>\n",
              "    </tr>\n",
              "    <tr>\n",
              "      <th id=\"T_42b46_level0_row11\" class=\"row_heading level0 row11\" >Std</th>\n",
              "      <td id=\"T_42b46_row11_col0\" class=\"data row11 col0\" >0.0619</td>\n",
              "      <td id=\"T_42b46_row11_col1\" class=\"data row11 col1\" >0.0515</td>\n",
              "      <td id=\"T_42b46_row11_col2\" class=\"data row11 col2\" >0.1703</td>\n",
              "      <td id=\"T_42b46_row11_col3\" class=\"data row11 col3\" >0.1146</td>\n",
              "      <td id=\"T_42b46_row11_col4\" class=\"data row11 col4\" >0.1047</td>\n",
              "      <td id=\"T_42b46_row11_col5\" class=\"data row11 col5\" >0.1404</td>\n",
              "      <td id=\"T_42b46_row11_col6\" class=\"data row11 col6\" >0.1356</td>\n",
              "    </tr>\n",
              "  </tbody>\n",
              "</table>\n"
            ]
          },
          "metadata": {}
        },
        {
          "output_type": "display_data",
          "data": {
            "text/plain": [
              "Processing:   0%|          | 0/4 [00:00<?, ?it/s]"
            ],
            "application/vnd.jupyter.widget-view+json": {
              "version_major": 2,
              "version_minor": 0,
              "model_id": "27054ac916d643a2996cc14993489777"
            }
          },
          "metadata": {
            "application/vnd.jupyter.widget-view+json": {
              "colab": {
                "custom_widget_manager": {
                  "url": "https://ssl.gstatic.com/colaboratory-static/widgets/colab-cdn-widget-manager/b3e629b1971e1542/manager.min.js"
                }
              }
            }
          }
        },
        {
          "output_type": "display_data",
          "data": {
            "text/plain": [
              "<IPython.core.display.HTML object>"
            ],
            "text/html": []
          },
          "metadata": {}
        }
      ]
    },
    {
      "cell_type": "markdown",
      "source": [
        "### Tuning the model further"
      ],
      "metadata": {
        "id": "iA0ZEpVB4H-C"
      }
    },
    {
      "cell_type": "code",
      "source": [
        "tuned_gbc = tune_model(gbc, n_iter = 100, optimize = 'recall')"
      ],
      "metadata": {
        "colab": {
          "base_uri": "https://localhost:8080/",
          "height": 476,
          "referenced_widgets": [
            "2b002fcc7d3d4347b3cef08f9813e5fc",
            "b0756bccd47c4b229a08f64d0bd8929a",
            "6c0a2561139b4030aa60ef553133e0bd",
            "b31e547e60ba4345a573230301060407",
            "22c0c4f60f504719b0191255bc9ade24",
            "c3f75b0b2a4a4868948fae42c2168fd7",
            "0fb9aa2d31b843d9a07878084208e140",
            "0b648bcb5bef450ea475004e6f67d5cb",
            "fe43da98e8b44c58ac64e2b1fe7bd3e0",
            "06a297a19bde4605bee9300e1c960ec3",
            "a05257421894417aa622e1f89458db28"
          ]
        },
        "id": "6e-obPCeYjtJ",
        "outputId": "f9fcec07-00a1-4e71-d90e-7d5c8c8f51bc"
      },
      "execution_count": null,
      "outputs": [
        {
          "output_type": "display_data",
          "data": {
            "text/plain": [
              "<IPython.core.display.HTML object>"
            ],
            "text/html": []
          },
          "metadata": {}
        },
        {
          "output_type": "display_data",
          "data": {
            "text/plain": [
              "<pandas.io.formats.style.Styler at 0x7ff739ac80a0>"
            ],
            "text/html": [
              "<style type=\"text/css\">\n",
              "#T_55ea6_row10_col0, #T_55ea6_row10_col1, #T_55ea6_row10_col2, #T_55ea6_row10_col3, #T_55ea6_row10_col4, #T_55ea6_row10_col5, #T_55ea6_row10_col6 {\n",
              "  background: yellow;\n",
              "}\n",
              "</style>\n",
              "<table id=\"T_55ea6\" class=\"dataframe\">\n",
              "  <thead>\n",
              "    <tr>\n",
              "      <th class=\"blank level0\" >&nbsp;</th>\n",
              "      <th id=\"T_55ea6_level0_col0\" class=\"col_heading level0 col0\" >Accuracy</th>\n",
              "      <th id=\"T_55ea6_level0_col1\" class=\"col_heading level0 col1\" >AUC</th>\n",
              "      <th id=\"T_55ea6_level0_col2\" class=\"col_heading level0 col2\" >Recall</th>\n",
              "      <th id=\"T_55ea6_level0_col3\" class=\"col_heading level0 col3\" >Prec.</th>\n",
              "      <th id=\"T_55ea6_level0_col4\" class=\"col_heading level0 col4\" >F1</th>\n",
              "      <th id=\"T_55ea6_level0_col5\" class=\"col_heading level0 col5\" >Kappa</th>\n",
              "      <th id=\"T_55ea6_level0_col6\" class=\"col_heading level0 col6\" >MCC</th>\n",
              "    </tr>\n",
              "    <tr>\n",
              "      <th class=\"index_name level0\" >Fold</th>\n",
              "      <th class=\"blank col0\" >&nbsp;</th>\n",
              "      <th class=\"blank col1\" >&nbsp;</th>\n",
              "      <th class=\"blank col2\" >&nbsp;</th>\n",
              "      <th class=\"blank col3\" >&nbsp;</th>\n",
              "      <th class=\"blank col4\" >&nbsp;</th>\n",
              "      <th class=\"blank col5\" >&nbsp;</th>\n",
              "      <th class=\"blank col6\" >&nbsp;</th>\n",
              "    </tr>\n",
              "  </thead>\n",
              "  <tbody>\n",
              "    <tr>\n",
              "      <th id=\"T_55ea6_level0_row0\" class=\"row_heading level0 row0\" >0</th>\n",
              "      <td id=\"T_55ea6_row0_col0\" class=\"data row0 col0\" >0.7105</td>\n",
              "      <td id=\"T_55ea6_row0_col1\" class=\"data row0 col1\" >0.7200</td>\n",
              "      <td id=\"T_55ea6_row0_col2\" class=\"data row0 col2\" >0.5385</td>\n",
              "      <td id=\"T_55ea6_row0_col3\" class=\"data row0 col3\" >0.5833</td>\n",
              "      <td id=\"T_55ea6_row0_col4\" class=\"data row0 col4\" >0.5600</td>\n",
              "      <td id=\"T_55ea6_row0_col5\" class=\"data row0 col5\" >0.3448</td>\n",
              "      <td id=\"T_55ea6_row0_col6\" class=\"data row0 col6\" >0.3454</td>\n",
              "    </tr>\n",
              "    <tr>\n",
              "      <th id=\"T_55ea6_level0_row1\" class=\"row_heading level0 row1\" >1</th>\n",
              "      <td id=\"T_55ea6_row1_col0\" class=\"data row1 col0\" >0.8421</td>\n",
              "      <td id=\"T_55ea6_row1_col1\" class=\"data row1 col1\" >0.8738</td>\n",
              "      <td id=\"T_55ea6_row1_col2\" class=\"data row1 col2\" >0.7692</td>\n",
              "      <td id=\"T_55ea6_row1_col3\" class=\"data row1 col3\" >0.7692</td>\n",
              "      <td id=\"T_55ea6_row1_col4\" class=\"data row1 col4\" >0.7692</td>\n",
              "      <td id=\"T_55ea6_row1_col5\" class=\"data row1 col5\" >0.6492</td>\n",
              "      <td id=\"T_55ea6_row1_col6\" class=\"data row1 col6\" >0.6492</td>\n",
              "    </tr>\n",
              "    <tr>\n",
              "      <th id=\"T_55ea6_level0_row2\" class=\"row_heading level0 row2\" >2</th>\n",
              "      <td id=\"T_55ea6_row2_col0\" class=\"data row2 col0\" >0.8158</td>\n",
              "      <td id=\"T_55ea6_row2_col1\" class=\"data row2 col1\" >0.9015</td>\n",
              "      <td id=\"T_55ea6_row2_col2\" class=\"data row2 col2\" >0.8462</td>\n",
              "      <td id=\"T_55ea6_row2_col3\" class=\"data row2 col3\" >0.6875</td>\n",
              "      <td id=\"T_55ea6_row2_col4\" class=\"data row2 col4\" >0.7586</td>\n",
              "      <td id=\"T_55ea6_row2_col5\" class=\"data row2 col5\" >0.6122</td>\n",
              "      <td id=\"T_55ea6_row2_col6\" class=\"data row2 col6\" >0.6209</td>\n",
              "    </tr>\n",
              "    <tr>\n",
              "      <th id=\"T_55ea6_level0_row3\" class=\"row_heading level0 row3\" >3</th>\n",
              "      <td id=\"T_55ea6_row3_col0\" class=\"data row3 col0\" >0.7105</td>\n",
              "      <td id=\"T_55ea6_row3_col1\" class=\"data row3 col1\" >0.7785</td>\n",
              "      <td id=\"T_55ea6_row3_col2\" class=\"data row3 col2\" >0.6154</td>\n",
              "      <td id=\"T_55ea6_row3_col3\" class=\"data row3 col3\" >0.5714</td>\n",
              "      <td id=\"T_55ea6_row3_col4\" class=\"data row3 col4\" >0.5926</td>\n",
              "      <td id=\"T_55ea6_row3_col5\" class=\"data row3 col5\" >0.3686</td>\n",
              "      <td id=\"T_55ea6_row3_col6\" class=\"data row3 col6\" >0.3692</td>\n",
              "    </tr>\n",
              "    <tr>\n",
              "      <th id=\"T_55ea6_level0_row4\" class=\"row_heading level0 row4\" >4</th>\n",
              "      <td id=\"T_55ea6_row4_col0\" class=\"data row4 col0\" >0.8421</td>\n",
              "      <td id=\"T_55ea6_row4_col1\" class=\"data row4 col1\" >0.8923</td>\n",
              "      <td id=\"T_55ea6_row4_col2\" class=\"data row4 col2\" >0.6923</td>\n",
              "      <td id=\"T_55ea6_row4_col3\" class=\"data row4 col3\" >0.8182</td>\n",
              "      <td id=\"T_55ea6_row4_col4\" class=\"data row4 col4\" >0.7500</td>\n",
              "      <td id=\"T_55ea6_row4_col5\" class=\"data row4 col5\" >0.6358</td>\n",
              "      <td id=\"T_55ea6_row4_col6\" class=\"data row4 col6\" >0.6405</td>\n",
              "    </tr>\n",
              "    <tr>\n",
              "      <th id=\"T_55ea6_level0_row5\" class=\"row_heading level0 row5\" >5</th>\n",
              "      <td id=\"T_55ea6_row5_col0\" class=\"data row5 col0\" >0.8378</td>\n",
              "      <td id=\"T_55ea6_row5_col1\" class=\"data row5 col1\" >0.9000</td>\n",
              "      <td id=\"T_55ea6_row5_col2\" class=\"data row5 col2\" >0.7500</td>\n",
              "      <td id=\"T_55ea6_row5_col3\" class=\"data row5 col3\" >0.7500</td>\n",
              "      <td id=\"T_55ea6_row5_col4\" class=\"data row5 col4\" >0.7500</td>\n",
              "      <td id=\"T_55ea6_row5_col5\" class=\"data row5 col5\" >0.6300</td>\n",
              "      <td id=\"T_55ea6_row5_col6\" class=\"data row5 col6\" >0.6300</td>\n",
              "    </tr>\n",
              "    <tr>\n",
              "      <th id=\"T_55ea6_level0_row6\" class=\"row_heading level0 row6\" >6</th>\n",
              "      <td id=\"T_55ea6_row6_col0\" class=\"data row6 col0\" >0.7568</td>\n",
              "      <td id=\"T_55ea6_row6_col1\" class=\"data row6 col1\" >0.8100</td>\n",
              "      <td id=\"T_55ea6_row6_col2\" class=\"data row6 col2\" >0.5833</td>\n",
              "      <td id=\"T_55ea6_row6_col3\" class=\"data row6 col3\" >0.6364</td>\n",
              "      <td id=\"T_55ea6_row6_col4\" class=\"data row6 col4\" >0.6087</td>\n",
              "      <td id=\"T_55ea6_row6_col5\" class=\"data row6 col5\" >0.4327</td>\n",
              "      <td id=\"T_55ea6_row6_col6\" class=\"data row6 col6\" >0.4336</td>\n",
              "    </tr>\n",
              "    <tr>\n",
              "      <th id=\"T_55ea6_level0_row7\" class=\"row_heading level0 row7\" >7</th>\n",
              "      <td id=\"T_55ea6_row7_col0\" class=\"data row7 col0\" >0.9189</td>\n",
              "      <td id=\"T_55ea6_row7_col1\" class=\"data row7 col1\" >0.9300</td>\n",
              "      <td id=\"T_55ea6_row7_col2\" class=\"data row7 col2\" >0.9167</td>\n",
              "      <td id=\"T_55ea6_row7_col3\" class=\"data row7 col3\" >0.8462</td>\n",
              "      <td id=\"T_55ea6_row7_col4\" class=\"data row7 col4\" >0.8800</td>\n",
              "      <td id=\"T_55ea6_row7_col5\" class=\"data row7 col5\" >0.8189</td>\n",
              "      <td id=\"T_55ea6_row7_col6\" class=\"data row7 col6\" >0.8204</td>\n",
              "    </tr>\n",
              "    <tr>\n",
              "      <th id=\"T_55ea6_level0_row8\" class=\"row_heading level0 row8\" >8</th>\n",
              "      <td id=\"T_55ea6_row8_col0\" class=\"data row8 col0\" >0.7568</td>\n",
              "      <td id=\"T_55ea6_row8_col1\" class=\"data row8 col1\" >0.8067</td>\n",
              "      <td id=\"T_55ea6_row8_col2\" class=\"data row8 col2\" >0.5833</td>\n",
              "      <td id=\"T_55ea6_row8_col3\" class=\"data row8 col3\" >0.6364</td>\n",
              "      <td id=\"T_55ea6_row8_col4\" class=\"data row8 col4\" >0.6087</td>\n",
              "      <td id=\"T_55ea6_row8_col5\" class=\"data row8 col5\" >0.4327</td>\n",
              "      <td id=\"T_55ea6_row8_col6\" class=\"data row8 col6\" >0.4336</td>\n",
              "    </tr>\n",
              "    <tr>\n",
              "      <th id=\"T_55ea6_level0_row9\" class=\"row_heading level0 row9\" >9</th>\n",
              "      <td id=\"T_55ea6_row9_col0\" class=\"data row9 col0\" >0.7568</td>\n",
              "      <td id=\"T_55ea6_row9_col1\" class=\"data row9 col1\" >0.7667</td>\n",
              "      <td id=\"T_55ea6_row9_col2\" class=\"data row9 col2\" >0.5000</td>\n",
              "      <td id=\"T_55ea6_row9_col3\" class=\"data row9 col3\" >0.6667</td>\n",
              "      <td id=\"T_55ea6_row9_col4\" class=\"data row9 col4\" >0.5714</td>\n",
              "      <td id=\"T_55ea6_row9_col5\" class=\"data row9 col5\" >0.4064</td>\n",
              "      <td id=\"T_55ea6_row9_col6\" class=\"data row9 col6\" >0.4146</td>\n",
              "    </tr>\n",
              "    <tr>\n",
              "      <th id=\"T_55ea6_level0_row10\" class=\"row_heading level0 row10\" >Mean</th>\n",
              "      <td id=\"T_55ea6_row10_col0\" class=\"data row10 col0\" >0.7948</td>\n",
              "      <td id=\"T_55ea6_row10_col1\" class=\"data row10 col1\" >0.8379</td>\n",
              "      <td id=\"T_55ea6_row10_col2\" class=\"data row10 col2\" >0.6795</td>\n",
              "      <td id=\"T_55ea6_row10_col3\" class=\"data row10 col3\" >0.6965</td>\n",
              "      <td id=\"T_55ea6_row10_col4\" class=\"data row10 col4\" >0.6849</td>\n",
              "      <td id=\"T_55ea6_row10_col5\" class=\"data row10 col5\" >0.5331</td>\n",
              "      <td id=\"T_55ea6_row10_col6\" class=\"data row10 col6\" >0.5357</td>\n",
              "    </tr>\n",
              "    <tr>\n",
              "      <th id=\"T_55ea6_level0_row11\" class=\"row_heading level0 row11\" >Std</th>\n",
              "      <td id=\"T_55ea6_row11_col0\" class=\"data row11 col0\" >0.0638</td>\n",
              "      <td id=\"T_55ea6_row11_col1\" class=\"data row11 col1\" >0.0670</td>\n",
              "      <td id=\"T_55ea6_row11_col2\" class=\"data row11 col2\" >0.1311</td>\n",
              "      <td id=\"T_55ea6_row11_col3\" class=\"data row11 col3\" >0.0906</td>\n",
              "      <td id=\"T_55ea6_row11_col4\" class=\"data row11 col4\" >0.1038</td>\n",
              "      <td id=\"T_55ea6_row11_col5\" class=\"data row11 col5\" >0.1484</td>\n",
              "      <td id=\"T_55ea6_row11_col6\" class=\"data row11 col6\" >0.1485</td>\n",
              "    </tr>\n",
              "  </tbody>\n",
              "</table>\n"
            ]
          },
          "metadata": {}
        },
        {
          "output_type": "display_data",
          "data": {
            "text/plain": [
              "Processing:   0%|          | 0/7 [00:00<?, ?it/s]"
            ],
            "application/vnd.jupyter.widget-view+json": {
              "version_major": 2,
              "version_minor": 0,
              "model_id": "2b002fcc7d3d4347b3cef08f9813e5fc"
            }
          },
          "metadata": {
            "application/vnd.jupyter.widget-view+json": {
              "colab": {
                "custom_widget_manager": {
                  "url": "https://ssl.gstatic.com/colaboratory-static/widgets/colab-cdn-widget-manager/b3e629b1971e1542/manager.min.js"
                }
              }
            }
          }
        },
        {
          "output_type": "stream",
          "name": "stdout",
          "text": [
            "Fitting 10 folds for each of 100 candidates, totalling 1000 fits\n"
          ]
        },
        {
          "output_type": "display_data",
          "data": {
            "text/plain": [
              "<IPython.core.display.HTML object>"
            ],
            "text/html": []
          },
          "metadata": {}
        }
      ]
    },
    {
      "cell_type": "code",
      "source": [
        "# plot confusion matrix\n",
        "plot_model(tuned_gbc, plot = 'confusion_matrix')"
      ],
      "metadata": {
        "colab": {
          "base_uri": "https://localhost:8080/",
          "height": 551
        },
        "id": "G7tJT17bWfl1",
        "outputId": "ead059ae-ff55-4949-eacb-2678ddca9596"
      },
      "execution_count": null,
      "outputs": [
        {
          "output_type": "display_data",
          "data": {
            "text/plain": [
              "<IPython.core.display.HTML object>"
            ],
            "text/html": []
          },
          "metadata": {}
        },
        {
          "output_type": "display_data",
          "data": {
            "text/plain": [
              "<Figure size 800x550 with 1 Axes>"
            ],
            "image/png": "[encoded data removed]"
          },
          "metadata": {}
        }
      ]
    },
    {
      "cell_type": "code",
      "source": [
        "# plot AUC\n",
        "plot_model(tuned_gbc, plot = 'auc')"
      ],
      "metadata": {
        "colab": {
          "base_uri": "https://localhost:8080/",
          "height": 524
        },
        "id": "wPqox63fW-7R",
        "outputId": "643d1aaa-e8ee-4b63-d0f2-592ae2e0c38a"
      },
      "execution_count": null,
      "outputs": [
        {
          "output_type": "display_data",
          "data": {
            "text/plain": [
              "<IPython.core.display.HTML object>"
            ],
            "text/html": []
          },
          "metadata": {}
        },
        {
          "output_type": "display_data",
          "data": {
            "text/plain": [
              "<Figure size 800x550 with 1 Axes>"
            ],
            "image/png": "[encoded data removed]"
          },
          "metadata": {}
        }
      ]
    },
    {
      "cell_type": "code",
      "source": [
        "plot_model(tuned_gbc, plot='feature')"
      ],
      "metadata": {
        "colab": {
          "base_uri": "https://localhost:8080/",
          "height": 485
        },
        "id": "jzv-eM6EXSUJ",
        "outputId": "8bc69a24-28c7-403e-8d80-62065b39c52c"
      },
      "execution_count": null,
      "outputs": [
        {
          "output_type": "display_data",
          "data": {
            "text/plain": [
              "<IPython.core.display.HTML object>"
            ],
            "text/html": []
          },
          "metadata": {}
        },
        {
          "output_type": "display_data",
          "data": {
            "text/plain": [
              "<Figure size 800x500 with 1 Axes>"
            ],
            "image/png": "[encoded data removed]"
          },
          "metadata": {}
        }
      ]
    },
    {
      "cell_type": "markdown",
      "source": [
        "## As observed from correlation plot, Glucose levels seem to be the most important parameter"
      ],
      "metadata": {
        "id": "xGB1NwkS4N8I"
      }
    },
    {
      "cell_type": "markdown",
      "source": [
        "## Implementing Decision Tree classifier"
      ],
      "metadata": {
        "id": "pZ7ZjjSgdiDH"
      }
    },
    {
      "cell_type": "code",
      "source": [
        "dt = create_model('dt')"
      ],
      "metadata": {
        "colab": {
          "base_uri": "https://localhost:8080/",
          "height": 457,
          "referenced_widgets": [
            "c3c0c4ac60614c2fbd835fb3a4f42af3",
            "d1738680e615486f9025f098383035bd",
            "11a0ff6285194dbda2dca7f49bcbfe52",
            "3500ebbf972c41519dead367df1433f6",
            "196a2951c45c4bfb9d7c715af0975fda",
            "073c9e2d46d84af18a7f0076311966c4",
            "e168e7e8e49744c4bf2ef9adfc6692d6",
            "39fe2ea7310641a08b05598dec14f475",
            "890b8acb253142e4b095d36b2cdb7404",
            "c6e78b849dc9403f8ed1c7830a095292",
            "dbdccebbf3424ffd9d7ec7daf49a0152"
          ]
        },
        "id": "ETGxFSQudCUu",
        "outputId": "dc66c16b-9388-46aa-f73b-c109f3e592f1"
      },
      "execution_count": null,
      "outputs": [
        {
          "output_type": "display_data",
          "data": {
            "text/plain": [
              "<IPython.core.display.HTML object>"
            ],
            "text/html": []
          },
          "metadata": {}
        },
        {
          "output_type": "display_data",
          "data": {
            "text/plain": [
              "<pandas.io.formats.style.Styler at 0x7ff7393115a0>"
            ],
            "text/html": [
              "<style type=\"text/css\">\n",
              "#T_e7e17_row10_col0, #T_e7e17_row10_col1, #T_e7e17_row10_col2, #T_e7e17_row10_col3, #T_e7e17_row10_col4, #T_e7e17_row10_col5, #T_e7e17_row10_col6 {\n",
              "  background: yellow;\n",
              "}\n",
              "</style>\n",
              "<table id=\"T_e7e17\" class=\"dataframe\">\n",
              "  <thead>\n",
              "    <tr>\n",
              "      <th class=\"blank level0\" >&nbsp;</th>\n",
              "      <th id=\"T_e7e17_level0_col0\" class=\"col_heading level0 col0\" >Accuracy</th>\n",
              "      <th id=\"T_e7e17_level0_col1\" class=\"col_heading level0 col1\" >AUC</th>\n",
              "      <th id=\"T_e7e17_level0_col2\" class=\"col_heading level0 col2\" >Recall</th>\n",
              "      <th id=\"T_e7e17_level0_col3\" class=\"col_heading level0 col3\" >Prec.</th>\n",
              "      <th id=\"T_e7e17_level0_col4\" class=\"col_heading level0 col4\" >F1</th>\n",
              "      <th id=\"T_e7e17_level0_col5\" class=\"col_heading level0 col5\" >Kappa</th>\n",
              "      <th id=\"T_e7e17_level0_col6\" class=\"col_heading level0 col6\" >MCC</th>\n",
              "    </tr>\n",
              "    <tr>\n",
              "      <th class=\"index_name level0\" >Fold</th>\n",
              "      <th class=\"blank col0\" >&nbsp;</th>\n",
              "      <th class=\"blank col1\" >&nbsp;</th>\n",
              "      <th class=\"blank col2\" >&nbsp;</th>\n",
              "      <th class=\"blank col3\" >&nbsp;</th>\n",
              "      <th class=\"blank col4\" >&nbsp;</th>\n",
              "      <th class=\"blank col5\" >&nbsp;</th>\n",
              "      <th class=\"blank col6\" >&nbsp;</th>\n",
              "    </tr>\n",
              "  </thead>\n",
              "  <tbody>\n",
              "    <tr>\n",
              "      <th id=\"T_e7e17_level0_row0\" class=\"row_heading level0 row0\" >0</th>\n",
              "      <td id=\"T_e7e17_row0_col0\" class=\"data row0 col0\" >0.8684</td>\n",
              "      <td id=\"T_e7e17_row0_col1\" class=\"data row0 col1\" >0.8446</td>\n",
              "      <td id=\"T_e7e17_row0_col2\" class=\"data row0 col2\" >0.7692</td>\n",
              "      <td id=\"T_e7e17_row0_col3\" class=\"data row0 col3\" >0.8333</td>\n",
              "      <td id=\"T_e7e17_row0_col4\" class=\"data row0 col4\" >0.8000</td>\n",
              "      <td id=\"T_e7e17_row0_col5\" class=\"data row0 col5\" >0.7022</td>\n",
              "      <td id=\"T_e7e17_row0_col6\" class=\"data row0 col6\" >0.7034</td>\n",
              "    </tr>\n",
              "    <tr>\n",
              "      <th id=\"T_e7e17_level0_row1\" class=\"row_heading level0 row1\" >1</th>\n",
              "      <td id=\"T_e7e17_row1_col0\" class=\"data row1 col0\" >0.7632</td>\n",
              "      <td id=\"T_e7e17_row1_col1\" class=\"data row1 col1\" >0.7092</td>\n",
              "      <td id=\"T_e7e17_row1_col2\" class=\"data row1 col2\" >0.5385</td>\n",
              "      <td id=\"T_e7e17_row1_col3\" class=\"data row1 col3\" >0.7000</td>\n",
              "      <td id=\"T_e7e17_row1_col4\" class=\"data row1 col4\" >0.6087</td>\n",
              "      <td id=\"T_e7e17_row1_col5\" class=\"data row1 col5\" >0.4430</td>\n",
              "      <td id=\"T_e7e17_row1_col6\" class=\"data row1 col6\" >0.4508</td>\n",
              "    </tr>\n",
              "    <tr>\n",
              "      <th id=\"T_e7e17_level0_row2\" class=\"row_heading level0 row2\" >2</th>\n",
              "      <td id=\"T_e7e17_row2_col0\" class=\"data row2 col0\" >0.6842</td>\n",
              "      <td id=\"T_e7e17_row2_col1\" class=\"data row2 col1\" >0.6677</td>\n",
              "      <td id=\"T_e7e17_row2_col2\" class=\"data row2 col2\" >0.6154</td>\n",
              "      <td id=\"T_e7e17_row2_col3\" class=\"data row2 col3\" >0.5333</td>\n",
              "      <td id=\"T_e7e17_row2_col4\" class=\"data row2 col4\" >0.5714</td>\n",
              "      <td id=\"T_e7e17_row2_col5\" class=\"data row2 col5\" >0.3234</td>\n",
              "      <td id=\"T_e7e17_row2_col6\" class=\"data row2 col6\" >0.3255</td>\n",
              "    </tr>\n",
              "    <tr>\n",
              "      <th id=\"T_e7e17_level0_row3\" class=\"row_heading level0 row3\" >3</th>\n",
              "      <td id=\"T_e7e17_row3_col0\" class=\"data row3 col0\" >0.6053</td>\n",
              "      <td id=\"T_e7e17_row3_col1\" class=\"data row3 col1\" >0.6077</td>\n",
              "      <td id=\"T_e7e17_row3_col2\" class=\"data row3 col2\" >0.6154</td>\n",
              "      <td id=\"T_e7e17_row3_col3\" class=\"data row3 col3\" >0.4444</td>\n",
              "      <td id=\"T_e7e17_row3_col4\" class=\"data row3 col4\" >0.5161</td>\n",
              "      <td id=\"T_e7e17_row3_col5\" class=\"data row3 col5\" >0.1972</td>\n",
              "      <td id=\"T_e7e17_row3_col6\" class=\"data row3 col6\" >0.2046</td>\n",
              "    </tr>\n",
              "    <tr>\n",
              "      <th id=\"T_e7e17_level0_row4\" class=\"row_heading level0 row4\" >4</th>\n",
              "      <td id=\"T_e7e17_row4_col0\" class=\"data row4 col0\" >0.7105</td>\n",
              "      <td id=\"T_e7e17_row4_col1\" class=\"data row4 col1\" >0.6692</td>\n",
              "      <td id=\"T_e7e17_row4_col2\" class=\"data row4 col2\" >0.5385</td>\n",
              "      <td id=\"T_e7e17_row4_col3\" class=\"data row4 col3\" >0.5833</td>\n",
              "      <td id=\"T_e7e17_row4_col4\" class=\"data row4 col4\" >0.5600</td>\n",
              "      <td id=\"T_e7e17_row4_col5\" class=\"data row4 col5\" >0.3448</td>\n",
              "      <td id=\"T_e7e17_row4_col6\" class=\"data row4 col6\" >0.3454</td>\n",
              "    </tr>\n",
              "    <tr>\n",
              "      <th id=\"T_e7e17_level0_row5\" class=\"row_heading level0 row5\" >5</th>\n",
              "      <td id=\"T_e7e17_row5_col0\" class=\"data row5 col0\" >0.8649</td>\n",
              "      <td id=\"T_e7e17_row5_col1\" class=\"data row5 col1\" >0.8567</td>\n",
              "      <td id=\"T_e7e17_row5_col2\" class=\"data row5 col2\" >0.8333</td>\n",
              "      <td id=\"T_e7e17_row5_col3\" class=\"data row5 col3\" >0.7692</td>\n",
              "      <td id=\"T_e7e17_row5_col4\" class=\"data row5 col4\" >0.8000</td>\n",
              "      <td id=\"T_e7e17_row5_col5\" class=\"data row5 col5\" >0.6982</td>\n",
              "      <td id=\"T_e7e17_row5_col6\" class=\"data row5 col6\" >0.6995</td>\n",
              "    </tr>\n",
              "    <tr>\n",
              "      <th id=\"T_e7e17_level0_row6\" class=\"row_heading level0 row6\" >6</th>\n",
              "      <td id=\"T_e7e17_row6_col0\" class=\"data row6 col0\" >0.8108</td>\n",
              "      <td id=\"T_e7e17_row6_col1\" class=\"data row6 col1\" >0.7950</td>\n",
              "      <td id=\"T_e7e17_row6_col2\" class=\"data row6 col2\" >0.7500</td>\n",
              "      <td id=\"T_e7e17_row6_col3\" class=\"data row6 col3\" >0.6923</td>\n",
              "      <td id=\"T_e7e17_row6_col4\" class=\"data row6 col4\" >0.7200</td>\n",
              "      <td id=\"T_e7e17_row6_col5\" class=\"data row6 col5\" >0.5775</td>\n",
              "      <td id=\"T_e7e17_row6_col6\" class=\"data row6 col6\" >0.5785</td>\n",
              "    </tr>\n",
              "    <tr>\n",
              "      <th id=\"T_e7e17_level0_row7\" class=\"row_heading level0 row7\" >7</th>\n",
              "      <td id=\"T_e7e17_row7_col0\" class=\"data row7 col0\" >0.7838</td>\n",
              "      <td id=\"T_e7e17_row7_col1\" class=\"data row7 col1\" >0.7533</td>\n",
              "      <td id=\"T_e7e17_row7_col2\" class=\"data row7 col2\" >0.6667</td>\n",
              "      <td id=\"T_e7e17_row7_col3\" class=\"data row7 col3\" >0.6667</td>\n",
              "      <td id=\"T_e7e17_row7_col4\" class=\"data row7 col4\" >0.6667</td>\n",
              "      <td id=\"T_e7e17_row7_col5\" class=\"data row7 col5\" >0.5067</td>\n",
              "      <td id=\"T_e7e17_row7_col6\" class=\"data row7 col6\" >0.5067</td>\n",
              "    </tr>\n",
              "    <tr>\n",
              "      <th id=\"T_e7e17_level0_row8\" class=\"row_heading level0 row8\" >8</th>\n",
              "      <td id=\"T_e7e17_row8_col0\" class=\"data row8 col0\" >0.7297</td>\n",
              "      <td id=\"T_e7e17_row8_col1\" class=\"data row8 col1\" >0.6700</td>\n",
              "      <td id=\"T_e7e17_row8_col2\" class=\"data row8 col2\" >0.5000</td>\n",
              "      <td id=\"T_e7e17_row8_col3\" class=\"data row8 col3\" >0.6000</td>\n",
              "      <td id=\"T_e7e17_row8_col4\" class=\"data row8 col4\" >0.5455</td>\n",
              "      <td id=\"T_e7e17_row8_col5\" class=\"data row8 col5\" >0.3554</td>\n",
              "      <td id=\"T_e7e17_row8_col6\" class=\"data row8 col6\" >0.3584</td>\n",
              "    </tr>\n",
              "    <tr>\n",
              "      <th id=\"T_e7e17_level0_row9\" class=\"row_heading level0 row9\" >9</th>\n",
              "      <td id=\"T_e7e17_row9_col0\" class=\"data row9 col0\" >0.8108</td>\n",
              "      <td id=\"T_e7e17_row9_col1\" class=\"data row9 col1\" >0.7733</td>\n",
              "      <td id=\"T_e7e17_row9_col2\" class=\"data row9 col2\" >0.6667</td>\n",
              "      <td id=\"T_e7e17_row9_col3\" class=\"data row9 col3\" >0.7273</td>\n",
              "      <td id=\"T_e7e17_row9_col4\" class=\"data row9 col4\" >0.6957</td>\n",
              "      <td id=\"T_e7e17_row9_col5\" class=\"data row9 col5\" >0.5588</td>\n",
              "      <td id=\"T_e7e17_row9_col6\" class=\"data row9 col6\" >0.5599</td>\n",
              "    </tr>\n",
              "    <tr>\n",
              "      <th id=\"T_e7e17_level0_row10\" class=\"row_heading level0 row10\" >Mean</th>\n",
              "      <td id=\"T_e7e17_row10_col0\" class=\"data row10 col0\" >0.7632</td>\n",
              "      <td id=\"T_e7e17_row10_col1\" class=\"data row10 col1\" >0.7347</td>\n",
              "      <td id=\"T_e7e17_row10_col2\" class=\"data row10 col2\" >0.6494</td>\n",
              "      <td id=\"T_e7e17_row10_col3\" class=\"data row10 col3\" >0.6550</td>\n",
              "      <td id=\"T_e7e17_row10_col4\" class=\"data row10 col4\" >0.6484</td>\n",
              "      <td id=\"T_e7e17_row10_col5\" class=\"data row10 col5\" >0.4707</td>\n",
              "      <td id=\"T_e7e17_row10_col6\" class=\"data row10 col6\" >0.4733</td>\n",
              "    </tr>\n",
              "    <tr>\n",
              "      <th id=\"T_e7e17_level0_row11\" class=\"row_heading level0 row11\" >Std</th>\n",
              "      <td id=\"T_e7e17_row11_col0\" class=\"data row11 col0\" >0.0784</td>\n",
              "      <td id=\"T_e7e17_row11_col1\" class=\"data row11 col1\" >0.0789</td>\n",
              "      <td id=\"T_e7e17_row11_col2\" class=\"data row11 col2\" >0.1040</td>\n",
              "      <td id=\"T_e7e17_row11_col3\" class=\"data row11 col3\" >0.1100</td>\n",
              "      <td id=\"T_e7e17_row11_col4\" class=\"data row11 col4\" >0.0985</td>\n",
              "      <td id=\"T_e7e17_row11_col5\" class=\"data row11 col5\" >0.1588</td>\n",
              "      <td id=\"T_e7e17_row11_col6\" class=\"data row11 col6\" >0.1574</td>\n",
              "    </tr>\n",
              "  </tbody>\n",
              "</table>\n"
            ]
          },
          "metadata": {}
        },
        {
          "output_type": "display_data",
          "data": {
            "text/plain": [
              "Processing:   0%|          | 0/4 [00:00<?, ?it/s]"
            ],
            "application/vnd.jupyter.widget-view+json": {
              "version_major": 2,
              "version_minor": 0,
              "model_id": "c3c0c4ac60614c2fbd835fb3a4f42af3"
            }
          },
          "metadata": {
            "application/vnd.jupyter.widget-view+json": {
              "colab": {
                "custom_widget_manager": {
                  "url": "https://ssl.gstatic.com/colaboratory-static/widgets/colab-cdn-widget-manager/b3e629b1971e1542/manager.min.js"
                }
              }
            }
          }
        },
        {
          "output_type": "display_data",
          "data": {
            "text/plain": [
              "<IPython.core.display.HTML object>"
            ],
            "text/html": []
          },
          "metadata": {}
        }
      ]
    },
    {
      "cell_type": "code",
      "source": [
        "tuned_dt = tune_model(dt, n_iter = 100, optimize = 'recall')"
      ],
      "metadata": {
        "colab": {
          "base_uri": "https://localhost:8080/",
          "height": 476,
          "referenced_widgets": [
            "7901ac67139148e2abc8a30ce77383e2",
            "9fedc3f750bb49b88c78fd4d11fa36d6",
            "c2b8bcf6cb7c44fcb8427e46091ab803",
            "1f588fb04db742bfba803635eaefb002",
            "1b5023b2a2e34a92bff00382def301a5",
            "875656f367a94319835983d648e54547",
            "98988517e9ea47cb96e34d67f2a475d9",
            "7532c648b5e646909869f5d33374a591",
            "9321ad67cd1e4af7b6b0896986197ae5",
            "71fadaa4c77d419682e98fe5045306ff",
            "2502249e78424fffa9b3b906fa0f9ea5"
          ]
        },
        "id": "-nPRttFbdoMN",
        "outputId": "ec07ac2b-5546-4210-c841-7d7681ce9b31"
      },
      "execution_count": null,
      "outputs": [
        {
          "output_type": "display_data",
          "data": {
            "text/plain": [
              "<IPython.core.display.HTML object>"
            ],
            "text/html": []
          },
          "metadata": {}
        },
        {
          "output_type": "display_data",
          "data": {
            "text/plain": [
              "<pandas.io.formats.style.Styler at 0x7ff722ecc430>"
            ],
            "text/html": [
              "<style type=\"text/css\">\n",
              "#T_cfe03_row10_col0, #T_cfe03_row10_col1, #T_cfe03_row10_col2, #T_cfe03_row10_col3, #T_cfe03_row10_col4, #T_cfe03_row10_col5, #T_cfe03_row10_col6 {\n",
              "  background: yellow;\n",
              "}\n",
              "</style>\n",
              "<table id=\"T_cfe03\" class=\"dataframe\">\n",
              "  <thead>\n",
              "    <tr>\n",
              "      <th class=\"blank level0\" >&nbsp;</th>\n",
              "      <th id=\"T_cfe03_level0_col0\" class=\"col_heading level0 col0\" >Accuracy</th>\n",
              "      <th id=\"T_cfe03_level0_col1\" class=\"col_heading level0 col1\" >AUC</th>\n",
              "      <th id=\"T_cfe03_level0_col2\" class=\"col_heading level0 col2\" >Recall</th>\n",
              "      <th id=\"T_cfe03_level0_col3\" class=\"col_heading level0 col3\" >Prec.</th>\n",
              "      <th id=\"T_cfe03_level0_col4\" class=\"col_heading level0 col4\" >F1</th>\n",
              "      <th id=\"T_cfe03_level0_col5\" class=\"col_heading level0 col5\" >Kappa</th>\n",
              "      <th id=\"T_cfe03_level0_col6\" class=\"col_heading level0 col6\" >MCC</th>\n",
              "    </tr>\n",
              "    <tr>\n",
              "      <th class=\"index_name level0\" >Fold</th>\n",
              "      <th class=\"blank col0\" >&nbsp;</th>\n",
              "      <th class=\"blank col1\" >&nbsp;</th>\n",
              "      <th class=\"blank col2\" >&nbsp;</th>\n",
              "      <th class=\"blank col3\" >&nbsp;</th>\n",
              "      <th class=\"blank col4\" >&nbsp;</th>\n",
              "      <th class=\"blank col5\" >&nbsp;</th>\n",
              "      <th class=\"blank col6\" >&nbsp;</th>\n",
              "    </tr>\n",
              "  </thead>\n",
              "  <tbody>\n",
              "    <tr>\n",
              "      <th id=\"T_cfe03_level0_row0\" class=\"row_heading level0 row0\" >0</th>\n",
              "      <td id=\"T_cfe03_row0_col0\" class=\"data row0 col0\" >0.7895</td>\n",
              "      <td id=\"T_cfe03_row0_col1\" class=\"data row0 col1\" >0.7908</td>\n",
              "      <td id=\"T_cfe03_row0_col2\" class=\"data row0 col2\" >0.6923</td>\n",
              "      <td id=\"T_cfe03_row0_col3\" class=\"data row0 col3\" >0.6923</td>\n",
              "      <td id=\"T_cfe03_row0_col4\" class=\"data row0 col4\" >0.6923</td>\n",
              "      <td id=\"T_cfe03_row0_col5\" class=\"data row0 col5\" >0.5323</td>\n",
              "      <td id=\"T_cfe03_row0_col6\" class=\"data row0 col6\" >0.5323</td>\n",
              "    </tr>\n",
              "    <tr>\n",
              "      <th id=\"T_cfe03_level0_row1\" class=\"row_heading level0 row1\" >1</th>\n",
              "      <td id=\"T_cfe03_row1_col0\" class=\"data row1 col0\" >0.7895</td>\n",
              "      <td id=\"T_cfe03_row1_col1\" class=\"data row1 col1\" >0.7877</td>\n",
              "      <td id=\"T_cfe03_row1_col2\" class=\"data row1 col2\" >0.6923</td>\n",
              "      <td id=\"T_cfe03_row1_col3\" class=\"data row1 col3\" >0.6923</td>\n",
              "      <td id=\"T_cfe03_row1_col4\" class=\"data row1 col4\" >0.6923</td>\n",
              "      <td id=\"T_cfe03_row1_col5\" class=\"data row1 col5\" >0.5323</td>\n",
              "      <td id=\"T_cfe03_row1_col6\" class=\"data row1 col6\" >0.5323</td>\n",
              "    </tr>\n",
              "    <tr>\n",
              "      <th id=\"T_cfe03_level0_row2\" class=\"row_heading level0 row2\" >2</th>\n",
              "      <td id=\"T_cfe03_row2_col0\" class=\"data row2 col0\" >0.7368</td>\n",
              "      <td id=\"T_cfe03_row2_col1\" class=\"data row2 col1\" >0.8585</td>\n",
              "      <td id=\"T_cfe03_row2_col2\" class=\"data row2 col2\" >0.6923</td>\n",
              "      <td id=\"T_cfe03_row2_col3\" class=\"data row2 col3\" >0.6000</td>\n",
              "      <td id=\"T_cfe03_row2_col4\" class=\"data row2 col4\" >0.6429</td>\n",
              "      <td id=\"T_cfe03_row2_col5\" class=\"data row2 col5\" >0.4362</td>\n",
              "      <td id=\"T_cfe03_row2_col6\" class=\"data row2 col6\" >0.4390</td>\n",
              "    </tr>\n",
              "    <tr>\n",
              "      <th id=\"T_cfe03_level0_row3\" class=\"row_heading level0 row3\" >3</th>\n",
              "      <td id=\"T_cfe03_row3_col0\" class=\"data row3 col0\" >0.6842</td>\n",
              "      <td id=\"T_cfe03_row3_col1\" class=\"data row3 col1\" >0.6769</td>\n",
              "      <td id=\"T_cfe03_row3_col2\" class=\"data row3 col2\" >0.6154</td>\n",
              "      <td id=\"T_cfe03_row3_col3\" class=\"data row3 col3\" >0.5333</td>\n",
              "      <td id=\"T_cfe03_row3_col4\" class=\"data row3 col4\" >0.5714</td>\n",
              "      <td id=\"T_cfe03_row3_col5\" class=\"data row3 col5\" >0.3234</td>\n",
              "      <td id=\"T_cfe03_row3_col6\" class=\"data row3 col6\" >0.3255</td>\n",
              "    </tr>\n",
              "    <tr>\n",
              "      <th id=\"T_cfe03_level0_row4\" class=\"row_heading level0 row4\" >4</th>\n",
              "      <td id=\"T_cfe03_row4_col0\" class=\"data row4 col0\" >0.7632</td>\n",
              "      <td id=\"T_cfe03_row4_col1\" class=\"data row4 col1\" >0.8262</td>\n",
              "      <td id=\"T_cfe03_row4_col2\" class=\"data row4 col2\" >0.6923</td>\n",
              "      <td id=\"T_cfe03_row4_col3\" class=\"data row4 col3\" >0.6429</td>\n",
              "      <td id=\"T_cfe03_row4_col4\" class=\"data row4 col4\" >0.6667</td>\n",
              "      <td id=\"T_cfe03_row4_col5\" class=\"data row4 col5\" >0.4834</td>\n",
              "      <td id=\"T_cfe03_row4_col6\" class=\"data row4 col6\" >0.4842</td>\n",
              "    </tr>\n",
              "    <tr>\n",
              "      <th id=\"T_cfe03_level0_row5\" class=\"row_heading level0 row5\" >5</th>\n",
              "      <td id=\"T_cfe03_row5_col0\" class=\"data row5 col0\" >0.8108</td>\n",
              "      <td id=\"T_cfe03_row5_col1\" class=\"data row5 col1\" >0.8867</td>\n",
              "      <td id=\"T_cfe03_row5_col2\" class=\"data row5 col2\" >0.9167</td>\n",
              "      <td id=\"T_cfe03_row5_col3\" class=\"data row5 col3\" >0.6471</td>\n",
              "      <td id=\"T_cfe03_row5_col4\" class=\"data row5 col4\" >0.7586</td>\n",
              "      <td id=\"T_cfe03_row5_col5\" class=\"data row5 col5\" >0.6105</td>\n",
              "      <td id=\"T_cfe03_row5_col6\" class=\"data row5 col6\" >0.6356</td>\n",
              "    </tr>\n",
              "    <tr>\n",
              "      <th id=\"T_cfe03_level0_row6\" class=\"row_heading level0 row6\" >6</th>\n",
              "      <td id=\"T_cfe03_row6_col0\" class=\"data row6 col0\" >0.7838</td>\n",
              "      <td id=\"T_cfe03_row6_col1\" class=\"data row6 col1\" >0.8000</td>\n",
              "      <td id=\"T_cfe03_row6_col2\" class=\"data row6 col2\" >0.5833</td>\n",
              "      <td id=\"T_cfe03_row6_col3\" class=\"data row6 col3\" >0.7000</td>\n",
              "      <td id=\"T_cfe03_row6_col4\" class=\"data row6 col4\" >0.6364</td>\n",
              "      <td id=\"T_cfe03_row6_col5\" class=\"data row6 col5\" >0.4843</td>\n",
              "      <td id=\"T_cfe03_row6_col6\" class=\"data row6 col6\" >0.4884</td>\n",
              "    </tr>\n",
              "    <tr>\n",
              "      <th id=\"T_cfe03_level0_row7\" class=\"row_heading level0 row7\" >7</th>\n",
              "      <td id=\"T_cfe03_row7_col0\" class=\"data row7 col0\" >0.7838</td>\n",
              "      <td id=\"T_cfe03_row7_col1\" class=\"data row7 col1\" >0.8100</td>\n",
              "      <td id=\"T_cfe03_row7_col2\" class=\"data row7 col2\" >0.6667</td>\n",
              "      <td id=\"T_cfe03_row7_col3\" class=\"data row7 col3\" >0.6667</td>\n",
              "      <td id=\"T_cfe03_row7_col4\" class=\"data row7 col4\" >0.6667</td>\n",
              "      <td id=\"T_cfe03_row7_col5\" class=\"data row7 col5\" >0.5067</td>\n",
              "      <td id=\"T_cfe03_row7_col6\" class=\"data row7 col6\" >0.5067</td>\n",
              "    </tr>\n",
              "    <tr>\n",
              "      <th id=\"T_cfe03_level0_row8\" class=\"row_heading level0 row8\" >8</th>\n",
              "      <td id=\"T_cfe03_row8_col0\" class=\"data row8 col0\" >0.7297</td>\n",
              "      <td id=\"T_cfe03_row8_col1\" class=\"data row8 col1\" >0.7383</td>\n",
              "      <td id=\"T_cfe03_row8_col2\" class=\"data row8 col2\" >0.5833</td>\n",
              "      <td id=\"T_cfe03_row8_col3\" class=\"data row8 col3\" >0.5833</td>\n",
              "      <td id=\"T_cfe03_row8_col4\" class=\"data row8 col4\" >0.5833</td>\n",
              "      <td id=\"T_cfe03_row8_col5\" class=\"data row8 col5\" >0.3833</td>\n",
              "      <td id=\"T_cfe03_row8_col6\" class=\"data row8 col6\" >0.3833</td>\n",
              "    </tr>\n",
              "    <tr>\n",
              "      <th id=\"T_cfe03_level0_row9\" class=\"row_heading level0 row9\" >9</th>\n",
              "      <td id=\"T_cfe03_row9_col0\" class=\"data row9 col0\" >0.7838</td>\n",
              "      <td id=\"T_cfe03_row9_col1\" class=\"data row9 col1\" >0.8217</td>\n",
              "      <td id=\"T_cfe03_row9_col2\" class=\"data row9 col2\" >0.5833</td>\n",
              "      <td id=\"T_cfe03_row9_col3\" class=\"data row9 col3\" >0.7000</td>\n",
              "      <td id=\"T_cfe03_row9_col4\" class=\"data row9 col4\" >0.6364</td>\n",
              "      <td id=\"T_cfe03_row9_col5\" class=\"data row9 col5\" >0.4843</td>\n",
              "      <td id=\"T_cfe03_row9_col6\" class=\"data row9 col6\" >0.4884</td>\n",
              "    </tr>\n",
              "    <tr>\n",
              "      <th id=\"T_cfe03_level0_row10\" class=\"row_heading level0 row10\" >Mean</th>\n",
              "      <td id=\"T_cfe03_row10_col0\" class=\"data row10 col0\" >0.7655</td>\n",
              "      <td id=\"T_cfe03_row10_col1\" class=\"data row10 col1\" >0.7997</td>\n",
              "      <td id=\"T_cfe03_row10_col2\" class=\"data row10 col2\" >0.6718</td>\n",
              "      <td id=\"T_cfe03_row10_col3\" class=\"data row10 col3\" >0.6458</td>\n",
              "      <td id=\"T_cfe03_row10_col4\" class=\"data row10 col4\" >0.6547</td>\n",
              "      <td id=\"T_cfe03_row10_col5\" class=\"data row10 col5\" >0.4777</td>\n",
              "      <td id=\"T_cfe03_row10_col6\" class=\"data row10 col6\" >0.4816</td>\n",
              "    </tr>\n",
              "    <tr>\n",
              "      <th id=\"T_cfe03_level0_row11\" class=\"row_heading level0 row11\" >Std</th>\n",
              "      <td id=\"T_cfe03_row11_col0\" class=\"data row11 col0\" >0.0359</td>\n",
              "      <td id=\"T_cfe03_row11_col1\" class=\"data row11 col1\" >0.0560</td>\n",
              "      <td id=\"T_cfe03_row11_col2\" class=\"data row11 col2\" >0.0940</td>\n",
              "      <td id=\"T_cfe03_row11_col3\" class=\"data row11 col3\" >0.0541</td>\n",
              "      <td id=\"T_cfe03_row11_col4\" class=\"data row11 col4\" >0.0517</td>\n",
              "      <td id=\"T_cfe03_row11_col5\" class=\"data row11 col5\" >0.0768</td>\n",
              "      <td id=\"T_cfe03_row11_col6\" class=\"data row11 col6\" >0.0809</td>\n",
              "    </tr>\n",
              "  </tbody>\n",
              "</table>\n"
            ]
          },
          "metadata": {}
        },
        {
          "output_type": "display_data",
          "data": {
            "text/plain": [
              "Processing:   0%|          | 0/7 [00:00<?, ?it/s]"
            ],
            "application/vnd.jupyter.widget-view+json": {
              "version_major": 2,
              "version_minor": 0,
              "model_id": "7901ac67139148e2abc8a30ce77383e2"
            }
          },
          "metadata": {
            "application/vnd.jupyter.widget-view+json": {
              "colab": {
                "custom_widget_manager": {
                  "url": "https://ssl.gstatic.com/colaboratory-static/widgets/colab-cdn-widget-manager/b3e629b1971e1542/manager.min.js"
                }
              }
            }
          }
        },
        {
          "output_type": "stream",
          "name": "stdout",
          "text": [
            "Fitting 10 folds for each of 100 candidates, totalling 1000 fits\n"
          ]
        },
        {
          "output_type": "display_data",
          "data": {
            "text/plain": [
              "<IPython.core.display.HTML object>"
            ],
            "text/html": []
          },
          "metadata": {}
        }
      ]
    },
    {
      "cell_type": "code",
      "source": [
        "# plot confusion matrix\n",
        "plot_model(tuned_dt, plot = 'confusion_matrix')"
      ],
      "metadata": {
        "id": "I9ZYKyiceBVq",
        "colab": {
          "base_uri": "https://localhost:8080/",
          "height": 551
        },
        "outputId": "a9130e3e-3144-4207-9e7e-8c4da6ed26a5"
      },
      "execution_count": null,
      "outputs": [
        {
          "output_type": "display_data",
          "data": {
            "text/plain": [
              "<IPython.core.display.HTML object>"
            ],
            "text/html": []
          },
          "metadata": {}
        },
        {
          "output_type": "display_data",
          "data": {
            "text/plain": [
              "<Figure size 800x550 with 1 Axes>"
            ],
            "image/png": "[encoded data removed]"
          },
          "metadata": {}
        }
      ]
    },
    {
      "cell_type": "code",
      "source": [
        "# plot AUC\n",
        "plot_model(tuned_gbc, plot = 'auc')"
      ],
      "metadata": {
        "colab": {
          "base_uri": "https://localhost:8080/",
          "height": 524
        },
        "id": "R6AI0mXc-ukI",
        "outputId": "f3f620e5-77e4-4c35-936e-37d030283293"
      },
      "execution_count": null,
      "outputs": [
        {
          "output_type": "display_data",
          "data": {
            "text/plain": [
              "<IPython.core.display.HTML object>"
            ],
            "text/html": []
          },
          "metadata": {}
        },
        {
          "output_type": "display_data",
          "data": {
            "text/plain": [
              "<Figure size 800x550 with 1 Axes>"
            ],
            "image/png": "[encoded data removed]"
          },
          "metadata": {}
        }
      ]
    },
    {
      "cell_type": "code",
      "source": [
        "plot_model(tuned_gbc, plot='feature')"
      ],
      "metadata": {
        "colab": {
          "base_uri": "https://localhost:8080/",
          "height": 485
        },
        "id": "LNgUlETR-xog",
        "outputId": "51eefa82-d1f8-4516-e36f-cfa0f2cdd01c"
      },
      "execution_count": null,
      "outputs": [
        {
          "output_type": "display_data",
          "data": {
            "text/plain": [
              "<IPython.core.display.HTML object>"
            ],
            "text/html": []
          },
          "metadata": {}
        },
        {
          "output_type": "display_data",
          "data": {
            "text/plain": [
              "<Figure size 800x500 with 1 Axes>"
            ],
            "image/png": "[encoded data removed]"
          },
          "metadata": {}
        }
      ]
    },
    {
      "cell_type": "markdown",
      "source": [
        "## Tuned Gradient Boost Classifier now shows an overall better performance compared to Decision Tree"
      ],
      "metadata": {
        "id": "kk9lNbz1-6jN"
      }
    },
    {
      "cell_type": "markdown",
      "source": [
        "# 5. Implementing a custom-built hypertuned Gradient Boost Classifier "
      ],
      "metadata": {
        "id": "J5cTXUeGC4Dy"
      }
    },
    {
      "cell_type": "code",
      "source": [
        "import time\n",
        "import matplotlib.pyplot as plt\n",
        "from sklearn.linear_model import LogisticRegression\n",
        "from sklearn.ensemble import RandomForestClassifier\n",
        "from sklearn.ensemble import GradientBoostingClassifier\n",
        "from sklearn.model_selection import StratifiedKFold\n",
        "from sklearn.model_selection import train_test_split, GridSearchCV, cross_val_score\n",
        "from sklearn.metrics import confusion_matrix, accuracy_score, classification_report\n",
        "from sklearn.metrics import roc_auc_score,roc_curve,f1_score, precision_score, recall_score,auc,roc_curve\n",
        "from sklearn.model_selection import StratifiedShuffleSplit\n",
        "\n",
        "\n",
        "from sklearn.preprocessing import  LabelEncoder\n",
        "from sklearn.preprocessing import MinMaxScaler\n",
        "from imblearn.over_sampling import SMOTE"
      ],
      "metadata": {
        "id": "x4_eh7JU-0bK"
      },
      "execution_count": null,
      "outputs": []
    },
    {
      "cell_type": "code",
      "source": [
        "def pima_data_prep(df = None, do_balance = False):\n",
        "    X = df.drop([\"diabetic/non-diabetic\"], axis = 1)\n",
        "    y = df[\"diabetic/non-diabetic\"]\n",
        "        \n",
        "    if do_balance:\n",
        "        # transform the dataset\n",
        "        oversample = SMOTE(random_state=123)\n",
        "        X, y = oversample.fit_resample(X, y)        \n",
        "    \n",
        "    scaler = MinMaxScaler()\n",
        "    X = scaler.fit_transform(X)\n",
        "    \n",
        "    X_train, X_test, y_train, y_test = train_test_split(X, y, \n",
        "                                                    test_size = 0.30, \n",
        "                                                    random_state = 123)\n",
        "\n",
        "    return X, y ,X_train, X_test, y_train, y_test"
      ],
      "metadata": {
        "id": "OV7qFOmMAZvx"
      },
      "execution_count": null,
      "outputs": []
    },
    {
      "cell_type": "code",
      "source": [
        "# Utility function to train and evaluate a model on PIMA dataset\n",
        "def train_and_evaluate_model(model,X,y, verbose=False, n_splits=10):\n",
        "    acc = 0\n",
        "    auc = 0\n",
        "    f1 = 0\n",
        "    prec = 0\n",
        "    recall = 0\n",
        "    \n",
        "    sss = StratifiedShuffleSplit(n_splits=n_splits, test_size=0.3, random_state=123)\n",
        "    \n",
        "    start_time = time.time()\n",
        "    for train_index, test_index in sss.split(X, y):\n",
        "        if X is pd.DataFrame:\n",
        "            X_train, X_test = X.iloc[train_index], X.iloc[test_index]\n",
        "        else:\n",
        "            X_train, X_test = X[train_index], X[test_index]\n",
        "          \n",
        "        y_train, y_test = y.iloc[train_index], y.iloc[test_index]\n",
        "        model.fit(X_train, y_train)\n",
        "        y_pred = model.predict(X_test)\n",
        "        \n",
        "        acc1 = accuracy_score(y_test, y_pred)\n",
        "        auc1 = roc_auc_score(y_test, y_pred, average=\"macro\")\n",
        "        f11 = f1_score(y_test, y_pred, average=\"macro\")\n",
        "        prec1 = precision_score(y_test, y_pred, average=\"macro\")\n",
        "        recall1 = recall_score(y_test, y_pred, average=\"macro\")\n",
        "        if verbose:\n",
        "            print('acc', acc1)\n",
        "            print('f1', f11)\n",
        "            print('recall1', recall1)\n",
        "            print('auc1', auc1)\n",
        "        acc += acc1\n",
        "        auc += auc1\n",
        "        f1 += f11\n",
        "        prec += prec1\n",
        "        recall += recall1\n",
        "        \n",
        "    spent_time = time.time() - start_time\n",
        "    print(\"Acc      F-Meas   Precis   Recall   AUC      Time\")\n",
        "    print(\"%.04f\\t%.04f\\t%.04f\\t%.04f\\t%.04f\\t%0.4f\" % (acc/n_splits, f1/n_splits, prec/n_splits, \n",
        "                                            recall/n_splits, auc/n_splits, spent_time))"
      ],
      "metadata": {
        "id": "rAiM6rkoAdEV"
      },
      "execution_count": null,
      "outputs": []
    },
    {
      "cell_type": "code",
      "source": [
        "clf = GradientBoostingClassifier()"
      ],
      "metadata": {
        "id": "ChWGIFN5Agv7"
      },
      "execution_count": null,
      "outputs": []
    },
    {
      "cell_type": "code",
      "source": [
        "# Prepare dataset with No feature Selection No balancing\n",
        "X,y, X_train, X_test, y_train, y_test = pima_data_prep(df, do_balance=False)"
      ],
      "metadata": {
        "id": "hDgaKPXKBF0C"
      },
      "execution_count": null,
      "outputs": []
    },
    {
      "cell_type": "code",
      "source": [
        "#  Train and evaluate the Gradient Boosting Classifier Model\n",
        "train_and_evaluate_model(clf, X, y, verbose=False)"
      ],
      "metadata": {
        "colab": {
          "base_uri": "https://localhost:8080/"
        },
        "id": "wyHwwUbEBI7O",
        "outputId": "4e0e1dfe-2c23-4a19-82e9-97dc5537e8d4"
      },
      "execution_count": null,
      "outputs": [
        {
          "output_type": "stream",
          "name": "stdout",
          "text": [
            "Acc      F-Meas   Precis   Recall   AUC      Time\n",
            "0.7660\t0.7288\t0.7426\t0.7236\t0.7236\t1.0996\n"
          ]
        }
      ]
    },
    {
      "cell_type": "code",
      "source": [
        "gbc = GradientBoostingClassifier()\n",
        "parameters = {\n",
        "    \"n_estimators\":[5,50,250,500],\n",
        "    \"max_depth\":[1,3,5,7,9],\n",
        "    \"learning_rate\":[0.01,0.1,1,10,100]\n",
        "}"
      ],
      "metadata": {
        "id": "w8mfDl7WJ_hm"
      },
      "execution_count": null,
      "outputs": []
    },
    {
      "cell_type": "code",
      "source": [
        "from sklearn.model_selection import GridSearchCV\n",
        "cv = GridSearchCV(gbc,parameters,cv=5)\n",
        "cv.fit(X_train,y_train.values.ravel())"
      ],
      "metadata": {
        "colab": {
          "base_uri": "https://localhost:8080/",
          "height": 118
        },
        "id": "y3jMu57zKtdc",
        "outputId": "440cfbf6-0e3e-4c5d-e986-83aafb5731b2"
      },
      "execution_count": null,
      "outputs": [
        {
          "output_type": "execute_result",
          "data": {
            "text/plain": [
              "GridSearchCV(cv=5, error_score=nan,\n",
              "             estimator=GradientBoostingClassifier(ccp_alpha=0.0,\n",
              "                                                  criterion='friedman_mse',\n",
              "                                                  init=None, learning_rate=0.1,\n",
              "                                                  loss='log_loss', max_depth=3,\n",
              "                                                  max_features=None,\n",
              "                                                  max_leaf_nodes=None,\n",
              "                                                  min_impurity_decrease=0.0,\n",
              "                                                  min_samples_leaf=1,\n",
              "                                                  min_samples_split=2,\n",
              "                                                  min_weight_fraction_leaf=0.0,\n",
              "                                                  n_estimators=100,\n",
              "                                                  n_iter_no_change=None,\n",
              "                                                  random_state=None,\n",
              "                                                  subsample=1.0, tol=0.0001,\n",
              "                                                  validation_fraction=0.1,\n",
              "                                                  verbose=0, warm_start=False),\n",
              "             n_jobs=None,\n",
              "             param_grid={'learning_rate': [0.01, 0.1, 1, 10, 100],\n",
              "                         'max_depth': [1, 3, 5, 7, 9],\n",
              "                         'n_estimators': [5, 50, 250, 500]},\n",
              "             pre_dispatch='2*n_jobs', refit=True, return_train_score=False,\n",
              "             scoring=None, verbose=0)"
            ],
            "text/html": [
              "<style>#sk-container-id-1 {color: black;background-color: white;}#sk-container-id-1 pre{padding: 0;}#sk-container-id-1 div.sk-toggleable {background-color: white;}#sk-container-id-1 label.sk-toggleable__label {cursor: pointer;display: block;width: 100%;margin-bottom: 0;padding: 0.3em;box-sizing: border-box;text-align: center;}#sk-container-id-1 label.sk-toggleable__label-arrow:before {content: \"▸\";float: left;margin-right: 0.25em;color: #696969;}#sk-container-id-1 label.sk-toggleable__label-arrow:hover:before {color: black;}#sk-container-id-1 div.sk-estimator:hover label.sk-toggleable__label-arrow:before {color: black;}#sk-container-id-1 div.sk-toggleable__content {max-height: 0;max-width: 0;overflow: hidden;text-align: left;background-color: #f0f8ff;}#sk-container-id-1 div.sk-toggleable__content pre {margin: 0.2em;color: black;border-radius: 0.25em;background-color: #f0f8ff;}#sk-container-id-1 input.sk-toggleable__control:checked~div.sk-toggleable__content {max-height: 200px;max-width: 100%;overflow: auto;}#sk-container-id-1 input.sk-toggleable__control:checked~label.sk-toggleable__label-arrow:before {content: \"▾\";}#sk-container-id-1 div.sk-estimator input.sk-toggleable__control:checked~label.sk-toggleable__label {background-color: #d4ebff;}#sk-container-id-1 div.sk-label input.sk-toggleable__control:checked~label.sk-toggleable__label {background-color: #d4ebff;}#sk-container-id-1 input.sk-hidden--visually {border: 0;clip: rect(1px 1px 1px 1px);clip: rect(1px, 1px, 1px, 1px);height: 1px;margin: -1px;overflow: hidden;padding: 0;position: absolute;width: 1px;}#sk-container-id-1 div.sk-estimator {font-family: monospace;background-color: #f0f8ff;border: 1px dotted black;border-radius: 0.25em;box-sizing: border-box;margin-bottom: 0.5em;}#sk-container-id-1 div.sk-estimator:hover {background-color: #d4ebff;}#sk-container-id-1 div.sk-parallel-item::after {content: \"\";width: 100%;border-bottom: 1px solid gray;flex-grow: 1;}#sk-container-id-1 div.sk-label:hover label.sk-toggleable__label {background-color: #d4ebff;}#sk-container-id-1 div.sk-serial::before {content: \"\";position: absolute;border-left: 1px solid gray;box-sizing: border-box;top: 0;bottom: 0;left: 50%;z-index: 0;}#sk-container-id-1 div.sk-serial {display: flex;flex-direction: column;align-items: center;background-color: white;padding-right: 0.2em;padding-left: 0.2em;position: relative;}#sk-container-id-1 div.sk-item {position: relative;z-index: 1;}#sk-container-id-1 div.sk-parallel {display: flex;align-items: stretch;justify-content: center;background-color: white;position: relative;}#sk-container-id-1 div.sk-item::before, #sk-container-id-1 div.sk-parallel-item::before {content: \"\";position: absolute;border-left: 1px solid gray;box-sizing: border-box;top: 0;bottom: 0;left: 50%;z-index: -1;}#sk-container-id-1 div.sk-parallel-item {display: flex;flex-direction: column;z-index: 1;position: relative;background-color: white;}#sk-container-id-1 div.sk-parallel-item:first-child::after {align-self: flex-end;width: 50%;}#sk-container-id-1 div.sk-parallel-item:last-child::after {align-self: flex-start;width: 50%;}#sk-container-id-1 div.sk-parallel-item:only-child::after {width: 0;}#sk-container-id-1 div.sk-dashed-wrapped {border: 1px dashed gray;margin: 0 0.4em 0.5em 0.4em;box-sizing: border-box;padding-bottom: 0.4em;background-color: white;}#sk-container-id-1 div.sk-label label {font-family: monospace;font-weight: bold;display: inline-block;line-height: 1.2em;}#sk-container-id-1 div.sk-label-container {text-align: center;}#sk-container-id-1 div.sk-container {/* jupyter's `normalize.less` sets `[hidden] { display: none; }` but bootstrap.min.css set `[hidden] { display: none !important; }` so we also need the `!important` here to be able to override the default hidden behavior on the sphinx rendered scikit-learn.org. See: https://github.com/scikit-learn/scikit-learn/issues/21755 */display: inline-block !important;position: relative;}#sk-container-id-1 div.sk-text-repr-fallback {display: none;}</style><div id=\"sk-container-id-1\" class=\"sk-top-container\"><div class=\"sk-text-repr-fallback\"><pre>GridSearchCV(cv=5, error_score=nan,\n",
              "             estimator=GradientBoostingClassifier(ccp_alpha=0.0,\n",
              "                                                  criterion=&#x27;friedman_mse&#x27;,\n",
              "                                                  init=None, learning_rate=0.1,\n",
              "                                                  loss=&#x27;log_loss&#x27;, max_depth=3,\n",
              "                                                  max_features=None,\n",
              "                                                  max_leaf_nodes=None,\n",
              "                                                  min_impurity_decrease=0.0,\n",
              "                                                  min_samples_leaf=1,\n",
              "                                                  min_samples_split=2,\n",
              "                                                  min_weight_fraction_leaf=0.0,\n",
              "                                                  n_estimators=100,\n",
              "                                                  n_iter_no_change=None,\n",
              "                                                  random_state=None,\n",
              "                                                  subsample=1.0, tol=0.0001,\n",
              "                                                  validation_fraction=0.1,\n",
              "                                                  verbose=0, warm_start=False),\n",
              "             n_jobs=None,\n",
              "             param_grid={&#x27;learning_rate&#x27;: [0.01, 0.1, 1, 10, 100],\n",
              "                         &#x27;max_depth&#x27;: [1, 3, 5, 7, 9],\n",
              "                         &#x27;n_estimators&#x27;: [5, 50, 250, 500]},\n",
              "             pre_dispatch=&#x27;2*n_jobs&#x27;, refit=True, return_train_score=False,\n",
              "             scoring=None, verbose=0)</pre><b>In a Jupyter environment, please rerun this cell to show the HTML representation or trust the notebook. <br />On GitHub, the HTML representation is unable to render, please try loading this page with nbviewer.org.</b></div><div class=\"sk-container\" hidden><div class=\"sk-item sk-dashed-wrapped\"><div class=\"sk-label-container\"><div class=\"sk-label sk-toggleable\"><input class=\"sk-toggleable__control sk-hidden--visually\" id=\"sk-estimator-id-1\" type=\"checkbox\" ><label for=\"sk-estimator-id-1\" class=\"sk-toggleable__label sk-toggleable__label-arrow\">GridSearchCV</label><div class=\"sk-toggleable__content\"><pre>GridSearchCV(cv=5, error_score=nan,\n",
              "             estimator=GradientBoostingClassifier(ccp_alpha=0.0,\n",
              "                                                  criterion=&#x27;friedman_mse&#x27;,\n",
              "                                                  init=None, learning_rate=0.1,\n",
              "                                                  loss=&#x27;log_loss&#x27;, max_depth=3,\n",
              "                                                  max_features=None,\n",
              "                                                  max_leaf_nodes=None,\n",
              "                                                  min_impurity_decrease=0.0,\n",
              "                                                  min_samples_leaf=1,\n",
              "                                                  min_samples_split=2,\n",
              "                                                  min_weight_fraction_leaf=0.0,\n",
              "                                                  n_estimators=100,\n",
              "                                                  n_iter_no_change=None,\n",
              "                                                  random_state=None,\n",
              "                                                  subsample=1.0, tol=0.0001,\n",
              "                                                  validation_fraction=0.1,\n",
              "                                                  verbose=0, warm_start=False),\n",
              "             n_jobs=None,\n",
              "             param_grid={&#x27;learning_rate&#x27;: [0.01, 0.1, 1, 10, 100],\n",
              "                         &#x27;max_depth&#x27;: [1, 3, 5, 7, 9],\n",
              "                         &#x27;n_estimators&#x27;: [5, 50, 250, 500]},\n",
              "             pre_dispatch=&#x27;2*n_jobs&#x27;, refit=True, return_train_score=False,\n",
              "             scoring=None, verbose=0)</pre></div></div></div><div class=\"sk-parallel\"><div class=\"sk-parallel-item\"><div class=\"sk-item\"><div class=\"sk-label-container\"><div class=\"sk-label sk-toggleable\"><input class=\"sk-toggleable__control sk-hidden--visually\" id=\"sk-estimator-id-2\" type=\"checkbox\" ><label for=\"sk-estimator-id-2\" class=\"sk-toggleable__label sk-toggleable__label-arrow\">estimator: GradientBoostingClassifier</label><div class=\"sk-toggleable__content\"><pre>GradientBoostingClassifier(ccp_alpha=0.0, criterion=&#x27;friedman_mse&#x27;, init=None,\n",
              "                           learning_rate=0.1, loss=&#x27;log_loss&#x27;, max_depth=3,\n",
              "                           max_features=None, max_leaf_nodes=None,\n",
              "                           min_impurity_decrease=0.0, min_samples_leaf=1,\n",
              "                           min_samples_split=2, min_weight_fraction_leaf=0.0,\n",
              "                           n_estimators=100, n_iter_no_change=None,\n",
              "                           random_state=None, subsample=1.0, tol=0.0001,\n",
              "                           validation_fraction=0.1, verbose=0,\n",
              "                           warm_start=False)</pre></div></div></div><div class=\"sk-serial\"><div class=\"sk-item\"><div class=\"sk-estimator sk-toggleable\"><input class=\"sk-toggleable__control sk-hidden--visually\" id=\"sk-estimator-id-3\" type=\"checkbox\" ><label for=\"sk-estimator-id-3\" class=\"sk-toggleable__label sk-toggleable__label-arrow\">GradientBoostingClassifier</label><div class=\"sk-toggleable__content\"><pre>GradientBoostingClassifier()</pre></div></div></div></div></div></div></div></div></div></div>"
            ]
          },
          "metadata": {},
          "execution_count": 42
        }
      ]
    },
    {
      "cell_type": "code",
      "source": [
        "def display(results):\n",
        "    print(f'Best parameters are: {results.best_params_}')\n",
        "    print(\"\\n\")\n",
        "    mean_score = results.cv_results_['mean_test_score']\n",
        "    std_score = results.cv_results_['std_test_score']\n",
        "    params = results.cv_results_['params']\n",
        "    for mean,std,params in zip(mean_score,std_score,params):\n",
        "        print(f'{round(mean,3)} + or -{round(std,3)} for the {params}')"
      ],
      "metadata": {
        "id": "v_LJDaweKwkw"
      },
      "execution_count": null,
      "outputs": []
    },
    {
      "cell_type": "code",
      "source": [
        "display(cv)"
      ],
      "metadata": {
        "colab": {
          "base_uri": "https://localhost:8080/"
        },
        "id": "KvM9EWRTMP-W",
        "outputId": "1a01623c-dd81-40d8-a6ad-17f7679dbb82"
      },
      "execution_count": null,
      "outputs": [
        {
          "output_type": "stream",
          "name": "stdout",
          "text": [
            "Best parameters are: {'learning_rate': 0.01, 'max_depth': 1, 'n_estimators': 250}\n",
            "\n",
            "\n",
            "0.672 + or -0.007 for the {'learning_rate': 0.01, 'max_depth': 1, 'n_estimators': 5}\n",
            "0.715 + or -0.05 for the {'learning_rate': 0.01, 'max_depth': 1, 'n_estimators': 50}\n",
            "0.776 + or -0.042 for the {'learning_rate': 0.01, 'max_depth': 1, 'n_estimators': 250}\n",
            "0.765 + or -0.04 for the {'learning_rate': 0.01, 'max_depth': 1, 'n_estimators': 500}\n",
            "0.672 + or -0.007 for the {'learning_rate': 0.01, 'max_depth': 3, 'n_estimators': 5}\n",
            "0.747 + or -0.029 for the {'learning_rate': 0.01, 'max_depth': 3, 'n_estimators': 50}\n",
            "0.768 + or -0.047 for the {'learning_rate': 0.01, 'max_depth': 3, 'n_estimators': 250}\n",
            "0.757 + or -0.049 for the {'learning_rate': 0.01, 'max_depth': 3, 'n_estimators': 500}\n",
            "0.672 + or -0.007 for the {'learning_rate': 0.01, 'max_depth': 5, 'n_estimators': 5}\n",
            "0.747 + or -0.029 for the {'learning_rate': 0.01, 'max_depth': 5, 'n_estimators': 50}\n",
            "0.736 + or -0.027 for the {'learning_rate': 0.01, 'max_depth': 5, 'n_estimators': 250}\n",
            "0.741 + or -0.038 for the {'learning_rate': 0.01, 'max_depth': 5, 'n_estimators': 500}\n",
            "0.672 + or -0.007 for the {'learning_rate': 0.01, 'max_depth': 7, 'n_estimators': 5}\n",
            "0.72 + or -0.019 for the {'learning_rate': 0.01, 'max_depth': 7, 'n_estimators': 50}\n",
            "0.728 + or -0.022 for the {'learning_rate': 0.01, 'max_depth': 7, 'n_estimators': 250}\n",
            "0.728 + or -0.014 for the {'learning_rate': 0.01, 'max_depth': 7, 'n_estimators': 500}\n",
            "0.672 + or -0.007 for the {'learning_rate': 0.01, 'max_depth': 9, 'n_estimators': 5}\n",
            "0.68 + or -0.036 for the {'learning_rate': 0.01, 'max_depth': 9, 'n_estimators': 50}\n",
            "0.688 + or -0.034 for the {'learning_rate': 0.01, 'max_depth': 9, 'n_estimators': 250}\n",
            "0.696 + or -0.028 for the {'learning_rate': 0.01, 'max_depth': 9, 'n_estimators': 500}\n",
            "0.715 + or -0.05 for the {'learning_rate': 0.1, 'max_depth': 1, 'n_estimators': 5}\n",
            "0.763 + or -0.048 for the {'learning_rate': 0.1, 'max_depth': 1, 'n_estimators': 50}\n",
            "0.76 + or -0.047 for the {'learning_rate': 0.1, 'max_depth': 1, 'n_estimators': 250}\n",
            "0.763 + or -0.052 for the {'learning_rate': 0.1, 'max_depth': 1, 'n_estimators': 500}\n",
            "0.744 + or -0.042 for the {'learning_rate': 0.1, 'max_depth': 3, 'n_estimators': 5}\n",
            "0.768 + or -0.043 for the {'learning_rate': 0.1, 'max_depth': 3, 'n_estimators': 50}\n",
            "0.733 + or -0.048 for the {'learning_rate': 0.1, 'max_depth': 3, 'n_estimators': 250}\n",
            "0.744 + or -0.037 for the {'learning_rate': 0.1, 'max_depth': 3, 'n_estimators': 500}\n",
            "0.741 + or -0.025 for the {'learning_rate': 0.1, 'max_depth': 5, 'n_estimators': 5}\n",
            "0.747 + or -0.045 for the {'learning_rate': 0.1, 'max_depth': 5, 'n_estimators': 50}\n",
            "0.744 + or -0.039 for the {'learning_rate': 0.1, 'max_depth': 5, 'n_estimators': 250}\n",
            "0.731 + or -0.039 for the {'learning_rate': 0.1, 'max_depth': 5, 'n_estimators': 500}\n",
            "0.717 + or -0.023 for the {'learning_rate': 0.1, 'max_depth': 7, 'n_estimators': 5}\n",
            "0.731 + or -0.027 for the {'learning_rate': 0.1, 'max_depth': 7, 'n_estimators': 50}\n",
            "0.733 + or -0.029 for the {'learning_rate': 0.1, 'max_depth': 7, 'n_estimators': 250}\n",
            "0.731 + or -0.033 for the {'learning_rate': 0.1, 'max_depth': 7, 'n_estimators': 500}\n",
            "0.675 + or -0.038 for the {'learning_rate': 0.1, 'max_depth': 9, 'n_estimators': 5}\n",
            "0.696 + or -0.016 for the {'learning_rate': 0.1, 'max_depth': 9, 'n_estimators': 50}\n",
            "0.68 + or -0.035 for the {'learning_rate': 0.1, 'max_depth': 9, 'n_estimators': 250}\n",
            "0.704 + or -0.049 for the {'learning_rate': 0.1, 'max_depth': 9, 'n_estimators': 500}\n",
            "0.768 + or -0.048 for the {'learning_rate': 1, 'max_depth': 1, 'n_estimators': 5}\n",
            "0.752 + or -0.056 for the {'learning_rate': 1, 'max_depth': 1, 'n_estimators': 50}\n",
            "0.731 + or -0.045 for the {'learning_rate': 1, 'max_depth': 1, 'n_estimators': 250}\n",
            "0.728 + or -0.045 for the {'learning_rate': 1, 'max_depth': 1, 'n_estimators': 500}\n",
            "0.731 + or -0.042 for the {'learning_rate': 1, 'max_depth': 3, 'n_estimators': 5}\n",
            "0.731 + or -0.042 for the {'learning_rate': 1, 'max_depth': 3, 'n_estimators': 50}\n",
            "0.741 + or -0.036 for the {'learning_rate': 1, 'max_depth': 3, 'n_estimators': 250}\n",
            "0.733 + or -0.037 for the {'learning_rate': 1, 'max_depth': 3, 'n_estimators': 500}\n",
            "0.696 + or -0.02 for the {'learning_rate': 1, 'max_depth': 5, 'n_estimators': 5}\n",
            "0.76 + or -0.03 for the {'learning_rate': 1, 'max_depth': 5, 'n_estimators': 50}\n",
            "0.752 + or -0.03 for the {'learning_rate': 1, 'max_depth': 5, 'n_estimators': 250}\n",
            "0.739 + or -0.027 for the {'learning_rate': 1, 'max_depth': 5, 'n_estimators': 500}\n",
            "0.728 + or -0.04 for the {'learning_rate': 1, 'max_depth': 7, 'n_estimators': 5}\n",
            "0.744 + or -0.042 for the {'learning_rate': 1, 'max_depth': 7, 'n_estimators': 50}\n",
            "0.717 + or -0.026 for the {'learning_rate': 1, 'max_depth': 7, 'n_estimators': 250}\n",
            "0.739 + or -0.02 for the {'learning_rate': 1, 'max_depth': 7, 'n_estimators': 500}\n",
            "0.691 + or -0.031 for the {'learning_rate': 1, 'max_depth': 9, 'n_estimators': 5}\n",
            "0.723 + or -0.028 for the {'learning_rate': 1, 'max_depth': 9, 'n_estimators': 50}\n",
            "0.728 + or -0.025 for the {'learning_rate': 1, 'max_depth': 9, 'n_estimators': 250}\n",
            "0.707 + or -0.022 for the {'learning_rate': 1, 'max_depth': 9, 'n_estimators': 500}\n",
            "0.264 + or -0.042 for the {'learning_rate': 10, 'max_depth': 1, 'n_estimators': 5}\n",
            "0.264 + or -0.042 for the {'learning_rate': 10, 'max_depth': 1, 'n_estimators': 50}\n",
            "0.264 + or -0.042 for the {'learning_rate': 10, 'max_depth': 1, 'n_estimators': 250}\n",
            "0.264 + or -0.042 for the {'learning_rate': 10, 'max_depth': 1, 'n_estimators': 500}\n",
            "0.52 + or -0.115 for the {'learning_rate': 10, 'max_depth': 3, 'n_estimators': 5}\n",
            "0.52 + or -0.115 for the {'learning_rate': 10, 'max_depth': 3, 'n_estimators': 50}\n",
            "0.52 + or -0.115 for the {'learning_rate': 10, 'max_depth': 3, 'n_estimators': 250}\n",
            "0.52 + or -0.115 for the {'learning_rate': 10, 'max_depth': 3, 'n_estimators': 500}\n",
            "0.597 + or -0.075 for the {'learning_rate': 10, 'max_depth': 5, 'n_estimators': 5}\n",
            "0.579 + or -0.125 for the {'learning_rate': 10, 'max_depth': 5, 'n_estimators': 50}\n",
            "0.483 + or -0.1 for the {'learning_rate': 10, 'max_depth': 5, 'n_estimators': 250}\n",
            "0.531 + or -0.127 for the {'learning_rate': 10, 'max_depth': 5, 'n_estimators': 500}\n",
            "0.675 + or -0.066 for the {'learning_rate': 10, 'max_depth': 7, 'n_estimators': 5}\n",
            "0.653 + or -0.034 for the {'learning_rate': 10, 'max_depth': 7, 'n_estimators': 50}\n",
            "0.699 + or -0.058 for the {'learning_rate': 10, 'max_depth': 7, 'n_estimators': 250}\n",
            "0.669 + or -0.032 for the {'learning_rate': 10, 'max_depth': 7, 'n_estimators': 500}\n",
            "0.659 + or -0.036 for the {'learning_rate': 10, 'max_depth': 9, 'n_estimators': 5}\n",
            "0.661 + or -0.062 for the {'learning_rate': 10, 'max_depth': 9, 'n_estimators': 50}\n",
            "0.664 + or -0.056 for the {'learning_rate': 10, 'max_depth': 9, 'n_estimators': 250}\n",
            "0.672 + or -0.043 for the {'learning_rate': 10, 'max_depth': 9, 'n_estimators': 500}\n",
            "0.293 + or -0.053 for the {'learning_rate': 100, 'max_depth': 1, 'n_estimators': 5}\n",
            "0.293 + or -0.053 for the {'learning_rate': 100, 'max_depth': 1, 'n_estimators': 50}\n",
            "0.293 + or -0.053 for the {'learning_rate': 100, 'max_depth': 1, 'n_estimators': 250}\n",
            "0.293 + or -0.053 for the {'learning_rate': 100, 'max_depth': 1, 'n_estimators': 500}\n",
            "0.347 + or -0.142 for the {'learning_rate': 100, 'max_depth': 3, 'n_estimators': 5}\n",
            "0.347 + or -0.142 for the {'learning_rate': 100, 'max_depth': 3, 'n_estimators': 50}\n",
            "0.347 + or -0.142 for the {'learning_rate': 100, 'max_depth': 3, 'n_estimators': 250}\n",
            "0.347 + or -0.142 for the {'learning_rate': 100, 'max_depth': 3, 'n_estimators': 500}\n",
            "0.427 + or -0.101 for the {'learning_rate': 100, 'max_depth': 5, 'n_estimators': 5}\n",
            "0.405 + or -0.054 for the {'learning_rate': 100, 'max_depth': 5, 'n_estimators': 50}\n",
            "0.397 + or -0.049 for the {'learning_rate': 100, 'max_depth': 5, 'n_estimators': 250}\n",
            "0.424 + or -0.077 for the {'learning_rate': 100, 'max_depth': 5, 'n_estimators': 500}\n",
            "0.611 + or -0.033 for the {'learning_rate': 100, 'max_depth': 7, 'n_estimators': 5}\n",
            "0.541 + or -0.109 for the {'learning_rate': 100, 'max_depth': 7, 'n_estimators': 50}\n",
            "0.536 + or -0.038 for the {'learning_rate': 100, 'max_depth': 7, 'n_estimators': 250}\n",
            "0.539 + or -0.082 for the {'learning_rate': 100, 'max_depth': 7, 'n_estimators': 500}\n",
            "0.659 + or -0.025 for the {'learning_rate': 100, 'max_depth': 9, 'n_estimators': 5}\n",
            "0.621 + or -0.142 for the {'learning_rate': 100, 'max_depth': 9, 'n_estimators': 50}\n",
            "0.68 + or -0.024 for the {'learning_rate': 100, 'max_depth': 9, 'n_estimators': 250}\n",
            "0.635 + or -0.151 for the {'learning_rate': 100, 'max_depth': 9, 'n_estimators': 500}\n"
          ]
        }
      ]
    },
    {
      "cell_type": "code",
      "source": [
        "tuned_clf = GradientBoostingClassifier(ccp_alpha=0.0,\n",
        "                                                  criterion='friedman_mse',\n",
        "                                                  init=None, learning_rate=0.01,\n",
        "                                                  loss='log_loss', max_depth=1,\n",
        "                                                  max_features=None,\n",
        "                                                  max_leaf_nodes=None,\n",
        "                                                  min_impurity_decrease=0.0,\n",
        "                                                  min_samples_leaf=1,\n",
        "                                                  min_samples_split=2,\n",
        "                                                  min_weight_fraction_leaf=0.0,\n",
        "                                                  n_estimators=250,\n",
        "                                                  n_iter_no_change=None,\n",
        "                                                  random_state=None,\n",
        "                                                  subsample=1.0, tol=0.0001,\n",
        "                                                  validation_fraction=0.1,\n",
        "                                                  verbose=0, warm_start=False)"
      ],
      "metadata": {
        "id": "kKc0ZWwHMSo-"
      },
      "execution_count": null,
      "outputs": []
    },
    {
      "cell_type": "code",
      "source": [
        "tuned_clf.fit(X_train, y_train)\n",
        "y_pred = tuned_clf.predict(X_test)\n",
        "\n",
        "acc = accuracy_score(y_test, y_pred)\n",
        "auc = roc_auc_score(y_test, y_pred, average=\"macro\")\n",
        "f1 = f1_score(y_test, y_pred, average=\"macro\")\n",
        "prec = precision_score(y_test, y_pred, average=\"macro\")\n",
        "recall = recall_score(y_test, y_pred, average=\"macro\")\n",
        "print(\"acc = \",acc)\n",
        "print(\"auc = \",auc)\n",
        "print(\"f1 = \",f1)\n",
        "print(\"precision = \",prec)\n",
        "print(\"recall = \",recall)"
      ],
      "metadata": {
        "colab": {
          "base_uri": "https://localhost:8080/"
        },
        "id": "GLLNiCCLNheX",
        "outputId": "cc1cbc21-0a44-42ef-8f7a-6b5b1b462117"
      },
      "execution_count": null,
      "outputs": [
        {
          "output_type": "stream",
          "name": "stdout",
          "text": [
            "acc =  0.7530864197530864\n",
            "auc =  0.6681266846361186\n",
            "f1 =  0.6785714285714285\n",
            "precision =  0.7659914712153518\n",
            "recall =  0.6681266846361186\n"
          ]
        }
      ]
    },
    {
      "cell_type": "code",
      "source": [
        "train_and_evaluate_model(tuned_clf, X, y, verbose=False)"
      ],
      "metadata": {
        "id": "88AlDTP-ObmR",
        "colab": {
          "base_uri": "https://localhost:8080/"
        },
        "outputId": "9b89cabe-2256-4175-d1eb-c0fc842b2b62"
      },
      "execution_count": null,
      "outputs": [
        {
          "output_type": "stream",
          "name": "stdout",
          "text": [
            "Acc      F-Meas   Precis   Recall   AUC      Time\n",
            "0.7636\t0.6975\t0.7572\t0.6847\t0.6847\t2.9380\n"
          ]
        }
      ]
    },
    {
      "cell_type": "code",
      "source": [
        "train_and_evaluate_model(tuned_gbc, X, y, verbose=False)"
      ],
      "metadata": {
        "colab": {
          "base_uri": "https://localhost:8080/"
        },
        "id": "Z9TbRfLq2Z72",
        "outputId": "4c7b068e-1051-4888-bf34-898c3678ccae"
      },
      "execution_count": null,
      "outputs": [
        {
          "output_type": "stream",
          "name": "stdout",
          "text": [
            "Acc      F-Meas   Precis   Recall   AUC      Time\n",
            "0.7438\t0.7062\t0.7141\t0.7028\t0.7028\t0.6393\n"
          ]
        }
      ]
    },
    {
      "cell_type": "code",
      "source": [
        "train_and_evaluate_model(tuned_dt, X, y, verbose=False)"
      ],
      "metadata": {
        "colab": {
          "base_uri": "https://localhost:8080/"
        },
        "id": "hvT30KWl2ccc",
        "outputId": "73b76bef-dd89-4c4f-9c32-bb4e5d2d57ae"
      },
      "execution_count": null,
      "outputs": [
        {
          "output_type": "stream",
          "name": "stdout",
          "text": [
            "Acc      F-Meas   Precis   Recall   AUC      Time\n",
            "0.7160\t0.6723\t0.6791\t0.6699\t0.6699\t0.1213\n"
          ]
        }
      ]
    },
    {
      "cell_type": "markdown",
      "source": [
        "# Thus, the custom-built hypertuned Gradient Boost Classifier works the best"
      ],
      "metadata": {
        "id": "30r5VUVHDYbu"
      }
    },
    {
      "cell_type": "code",
      "source": [
        "# Do prediction (example) with the trained model\n",
        "y_pred = tuned_clf.predict(X_test)\n"
      ],
      "metadata": {
        "id": "hnHT2KWB149b"
      },
      "execution_count": null,
      "outputs": []
    },
    {
      "cell_type": "code",
      "source": [
        "# if We have the labels with can also evaluate the prediction        \n",
        "acc1 = accuracy_score(y_test, y_pred)\n",
        "auc1 = roc_auc_score(y_test, y_pred, average=\"macro\")\n",
        "f11 = f1_score(y_test, y_pred, average=\"macro\")\n",
        "prec1 = precision_score(y_test, y_pred, average=\"macro\")\n",
        "recall1 = recall_score(y_test, y_pred, average=\"macro\")\n",
        "print ('acc', acc1)\n",
        "print('f1', f11)\n",
        "print('recall1', recall1)\n",
        "print('auc1', auc1)\n"
      ],
      "metadata": {
        "colab": {
          "base_uri": "https://localhost:8080/"
        },
        "id": "PIaEHwFF2F_r",
        "outputId": "a0f1b98d-8281-48a4-fc86-9a4620e7e0fc"
      },
      "execution_count": null,
      "outputs": [
        {
          "output_type": "stream",
          "name": "stdout",
          "text": [
            "acc 0.7839506172839507\n",
            "f1 0.7208958897366479\n",
            "recall1 0.7043463611859838\n",
            "auc1 0.7043463611859838\n"
          ]
        }
      ]
    }
  ]
}